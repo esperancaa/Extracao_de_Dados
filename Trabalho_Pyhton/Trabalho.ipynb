{
 "cells": [
  {
   "attachments": {},
   "cell_type": "markdown",
   "metadata": {},
   "source": [
    "# Grupo 1\n",
    "\n",
    "Guilherme Sousa - pg51188\n",
    "\n",
    "Karyna Lysenko - pg 51191 \n",
    "\n",
    "Rodrigo Esperança-  "
   ]
  },
  {
   "attachments": {},
   "cell_type": "markdown",
   "metadata": {},
   "source": [
    "## Dataset Description: \n",
    "\n",
    "Mutagenicity means the ability of a drug to induce genetic alterations. Drugs that can cause damage to the DNA can result in cell death or other severe adverse effects. Nowadays, the most widely used assay for testing the mutagenicity of compounds is the Ames experiment which was invented by a professor named Ames. \n",
    "\n",
    "The Ames test is a short-term bacterial reverse mutation assay detecting a large number of compounds which can induce genetic damage and frameshift mutations. This test involves exposing bacteria to the chemical being tested and assessing the rate of genetic mutations compared to a control group that has not been exposed to the substance. If the rate of mutations in the exposed bacteria is significantly higher than in the control group, this suggests that the chemical is mutagenic and may pose a risk to human health.\n",
    "\n",
    "The dataset is aggregated from four papers.\n"
   ]
  },
  {
   "attachments": {},
   "cell_type": "markdown",
   "metadata": {},
   "source": [
    "## Task Description: \n",
    "\n",
    "Binary classification. Given a drug SMILES string (representation of a molecule using an ASCII string that represents the chemical structure of the molecule), predict whether it is mutagenic (1) or not mutagenic (0)."
   ]
  },
  {
   "attachments": {},
   "cell_type": "markdown",
   "metadata": {},
   "source": [
    "## Dataset Statistics: \n",
    "\n",
    "7,273 drugs."
   ]
  },
  {
   "attachments": {},
   "cell_type": "markdown",
   "metadata": {},
   "source": [
    "o que podemos ver a partir deste tipo de data set8algo a elimiar depois:\n",
    "\n",
    "Identificação de compostos mutagênicos: Um conjunto de dados Ames pode ser usado para identificar quais compostos químicos têm a capacidade de causar mutações genéticas nas bactérias Salmonella typhimurium.\n",
    "\n",
    "Avaliação da segurança química: Com base nos resultados dos testes de mutagenicidade, é possível avaliar a segurança de compostos químicos para o uso humano e ambiental. Se um composto é considerado altamente mutagênico, pode ser necessário regulamentar ou proibir o uso desse composto.\n",
    "\n",
    "Desenvolvimento de modelos de QSAR: Os dados de um conjunto de dados Ames podem ser usados para desenvolver modelos de Relação Quantitativa entre Estrutura e Atividade (QSAR) que prevejam a mutagenicidade de novos compostos com base em sua estrutura química.\n",
    "\n",
    "Avaliação de métodos de análise de dados: Os dados de um conjunto de dados Ames também podem ser usados para avaliar a eficácia de diferentes métodos de análise de dados na previsão da mutagenicidade de novos compostos."
   ]
  },
  {
   "cell_type": "code",
   "execution_count": 1,
   "metadata": {},
   "outputs": [],
   "source": [
    "#Librarys\n",
    "import numpy as np\n",
    "import pandas as pd\n",
    "import matplotlib.pyplot as plt\n",
    "import seaborn as sns\n",
    "from sklearn.preprocessing import StandardScaler\n",
    "\n",
    "\n",
    "\n"
   ]
  },
  {
   "cell_type": "markdown",
   "metadata": {},
   "source": []
  },
  {
   "attachments": {},
   "cell_type": "markdown",
   "metadata": {},
   "source": [
    "# Importar os dados e sua respetiva visualização"
   ]
  },
  {
   "cell_type": "code",
   "execution_count": 2,
   "metadata": {},
   "outputs": [
    {
     "name": "stdout",
     "output_type": "stream",
     "text": [
      "            ids                                             smiles  Y\n",
      "0        Drug 0  O=[N+]([O-])c1ccc2ccc3ccc([N+](=O)[O-])c4c5ccc...  1\n",
      "1        Drug 1       O=[N+]([O-])c1c2c(c3ccc4cccc5ccc1c3c45)CCCC2  1\n",
      "2        Drug 2  O=c1c2ccccc2c(=O)c2c1ccc1c2[nH]c2c3c(=O)c4cccc...  0\n",
      "3        Drug 3                          [N-]=[N+]=CC(=O)NCC(=O)NN  1\n",
      "4        Drug 4                          [N-]=[N+]=C1C=NC(=O)NC1=O  1\n",
      "...         ...                                                ... ..\n",
      "7268  Drug 7587                                   CCCCCCCCCCCCOCCO  0\n",
      "7269  Drug 7588                             CC(CCc1ccccc1)c1ccccc1  0\n",
      "7270  Drug 7593                              CCOP(=S)(CC)Sc1ccccc1  0\n",
      "7271  Drug 7598                        C=C(C)C1CC=C(C)C(OC(C)=O)C1  0\n",
      "7272  Drug 7602  CC/N=c1\\cc2oc3cc(NCC)c(C)cc3c(-c3ccccc3C(=O)OC...  0\n",
      "\n",
      "[7273 rows x 3 columns]\n"
     ]
    }
   ],
   "source": [
    "df_ames = pd.read_csv('ames.csv')\n",
    "print(df_ames)"
   ]
  },
  {
   "cell_type": "code",
   "execution_count": 3,
   "metadata": {},
   "outputs": [
    {
     "name": "stdout",
     "output_type": "stream",
     "text": [
      "      MaxEStateIndex  MinEStateIndex  MaxAbsEStateIndex  MinAbsEStateIndex  \\\n",
      "0          11.663401       -0.396099          11.663401           0.008895   \n",
      "1          11.824743       -0.170602          11.824743           0.170602   \n",
      "2          14.431072       -0.378575          14.431072           0.128988   \n",
      "3          10.422196       -0.670278          10.422196           0.248657   \n",
      "4          10.521759       -0.752407          10.521759           0.278148   \n",
      "...              ...             ...                ...                ...   \n",
      "7268        8.502606        0.150556           8.502606           0.150556   \n",
      "7269        2.303843        0.640191           2.303843           0.640191   \n",
      "7270        5.671445       -1.672137           5.671445           0.713245   \n",
      "7271       10.862176       -0.203597          10.862176           0.038935   \n",
      "7272       12.621537       -0.362955          12.621537           0.362955   \n",
      "\n",
      "           qed    MolWt  HeavyAtomMolWt  ExactMolWt  NumValenceElectrons  \\\n",
      "0     0.181963  342.310         332.230   342.06406                124.0   \n",
      "1     0.269289  301.345         286.225   301.11030                112.0   \n",
      "2     0.184582  646.614         628.470   646.11650                232.0   \n",
      "3     0.103849  157.133         150.077   157.05997                 60.0   \n",
      "4     0.342148  138.086         136.070   138.01778                 50.0   \n",
      "...        ...      ...             ...         ...                  ...   \n",
      "7268  0.485970  230.392         200.152   230.22458                 98.0   \n",
      "7269  0.700283  210.320         192.176   210.14085                 82.0   \n",
      "7270  0.722425  246.337         231.217   246.03020                 78.0   \n",
      "7271  0.498826  194.274         176.130   194.13068                 78.0   \n",
      "7272  0.314604  428.532         400.308   428.21000                164.0   \n",
      "\n",
      "      NumRadicalElectrons  ...  fr_sulfide  fr_sulfonamd  fr_sulfone  \\\n",
      "0                     0.0  ...         0.0           0.0         0.0   \n",
      "1                     0.0  ...         0.0           0.0         0.0   \n",
      "2                     0.0  ...         0.0           0.0         0.0   \n",
      "3                     0.0  ...         0.0           0.0         0.0   \n",
      "4                     0.0  ...         0.0           0.0         0.0   \n",
      "...                   ...  ...         ...           ...         ...   \n",
      "7268                  0.0  ...         0.0           0.0         0.0   \n",
      "7269                  0.0  ...         0.0           0.0         0.0   \n",
      "7270                  0.0  ...         0.0           0.0         0.0   \n",
      "7271                  0.0  ...         0.0           0.0         0.0   \n",
      "7272                  0.0  ...         0.0           0.0         0.0   \n",
      "\n",
      "      fr_term_acetylene  fr_tetrazole  fr_thiazole  fr_thiocyan  fr_thiophene  \\\n",
      "0                   0.0           0.0          0.0          0.0           0.0   \n",
      "1                   0.0           0.0          0.0          0.0           0.0   \n",
      "2                   0.0           0.0          0.0          0.0           0.0   \n",
      "3                   0.0           0.0          0.0          0.0           0.0   \n",
      "4                   0.0           0.0          0.0          0.0           0.0   \n",
      "...                 ...           ...          ...          ...           ...   \n",
      "7268                0.0           0.0          0.0          0.0           0.0   \n",
      "7269                0.0           0.0          0.0          0.0           0.0   \n",
      "7270                0.0           0.0          0.0          0.0           0.0   \n",
      "7271                0.0           0.0          0.0          0.0           0.0   \n",
      "7272                0.0           0.0          0.0          0.0           0.0   \n",
      "\n",
      "      fr_unbrch_alkane  fr_urea  \n",
      "0                  0.0      0.0  \n",
      "1                  0.0      0.0  \n",
      "2                  0.0      0.0  \n",
      "3                  0.0      0.0  \n",
      "4                  0.0      1.0  \n",
      "...                ...      ...  \n",
      "7268              11.0      0.0  \n",
      "7269               0.0      0.0  \n",
      "7270               0.0      0.0  \n",
      "7271               0.0      0.0  \n",
      "7272               0.0      0.0  \n",
      "\n",
      "[7273 rows x 208 columns]\n"
     ]
    }
   ],
   "source": [
    "df_features= pd.read_csv('ames_features.csv')\n",
    "print(df_features)"
   ]
  },
  {
   "attachments": {},
   "cell_type": "markdown",
   "metadata": {},
   "source": [
    "# Merge dos dataframes"
   ]
  },
  {
   "cell_type": "code",
   "execution_count": 4,
   "metadata": {},
   "outputs": [
    {
     "name": "stdout",
     "output_type": "stream",
     "text": [
      "            ids                                             smiles  Y  \\\n",
      "0        Drug 0  O=[N+]([O-])c1ccc2ccc3ccc([N+](=O)[O-])c4c5ccc...  1   \n",
      "1        Drug 1       O=[N+]([O-])c1c2c(c3ccc4cccc5ccc1c3c45)CCCC2  1   \n",
      "2        Drug 2  O=c1c2ccccc2c(=O)c2c1ccc1c2[nH]c2c3c(=O)c4cccc...  0   \n",
      "3        Drug 3                          [N-]=[N+]=CC(=O)NCC(=O)NN  1   \n",
      "4        Drug 4                          [N-]=[N+]=C1C=NC(=O)NC1=O  1   \n",
      "...         ...                                                ... ..   \n",
      "7268  Drug 7587                                   CCCCCCCCCCCCOCCO  0   \n",
      "7269  Drug 7588                             CC(CCc1ccccc1)c1ccccc1  0   \n",
      "7270  Drug 7593                              CCOP(=S)(CC)Sc1ccccc1  0   \n",
      "7271  Drug 7598                        C=C(C)C1CC=C(C)C(OC(C)=O)C1  0   \n",
      "7272  Drug 7602  CC/N=c1\\cc2oc3cc(NCC)c(C)cc3c(-c3ccccc3C(=O)OC...  0   \n",
      "\n",
      "      MaxEStateIndex  MinEStateIndex  MaxAbsEStateIndex  MinAbsEStateIndex  \\\n",
      "0          11.663401       -0.396099          11.663401           0.008895   \n",
      "1          11.824743       -0.170602          11.824743           0.170602   \n",
      "2          14.431072       -0.378575          14.431072           0.128988   \n",
      "3          10.422196       -0.670278          10.422196           0.248657   \n",
      "4          10.521759       -0.752407          10.521759           0.278148   \n",
      "...              ...             ...                ...                ...   \n",
      "7268        8.502606        0.150556           8.502606           0.150556   \n",
      "7269        2.303843        0.640191           2.303843           0.640191   \n",
      "7270        5.671445       -1.672137           5.671445           0.713245   \n",
      "7271       10.862176       -0.203597          10.862176           0.038935   \n",
      "7272       12.621537       -0.362955          12.621537           0.362955   \n",
      "\n",
      "           qed    MolWt  HeavyAtomMolWt  ...  fr_sulfide  fr_sulfonamd  \\\n",
      "0     0.181963  342.310         332.230  ...         0.0           0.0   \n",
      "1     0.269289  301.345         286.225  ...         0.0           0.0   \n",
      "2     0.184582  646.614         628.470  ...         0.0           0.0   \n",
      "3     0.103849  157.133         150.077  ...         0.0           0.0   \n",
      "4     0.342148  138.086         136.070  ...         0.0           0.0   \n",
      "...        ...      ...             ...  ...         ...           ...   \n",
      "7268  0.485970  230.392         200.152  ...         0.0           0.0   \n",
      "7269  0.700283  210.320         192.176  ...         0.0           0.0   \n",
      "7270  0.722425  246.337         231.217  ...         0.0           0.0   \n",
      "7271  0.498826  194.274         176.130  ...         0.0           0.0   \n",
      "7272  0.314604  428.532         400.308  ...         0.0           0.0   \n",
      "\n",
      "      fr_sulfone  fr_term_acetylene  fr_tetrazole  fr_thiazole  fr_thiocyan  \\\n",
      "0            0.0                0.0           0.0          0.0          0.0   \n",
      "1            0.0                0.0           0.0          0.0          0.0   \n",
      "2            0.0                0.0           0.0          0.0          0.0   \n",
      "3            0.0                0.0           0.0          0.0          0.0   \n",
      "4            0.0                0.0           0.0          0.0          0.0   \n",
      "...          ...                ...           ...          ...          ...   \n",
      "7268         0.0                0.0           0.0          0.0          0.0   \n",
      "7269         0.0                0.0           0.0          0.0          0.0   \n",
      "7270         0.0                0.0           0.0          0.0          0.0   \n",
      "7271         0.0                0.0           0.0          0.0          0.0   \n",
      "7272         0.0                0.0           0.0          0.0          0.0   \n",
      "\n",
      "      fr_thiophene  fr_unbrch_alkane  fr_urea  \n",
      "0              0.0               0.0      0.0  \n",
      "1              0.0               0.0      0.0  \n",
      "2              0.0               0.0      0.0  \n",
      "3              0.0               0.0      0.0  \n",
      "4              0.0               0.0      1.0  \n",
      "...            ...               ...      ...  \n",
      "7268           0.0              11.0      0.0  \n",
      "7269           0.0               0.0      0.0  \n",
      "7270           0.0               0.0      0.0  \n",
      "7271           0.0               0.0      0.0  \n",
      "7272           0.0               0.0      0.0  \n",
      "\n",
      "[7273 rows x 211 columns]\n"
     ]
    }
   ],
   "source": [
    "#juntar os dataframes para ser mais fácil trabalhar\n",
    "df_global= pd.concat([df_ames, df_features], axis=1)\n",
    "print(df_global)\n"
   ]
  },
  {
   "attachments": {},
   "cell_type": "markdown",
   "metadata": {},
   "source": [
    "# Info sobre os dados e filtragem pré-precessamento"
   ]
  },
  {
   "attachments": {},
   "cell_type": "markdown",
   "metadata": {},
   "source": [
    "Os dados a ser tratados e analisados, englobam um conjunto de drogas identificados com um ID único, cuja composição química é representada numa string SMILES, sendo que cada droga tem associado diversos parametros. Estes parametros numéricos (exemplo:qed,MolWT,FpDensityMorgan1) descrevem as propriedades das respetivas drogas, o que pode auxiliar numa determinada interpretação biológica. Existe também parâmetros binários (0 ou 1) que indicam a ausência ou presença de algo, respetivamente. Existe uma propriedade indicada com o nome \"Y\" que indica se uma determinada droga tem um determinada capacidade mutagénica ou não. Se uma determinada droga tiver associada a um Y de valor 1, significa que a mesma pode causar mutações no material genético , como o DNA. A presença de mutações pode levar a uma variedade de efeitos adversos, incluindo o desenvolvimento de doenças genéticas, cancro e outras condições de saúde. Portanto, a capacidade de prever se um composto químico é mutagénico é importante para a segurança alimentar, farmacêutica e ambiental."
   ]
  },
  {
   "cell_type": "code",
   "execution_count": 5,
   "metadata": {},
   "outputs": [
    {
     "name": "stdout",
     "output_type": "stream",
     "text": [
      "Empty DataFrame\n",
      "Columns: [ids, smiles, Y, MaxEStateIndex, MinEStateIndex, MaxAbsEStateIndex, MinAbsEStateIndex, qed, MolWt, HeavyAtomMolWt, ExactMolWt, NumValenceElectrons, NumRadicalElectrons, MaxPartialCharge, MinPartialCharge, MaxAbsPartialCharge, MinAbsPartialCharge, FpDensityMorgan1, FpDensityMorgan2, FpDensityMorgan3, BCUT2D_MWHI, BCUT2D_MWLOW, BCUT2D_CHGHI, BCUT2D_CHGLO, BCUT2D_LOGPHI, BCUT2D_LOGPLOW, BCUT2D_MRHI, BCUT2D_MRLOW, BalabanJ, BertzCT, Chi0, Chi0n, Chi0v, Chi1, Chi1n, Chi1v, Chi2n, Chi2v, Chi3n, Chi3v, Chi4n, Chi4v, HallKierAlpha, Ipc, Kappa1, Kappa2, Kappa3, LabuteASA, PEOE_VSA1, PEOE_VSA10, PEOE_VSA11, PEOE_VSA12, PEOE_VSA13, PEOE_VSA14, PEOE_VSA2, PEOE_VSA3, PEOE_VSA4, PEOE_VSA5, PEOE_VSA6, PEOE_VSA7, PEOE_VSA8, PEOE_VSA9, SMR_VSA1, SMR_VSA10, SMR_VSA2, SMR_VSA3, SMR_VSA4, SMR_VSA5, SMR_VSA6, SMR_VSA7, SMR_VSA8, SMR_VSA9, SlogP_VSA1, SlogP_VSA10, SlogP_VSA11, SlogP_VSA12, SlogP_VSA2, SlogP_VSA3, SlogP_VSA4, SlogP_VSA5, SlogP_VSA6, SlogP_VSA7, SlogP_VSA8, SlogP_VSA9, TPSA, EState_VSA1, EState_VSA10, EState_VSA11, EState_VSA2, EState_VSA3, EState_VSA4, EState_VSA5, EState_VSA6, EState_VSA7, EState_VSA8, EState_VSA9, VSA_EState1, VSA_EState10, VSA_EState2, VSA_EState3, ...]\n",
      "Index: []\n",
      "\n",
      "[0 rows x 211 columns]\n"
     ]
    }
   ],
   "source": [
    "#NAN- valores ausentes\n",
    "tem_nulos = df_global.isnull().sum(axis=1) > 0\n",
    "print(df_global[tem_nulos])\n",
    "\n",
    "#não existem valores NaN"
   ]
  },
  {
   "cell_type": "code",
   "execution_count": 6,
   "metadata": {},
   "outputs": [
    {
     "name": "stdout",
     "output_type": "stream",
     "text": [
      "Empty DataFrame\n",
      "Columns: [ids, smiles, Y, MaxEStateIndex, MinEStateIndex, MaxAbsEStateIndex, MinAbsEStateIndex, qed, MolWt, HeavyAtomMolWt, ExactMolWt, NumValenceElectrons, NumRadicalElectrons, MaxPartialCharge, MinPartialCharge, MaxAbsPartialCharge, MinAbsPartialCharge, FpDensityMorgan1, FpDensityMorgan2, FpDensityMorgan3, BCUT2D_MWHI, BCUT2D_MWLOW, BCUT2D_CHGHI, BCUT2D_CHGLO, BCUT2D_LOGPHI, BCUT2D_LOGPLOW, BCUT2D_MRHI, BCUT2D_MRLOW, BalabanJ, BertzCT, Chi0, Chi0n, Chi0v, Chi1, Chi1n, Chi1v, Chi2n, Chi2v, Chi3n, Chi3v, Chi4n, Chi4v, HallKierAlpha, Ipc, Kappa1, Kappa2, Kappa3, LabuteASA, PEOE_VSA1, PEOE_VSA10, PEOE_VSA11, PEOE_VSA12, PEOE_VSA13, PEOE_VSA14, PEOE_VSA2, PEOE_VSA3, PEOE_VSA4, PEOE_VSA5, PEOE_VSA6, PEOE_VSA7, PEOE_VSA8, PEOE_VSA9, SMR_VSA1, SMR_VSA10, SMR_VSA2, SMR_VSA3, SMR_VSA4, SMR_VSA5, SMR_VSA6, SMR_VSA7, SMR_VSA8, SMR_VSA9, SlogP_VSA1, SlogP_VSA10, SlogP_VSA11, SlogP_VSA12, SlogP_VSA2, SlogP_VSA3, SlogP_VSA4, SlogP_VSA5, SlogP_VSA6, SlogP_VSA7, SlogP_VSA8, SlogP_VSA9, TPSA, EState_VSA1, EState_VSA10, EState_VSA11, EState_VSA2, EState_VSA3, EState_VSA4, EState_VSA5, EState_VSA6, EState_VSA7, EState_VSA8, EState_VSA9, VSA_EState1, VSA_EState10, VSA_EState2, VSA_EState3, ...]\n",
      "Index: []\n",
      "\n",
      "[0 rows x 211 columns]\n"
     ]
    }
   ],
   "source": [
    "#remoção valores duplicados\n",
    "tem_duplicados = df_global.duplicated(subset='ids', keep=False)\n",
    "print(df_global[tem_duplicados])\n",
    "#não existem  ids duplicados"
   ]
  },
  {
   "cell_type": "code",
   "execution_count": 7,
   "metadata": {},
   "outputs": [
    {
     "name": "stdout",
     "output_type": "stream",
     "text": [
      "(7273, 211)\n"
     ]
    }
   ],
   "source": [
    "#Dimensões\n",
    "print(df_global.shape)\n",
    "\n",
    "#7273 linhas que representam o numero de drogas analisadas.\n",
    "#211 colunas que sao os parametros caracteristicos de cada uma destas drogas."
   ]
  },
  {
   "cell_type": "code",
   "execution_count": 8,
   "metadata": {},
   "outputs": [
    {
     "name": "stdout",
     "output_type": "stream",
     "text": [
      "      ids                                             smiles  Y  \\\n",
      "0  Drug 0  O=[N+]([O-])c1ccc2ccc3ccc([N+](=O)[O-])c4c5ccc...  1   \n",
      "1  Drug 1       O=[N+]([O-])c1c2c(c3ccc4cccc5ccc1c3c45)CCCC2  1   \n",
      "2  Drug 2  O=c1c2ccccc2c(=O)c2c1ccc1c2[nH]c2c3c(=O)c4cccc...  0   \n",
      "3  Drug 3                          [N-]=[N+]=CC(=O)NCC(=O)NN  1   \n",
      "4  Drug 4                          [N-]=[N+]=C1C=NC(=O)NC1=O  1   \n",
      "\n",
      "   MaxEStateIndex  MinEStateIndex  MaxAbsEStateIndex  MinAbsEStateIndex  \\\n",
      "0       11.663401       -0.396099          11.663401           0.008895   \n",
      "1       11.824743       -0.170602          11.824743           0.170602   \n",
      "2       14.431072       -0.378575          14.431072           0.128988   \n",
      "3       10.422196       -0.670278          10.422196           0.248657   \n",
      "4       10.521759       -0.752407          10.521759           0.278148   \n",
      "\n",
      "        qed    MolWt  HeavyAtomMolWt  ...  fr_sulfide  fr_sulfonamd  \\\n",
      "0  0.181963  342.310         332.230  ...         0.0           0.0   \n",
      "1  0.269289  301.345         286.225  ...         0.0           0.0   \n",
      "2  0.184582  646.614         628.470  ...         0.0           0.0   \n",
      "3  0.103849  157.133         150.077  ...         0.0           0.0   \n",
      "4  0.342148  138.086         136.070  ...         0.0           0.0   \n",
      "\n",
      "   fr_sulfone  fr_term_acetylene  fr_tetrazole  fr_thiazole  fr_thiocyan  \\\n",
      "0         0.0                0.0           0.0          0.0          0.0   \n",
      "1         0.0                0.0           0.0          0.0          0.0   \n",
      "2         0.0                0.0           0.0          0.0          0.0   \n",
      "3         0.0                0.0           0.0          0.0          0.0   \n",
      "4         0.0                0.0           0.0          0.0          0.0   \n",
      "\n",
      "   fr_thiophene  fr_unbrch_alkane  fr_urea  \n",
      "0           0.0               0.0      0.0  \n",
      "1           0.0               0.0      0.0  \n",
      "2           0.0               0.0      0.0  \n",
      "3           0.0               0.0      0.0  \n",
      "4           0.0               0.0      1.0  \n",
      "\n",
      "[5 rows x 211 columns]\n"
     ]
    }
   ],
   "source": [
    "#forma de visualizar as primeiras 5 linhas no nosso dataframe, ou seja as primeiras 5 drogas e respetivos parametros.\n",
    "print(df_global.head(5))"
   ]
  },
  {
   "cell_type": "code",
   "execution_count": 9,
   "metadata": {},
   "outputs": [
    {
     "name": "stdout",
     "output_type": "stream",
     "text": [
      "            ids                                             smiles  Y  \\\n",
      "7268  Drug 7587                                   CCCCCCCCCCCCOCCO  0   \n",
      "7269  Drug 7588                             CC(CCc1ccccc1)c1ccccc1  0   \n",
      "7270  Drug 7593                              CCOP(=S)(CC)Sc1ccccc1  0   \n",
      "7271  Drug 7598                        C=C(C)C1CC=C(C)C(OC(C)=O)C1  0   \n",
      "7272  Drug 7602  CC/N=c1\\cc2oc3cc(NCC)c(C)cc3c(-c3ccccc3C(=O)OC...  0   \n",
      "\n",
      "      MaxEStateIndex  MinEStateIndex  MaxAbsEStateIndex  MinAbsEStateIndex  \\\n",
      "7268        8.502606        0.150556           8.502606           0.150556   \n",
      "7269        2.303843        0.640191           2.303843           0.640191   \n",
      "7270        5.671445       -1.672137           5.671445           0.713245   \n",
      "7271       10.862176       -0.203597          10.862176           0.038935   \n",
      "7272       12.621537       -0.362955          12.621537           0.362955   \n",
      "\n",
      "           qed    MolWt  HeavyAtomMolWt  ...  fr_sulfide  fr_sulfonamd  \\\n",
      "7268  0.485970  230.392         200.152  ...         0.0           0.0   \n",
      "7269  0.700283  210.320         192.176  ...         0.0           0.0   \n",
      "7270  0.722425  246.337         231.217  ...         0.0           0.0   \n",
      "7271  0.498826  194.274         176.130  ...         0.0           0.0   \n",
      "7272  0.314604  428.532         400.308  ...         0.0           0.0   \n",
      "\n",
      "      fr_sulfone  fr_term_acetylene  fr_tetrazole  fr_thiazole  fr_thiocyan  \\\n",
      "7268         0.0                0.0           0.0          0.0          0.0   \n",
      "7269         0.0                0.0           0.0          0.0          0.0   \n",
      "7270         0.0                0.0           0.0          0.0          0.0   \n",
      "7271         0.0                0.0           0.0          0.0          0.0   \n",
      "7272         0.0                0.0           0.0          0.0          0.0   \n",
      "\n",
      "      fr_thiophene  fr_unbrch_alkane  fr_urea  \n",
      "7268           0.0              11.0      0.0  \n",
      "7269           0.0               0.0      0.0  \n",
      "7270           0.0               0.0      0.0  \n",
      "7271           0.0               0.0      0.0  \n",
      "7272           0.0               0.0      0.0  \n",
      "\n",
      "[5 rows x 211 columns]\n"
     ]
    }
   ],
   "source": [
    "#forma de visualizar as últimas 5 linhas no nosso dataframe, ou seja as últimas 5 drogas e respetivos parametros.\n",
    "print(df_global.tail(5))"
   ]
  },
  {
   "cell_type": "code",
   "execution_count": 10,
   "metadata": {},
   "outputs": [
    {
     "name": "stdout",
     "output_type": "stream",
     "text": [
      "ids                  object\n",
      "smiles               object\n",
      "Y                     int64\n",
      "MaxEStateIndex      float64\n",
      "MinEStateIndex      float64\n",
      "                     ...   \n",
      "fr_thiazole         float64\n",
      "fr_thiocyan         float64\n",
      "fr_thiophene        float64\n",
      "fr_unbrch_alkane    float64\n",
      "fr_urea             float64\n",
      "Length: 211, dtype: object\n"
     ]
    }
   ],
   "source": [
    "#ver types de dados de cada coluna\n",
    "print(df_global.dtypes)"
   ]
  },
  {
   "cell_type": "code",
   "execution_count": 11,
   "metadata": {},
   "outputs": [
    {
     "name": "stdout",
     "output_type": "stream",
     "text": [
      "['ids', 'smiles', 'Y', 'MaxEStateIndex', 'MinEStateIndex', 'MaxAbsEStateIndex', 'MinAbsEStateIndex', 'qed', 'MolWt', 'HeavyAtomMolWt', 'ExactMolWt', 'NumValenceElectrons', 'NumRadicalElectrons', 'MaxPartialCharge', 'MinPartialCharge', 'MaxAbsPartialCharge', 'MinAbsPartialCharge', 'FpDensityMorgan1', 'FpDensityMorgan2', 'FpDensityMorgan3', 'BCUT2D_MWHI', 'BCUT2D_MWLOW', 'BCUT2D_CHGHI', 'BCUT2D_CHGLO', 'BCUT2D_LOGPHI', 'BCUT2D_LOGPLOW', 'BCUT2D_MRHI', 'BCUT2D_MRLOW', 'BalabanJ', 'BertzCT', 'Chi0', 'Chi0n', 'Chi0v', 'Chi1', 'Chi1n', 'Chi1v', 'Chi2n', 'Chi2v', 'Chi3n', 'Chi3v', 'Chi4n', 'Chi4v', 'HallKierAlpha', 'Ipc', 'Kappa1', 'Kappa2', 'Kappa3', 'LabuteASA', 'PEOE_VSA1', 'PEOE_VSA10', 'PEOE_VSA11', 'PEOE_VSA12', 'PEOE_VSA13', 'PEOE_VSA14', 'PEOE_VSA2', 'PEOE_VSA3', 'PEOE_VSA4', 'PEOE_VSA5', 'PEOE_VSA6', 'PEOE_VSA7', 'PEOE_VSA8', 'PEOE_VSA9', 'SMR_VSA1', 'SMR_VSA10', 'SMR_VSA2', 'SMR_VSA3', 'SMR_VSA4', 'SMR_VSA5', 'SMR_VSA6', 'SMR_VSA7', 'SMR_VSA8', 'SMR_VSA9', 'SlogP_VSA1', 'SlogP_VSA10', 'SlogP_VSA11', 'SlogP_VSA12', 'SlogP_VSA2', 'SlogP_VSA3', 'SlogP_VSA4', 'SlogP_VSA5', 'SlogP_VSA6', 'SlogP_VSA7', 'SlogP_VSA8', 'SlogP_VSA9', 'TPSA', 'EState_VSA1', 'EState_VSA10', 'EState_VSA11', 'EState_VSA2', 'EState_VSA3', 'EState_VSA4', 'EState_VSA5', 'EState_VSA6', 'EState_VSA7', 'EState_VSA8', 'EState_VSA9', 'VSA_EState1', 'VSA_EState10', 'VSA_EState2', 'VSA_EState3', 'VSA_EState4', 'VSA_EState5', 'VSA_EState6', 'VSA_EState7', 'VSA_EState8', 'VSA_EState9', 'FractionCSP3', 'HeavyAtomCount', 'NHOHCount', 'NOCount', 'NumAliphaticCarbocycles', 'NumAliphaticHeterocycles', 'NumAliphaticRings', 'NumAromaticCarbocycles', 'NumAromaticHeterocycles', 'NumAromaticRings', 'NumHAcceptors', 'NumHDonors', 'NumHeteroatoms', 'NumRotatableBonds', 'NumSaturatedCarbocycles', 'NumSaturatedHeterocycles', 'NumSaturatedRings', 'RingCount', 'MolLogP', 'MolMR', 'fr_Al_COO', 'fr_Al_OH', 'fr_Al_OH_noTert', 'fr_ArN', 'fr_Ar_COO', 'fr_Ar_N', 'fr_Ar_NH', 'fr_Ar_OH', 'fr_COO', 'fr_COO2', 'fr_C_O', 'fr_C_O_noCOO', 'fr_C_S', 'fr_HOCCN', 'fr_Imine', 'fr_NH0', 'fr_NH1', 'fr_NH2', 'fr_N_O', 'fr_Ndealkylation1', 'fr_Ndealkylation2', 'fr_Nhpyrrole', 'fr_SH', 'fr_aldehyde', 'fr_alkyl_carbamate', 'fr_alkyl_halide', 'fr_allylic_oxid', 'fr_amide', 'fr_amidine', 'fr_aniline', 'fr_aryl_methyl', 'fr_azide', 'fr_azo', 'fr_barbitur', 'fr_benzene', 'fr_benzodiazepine', 'fr_bicyclic', 'fr_diazo', 'fr_dihydropyridine', 'fr_epoxide', 'fr_ester', 'fr_ether', 'fr_furan', 'fr_guanido', 'fr_halogen', 'fr_hdrzine', 'fr_hdrzone', 'fr_imidazole', 'fr_imide', 'fr_isocyan', 'fr_isothiocyan', 'fr_ketone', 'fr_ketone_Topliss', 'fr_lactam', 'fr_lactone', 'fr_methoxy', 'fr_morpholine', 'fr_nitrile', 'fr_nitro', 'fr_nitro_arom', 'fr_nitro_arom_nonortho', 'fr_nitroso', 'fr_oxazole', 'fr_oxime', 'fr_para_hydroxylation', 'fr_phenol', 'fr_phenol_noOrthoHbond', 'fr_phos_acid', 'fr_phos_ester', 'fr_piperdine', 'fr_piperzine', 'fr_priamide', 'fr_prisulfonamd', 'fr_pyridine', 'fr_quatN', 'fr_sulfide', 'fr_sulfonamd', 'fr_sulfone', 'fr_term_acetylene', 'fr_tetrazole', 'fr_thiazole', 'fr_thiocyan', 'fr_thiophene', 'fr_unbrch_alkane', 'fr_urea']\n"
     ]
    }
   ],
   "source": [
    "#nome de todas as colunas\n",
    "print(df_global.columns.tolist())"
   ]
  },
  {
   "attachments": {},
   "cell_type": "markdown",
   "metadata": {},
   "source": [
    "Através de uma simples análise dos dados do df_global é possivel verificar que não existe valores NaN , nem ids duplicados. O dataset possui 7273 linhas que corresponde às drogas analisadass e 211 colunas que retratam parametros caracteristicos das mesmas e que, posteriormente, serão importantes para retirar conclusões que permitam asssociar cada uma destas colunas à capacidade mutagénica de determinada droga."
   ]
  },
  {
   "attachments": {},
   "cell_type": "markdown",
   "metadata": {},
   "source": [
    "Salientar que de todas as colunas aquela que terá maior preponderância na nossa análise e que será sempre tida em consideração é a coluna Y . Esta coluna é binária ou 0 representa que uma determinada droga não tem capacidade mutagénica e o valor 1 representa capacidade mutagénica.\n",
    "\n",
    "Assim, decidimos ordenar o nosso df_global por ordem ascendente tendo como base a coluna em questão, sendo os primeiros valores associados a Y=0 e os últimos valores a um y=1. Fazendo só um aparte que a segunda coluna referência neste processo de ordenação foi a coluna ids."
   ]
  },
  {
   "cell_type": "code",
   "execution_count": 12,
   "metadata": {},
   "outputs": [],
   "source": [
    "#ordenar primeiro pelos Y, ascending, e depois pelos ids\n",
    "df_global = df_global.sort_values(by=['Y', 'ids'])\n",
    "#df_global.head()\n",
    "#df_global.tail()"
   ]
  },
  {
   "attachments": {},
   "cell_type": "markdown",
   "metadata": {},
   "source": [
    "# Análise descritiva dos dados"
   ]
  },
  {
   "cell_type": "code",
   "execution_count": 13,
   "metadata": {},
   "outputs": [
    {
     "name": "stdout",
     "output_type": "stream",
     "text": [
      "<class 'pandas.core.frame.DataFrame'>\n",
      "Int64Index: 7273 entries, 10 to 998\n",
      "Columns: 211 entries, ids to fr_urea\n",
      "dtypes: float64(208), int64(1), object(2)\n",
      "memory usage: 11.8+ MB\n"
     ]
    }
   ],
   "source": [
    "#info geral do nosso merge dataframe\n",
    "df_global.info()\n",
    "\n"
   ]
  },
  {
   "cell_type": "code",
   "execution_count": 14,
   "metadata": {},
   "outputs": [
    {
     "data": {
      "text/html": [
       "<div>\n",
       "<style scoped>\n",
       "    .dataframe tbody tr th:only-of-type {\n",
       "        vertical-align: middle;\n",
       "    }\n",
       "\n",
       "    .dataframe tbody tr th {\n",
       "        vertical-align: top;\n",
       "    }\n",
       "\n",
       "    .dataframe thead th {\n",
       "        text-align: right;\n",
       "    }\n",
       "</style>\n",
       "<table border=\"1\" class=\"dataframe\">\n",
       "  <thead>\n",
       "    <tr style=\"text-align: right;\">\n",
       "      <th></th>\n",
       "      <th>Y</th>\n",
       "      <th>MaxEStateIndex</th>\n",
       "      <th>MinEStateIndex</th>\n",
       "      <th>MaxAbsEStateIndex</th>\n",
       "      <th>MinAbsEStateIndex</th>\n",
       "      <th>qed</th>\n",
       "      <th>MolWt</th>\n",
       "      <th>HeavyAtomMolWt</th>\n",
       "      <th>ExactMolWt</th>\n",
       "      <th>NumValenceElectrons</th>\n",
       "      <th>...</th>\n",
       "      <th>fr_sulfide</th>\n",
       "      <th>fr_sulfonamd</th>\n",
       "      <th>fr_sulfone</th>\n",
       "      <th>fr_term_acetylene</th>\n",
       "      <th>fr_tetrazole</th>\n",
       "      <th>fr_thiazole</th>\n",
       "      <th>fr_thiocyan</th>\n",
       "      <th>fr_thiophene</th>\n",
       "      <th>fr_unbrch_alkane</th>\n",
       "      <th>fr_urea</th>\n",
       "    </tr>\n",
       "  </thead>\n",
       "  <tbody>\n",
       "    <tr>\n",
       "      <th>count</th>\n",
       "      <td>7273.000000</td>\n",
       "      <td>7273.000000</td>\n",
       "      <td>7273.000000</td>\n",
       "      <td>7273.000000</td>\n",
       "      <td>7273.000000</td>\n",
       "      <td>7273.000000</td>\n",
       "      <td>7273.000000</td>\n",
       "      <td>7273.000000</td>\n",
       "      <td>7273.000000</td>\n",
       "      <td>7273.000000</td>\n",
       "      <td>...</td>\n",
       "      <td>7273.000000</td>\n",
       "      <td>7273.000000</td>\n",
       "      <td>7273.000000</td>\n",
       "      <td>7273.000000</td>\n",
       "      <td>7273.000000</td>\n",
       "      <td>7273.000000</td>\n",
       "      <td>7273.000000</td>\n",
       "      <td>7273.00000</td>\n",
       "      <td>7273.000000</td>\n",
       "      <td>7273.000000</td>\n",
       "    </tr>\n",
       "    <tr>\n",
       "      <th>mean</th>\n",
       "      <td>0.546405</td>\n",
       "      <td>9.362443</td>\n",
       "      <td>-0.451765</td>\n",
       "      <td>9.362443</td>\n",
       "      <td>0.349721</td>\n",
       "      <td>0.510130</td>\n",
       "      <td>242.568881</td>\n",
       "      <td>229.065451</td>\n",
       "      <td>242.196954</td>\n",
       "      <td>88.108483</td>\n",
       "      <td>...</td>\n",
       "      <td>0.026674</td>\n",
       "      <td>0.011275</td>\n",
       "      <td>0.003162</td>\n",
       "      <td>0.003025</td>\n",
       "      <td>0.000412</td>\n",
       "      <td>0.012237</td>\n",
       "      <td>0.000550</td>\n",
       "      <td>0.00825</td>\n",
       "      <td>0.270727</td>\n",
       "      <td>0.017874</td>\n",
       "    </tr>\n",
       "    <tr>\n",
       "      <th>std</th>\n",
       "      <td>0.497876</td>\n",
       "      <td>3.029246</td>\n",
       "      <td>1.227820</td>\n",
       "      <td>3.029246</td>\n",
       "      <td>0.396510</td>\n",
       "      <td>0.167265</td>\n",
       "      <td>107.926752</td>\n",
       "      <td>102.707469</td>\n",
       "      <td>107.731070</td>\n",
       "      <td>39.772440</td>\n",
       "      <td>...</td>\n",
       "      <td>0.176611</td>\n",
       "      <td>0.111911</td>\n",
       "      <td>0.058548</td>\n",
       "      <td>0.054919</td>\n",
       "      <td>0.020307</td>\n",
       "      <td>0.114844</td>\n",
       "      <td>0.028719</td>\n",
       "      <td>0.09345</td>\n",
       "      <td>1.539449</td>\n",
       "      <td>0.138591</td>\n",
       "    </tr>\n",
       "    <tr>\n",
       "      <th>min</th>\n",
       "      <td>0.000000</td>\n",
       "      <td>1.500000</td>\n",
       "      <td>-9.055860</td>\n",
       "      <td>1.500000</td>\n",
       "      <td>0.000000</td>\n",
       "      <td>0.036666</td>\n",
       "      <td>41.053000</td>\n",
       "      <td>36.033000</td>\n",
       "      <td>41.026550</td>\n",
       "      <td>14.000000</td>\n",
       "      <td>...</td>\n",
       "      <td>0.000000</td>\n",
       "      <td>0.000000</td>\n",
       "      <td>0.000000</td>\n",
       "      <td>0.000000</td>\n",
       "      <td>0.000000</td>\n",
       "      <td>0.000000</td>\n",
       "      <td>0.000000</td>\n",
       "      <td>0.00000</td>\n",
       "      <td>0.000000</td>\n",
       "      <td>0.000000</td>\n",
       "    </tr>\n",
       "    <tr>\n",
       "      <th>25%</th>\n",
       "      <td>0.000000</td>\n",
       "      <td>6.209384</td>\n",
       "      <td>-0.846972</td>\n",
       "      <td>6.209384</td>\n",
       "      <td>0.075424</td>\n",
       "      <td>0.396894</td>\n",
       "      <td>165.148000</td>\n",
       "      <td>156.100000</td>\n",
       "      <td>165.039000</td>\n",
       "      <td>60.000000</td>\n",
       "      <td>...</td>\n",
       "      <td>0.000000</td>\n",
       "      <td>0.000000</td>\n",
       "      <td>0.000000</td>\n",
       "      <td>0.000000</td>\n",
       "      <td>0.000000</td>\n",
       "      <td>0.000000</td>\n",
       "      <td>0.000000</td>\n",
       "      <td>0.00000</td>\n",
       "      <td>0.000000</td>\n",
       "      <td>0.000000</td>\n",
       "    </tr>\n",
       "    <tr>\n",
       "      <th>50%</th>\n",
       "      <td>1.000000</td>\n",
       "      <td>10.384028</td>\n",
       "      <td>-0.355799</td>\n",
       "      <td>10.384028</td>\n",
       "      <td>0.211296</td>\n",
       "      <td>0.510491</td>\n",
       "      <td>230.270000</td>\n",
       "      <td>218.173000</td>\n",
       "      <td>230.069140</td>\n",
       "      <td>84.000000</td>\n",
       "      <td>...</td>\n",
       "      <td>0.000000</td>\n",
       "      <td>0.000000</td>\n",
       "      <td>0.000000</td>\n",
       "      <td>0.000000</td>\n",
       "      <td>0.000000</td>\n",
       "      <td>0.000000</td>\n",
       "      <td>0.000000</td>\n",
       "      <td>0.00000</td>\n",
       "      <td>0.000000</td>\n",
       "      <td>0.000000</td>\n",
       "    </tr>\n",
       "    <tr>\n",
       "      <th>75%</th>\n",
       "      <td>1.000000</td>\n",
       "      <td>11.488809</td>\n",
       "      <td>0.353001</td>\n",
       "      <td>11.488809</td>\n",
       "      <td>0.510718</td>\n",
       "      <td>0.621552</td>\n",
       "      <td>296.319000</td>\n",
       "      <td>280.241000</td>\n",
       "      <td>296.060400</td>\n",
       "      <td>108.000000</td>\n",
       "      <td>...</td>\n",
       "      <td>0.000000</td>\n",
       "      <td>0.000000</td>\n",
       "      <td>0.000000</td>\n",
       "      <td>0.000000</td>\n",
       "      <td>0.000000</td>\n",
       "      <td>0.000000</td>\n",
       "      <td>0.000000</td>\n",
       "      <td>0.00000</td>\n",
       "      <td>0.000000</td>\n",
       "      <td>0.000000</td>\n",
       "    </tr>\n",
       "    <tr>\n",
       "      <th>max</th>\n",
       "      <td>1.000000</td>\n",
       "      <td>17.286264</td>\n",
       "      <td>4.111111</td>\n",
       "      <td>17.286264</td>\n",
       "      <td>4.944445</td>\n",
       "      <td>0.935197</td>\n",
       "      <td>795.824000</td>\n",
       "      <td>766.923000</td>\n",
       "      <td>795.175400</td>\n",
       "      <td>314.000000</td>\n",
       "      <td>...</td>\n",
       "      <td>3.000000</td>\n",
       "      <td>2.000000</td>\n",
       "      <td>2.000000</td>\n",
       "      <td>1.000000</td>\n",
       "      <td>1.000000</td>\n",
       "      <td>2.000000</td>\n",
       "      <td>2.000000</td>\n",
       "      <td>2.00000</td>\n",
       "      <td>29.000000</td>\n",
       "      <td>2.000000</td>\n",
       "    </tr>\n",
       "  </tbody>\n",
       "</table>\n",
       "<p>8 rows × 209 columns</p>\n",
       "</div>"
      ],
      "text/plain": [
       "                 Y  MaxEStateIndex  MinEStateIndex  MaxAbsEStateIndex  \\\n",
       "count  7273.000000     7273.000000     7273.000000        7273.000000   \n",
       "mean      0.546405        9.362443       -0.451765           9.362443   \n",
       "std       0.497876        3.029246        1.227820           3.029246   \n",
       "min       0.000000        1.500000       -9.055860           1.500000   \n",
       "25%       0.000000        6.209384       -0.846972           6.209384   \n",
       "50%       1.000000       10.384028       -0.355799          10.384028   \n",
       "75%       1.000000       11.488809        0.353001          11.488809   \n",
       "max       1.000000       17.286264        4.111111          17.286264   \n",
       "\n",
       "       MinAbsEStateIndex          qed        MolWt  HeavyAtomMolWt  \\\n",
       "count        7273.000000  7273.000000  7273.000000     7273.000000   \n",
       "mean            0.349721     0.510130   242.568881      229.065451   \n",
       "std             0.396510     0.167265   107.926752      102.707469   \n",
       "min             0.000000     0.036666    41.053000       36.033000   \n",
       "25%             0.075424     0.396894   165.148000      156.100000   \n",
       "50%             0.211296     0.510491   230.270000      218.173000   \n",
       "75%             0.510718     0.621552   296.319000      280.241000   \n",
       "max             4.944445     0.935197   795.824000      766.923000   \n",
       "\n",
       "        ExactMolWt  NumValenceElectrons  ...   fr_sulfide  fr_sulfonamd  \\\n",
       "count  7273.000000          7273.000000  ...  7273.000000   7273.000000   \n",
       "mean    242.196954            88.108483  ...     0.026674      0.011275   \n",
       "std     107.731070            39.772440  ...     0.176611      0.111911   \n",
       "min      41.026550            14.000000  ...     0.000000      0.000000   \n",
       "25%     165.039000            60.000000  ...     0.000000      0.000000   \n",
       "50%     230.069140            84.000000  ...     0.000000      0.000000   \n",
       "75%     296.060400           108.000000  ...     0.000000      0.000000   \n",
       "max     795.175400           314.000000  ...     3.000000      2.000000   \n",
       "\n",
       "        fr_sulfone  fr_term_acetylene  fr_tetrazole  fr_thiazole  fr_thiocyan  \\\n",
       "count  7273.000000        7273.000000   7273.000000  7273.000000  7273.000000   \n",
       "mean      0.003162           0.003025      0.000412     0.012237     0.000550   \n",
       "std       0.058548           0.054919      0.020307     0.114844     0.028719   \n",
       "min       0.000000           0.000000      0.000000     0.000000     0.000000   \n",
       "25%       0.000000           0.000000      0.000000     0.000000     0.000000   \n",
       "50%       0.000000           0.000000      0.000000     0.000000     0.000000   \n",
       "75%       0.000000           0.000000      0.000000     0.000000     0.000000   \n",
       "max       2.000000           1.000000      1.000000     2.000000     2.000000   \n",
       "\n",
       "       fr_thiophene  fr_unbrch_alkane      fr_urea  \n",
       "count    7273.00000       7273.000000  7273.000000  \n",
       "mean        0.00825          0.270727     0.017874  \n",
       "std         0.09345          1.539449     0.138591  \n",
       "min         0.00000          0.000000     0.000000  \n",
       "25%         0.00000          0.000000     0.000000  \n",
       "50%         0.00000          0.000000     0.000000  \n",
       "75%         0.00000          0.000000     0.000000  \n",
       "max         2.00000         29.000000     2.000000  \n",
       "\n",
       "[8 rows x 209 columns]"
      ]
     },
     "execution_count": 14,
     "metadata": {},
     "output_type": "execute_result"
    }
   ],
   "source": [
    "df_global.describe()"
   ]
  },
  {
   "cell_type": "code",
   "execution_count": 15,
   "metadata": {},
   "outputs": [
    {
     "data": {
      "text/plain": [
       "ids                                  Drug 0---Drug 999\n",
       "smiles              Br/C=C/Br---c1scc2c1-c1cscc1C1OC21\n",
       "Y                                                0---1\n",
       "MaxEStateIndex                         1.5---17.286264\n",
       "MinEStateIndex                     -9.05586---4.111111\n",
       "                                   ...                \n",
       "fr_thiazole                                  0.0---2.0\n",
       "fr_thiocyan                                  0.0---2.0\n",
       "fr_thiophene                                 0.0---2.0\n",
       "fr_unbrch_alkane                            0.0---29.0\n",
       "fr_urea                                      0.0---2.0\n",
       "Length: 211, dtype: object"
      ]
     },
     "execution_count": 15,
     "metadata": {},
     "output_type": "execute_result"
    }
   ],
   "source": [
    "df_global.apply(lambda x: str(x.min())+\"---\"+str (x.max()))"
   ]
  },
  {
   "attachments": {},
   "cell_type": "markdown",
   "metadata": {},
   "source": [
    "Os dados descritivos obtidos como a média, mediana, desvio padrão, entre outros, podem ser extremamente uteis na interpretação dos dados, podendo levar a conclusoes biológicas interessantes. Todavia, quando fazemos esta análise descritiva para todas as colunas, acaba por ser bastante complicado saber filtrar toda esta informação e, como tal, fica pouco provavel a formação de um eventual relacionamento entre colunas.\n",
    "\n",
    "Assim, a estratégia empregue foi, tendo por base sempre a coluna Y, tentar relacionar as restantes colunas com esta sabendo  que é um processo muito extenso analisar todas as colunas e , por isso, focamos apenas nas colunas que segundo a literatura pensamos que nos iriam permitir nesta 1 fase retirar as melhores associações e conclusões."
   ]
  },
  {
   "attachments": {},
   "cell_type": "markdown",
   "metadata": {},
   "source": [
    "Em primeiro lugar verificamos a distribuição da coluna y, ou seja, percebr das 7273 drogas analisadas quantas estavam ou não associadas a uma capacidade mutagénica. Desta forma, criamos 2 gráficos , um gráfico circurlar que nos permite ver esta distribuição em percentagem e um histograma que nos permite ter uma maior noção em termos de frequência."
   ]
  },
  {
   "cell_type": "code",
   "execution_count": 16,
   "metadata": {},
   "outputs": [
    {
     "name": "stdout",
     "output_type": "stream",
     "text": [
      "1    3974\n",
      "0    3299\n",
      "Name: Y, dtype: int64\n"
     ]
    },
    {
     "data": {
      "image/png": "[encoded data removed]",
      "text/plain": [
       "<Figure size 432x288 with 1 Axes>"
      ]
     },
     "metadata": {},
     "output_type": "display_data"
    }
   ],
   "source": [
    "#gráfico circular para analisar a distribuição entre y 0 ou 1\n",
    "frequence = df_global['Y'].value_counts()\n",
    "print(frequence)\n",
    "labels = ['Y=1', 'Y=0']\n",
    "colors = ['lightgreen', 'lightskyblue']\n",
    "plt.pie(frequence, labels=labels, colors=colors, autopct='%1.1f%%', startangle=90)\n",
    "plt.title('Distribuição circular das drogas analisadas, segundo capacidade mutagénica')\n",
    "plt.legend([\"Com capacidade mutagénica\",\"Sem capacidade mutagénica\"],bbox_to_anchor=(2, 1), loc='upper right', ncol=1)\n",
    "plt.show()\n"
   ]
  },
  {
   "cell_type": "code",
   "execution_count": 17,
   "metadata": {},
   "outputs": [
    {
     "data": {
      "image/png": "[encoded data removed]",
      "text/plain": [
       "<Figure size 432x288 with 1 Axes>"
      ]
     },
     "metadata": {
      "needs_background": "light"
     },
     "output_type": "display_data"
    }
   ],
   "source": [
    "sns.histplot(data=df_global, x='Y', hue='Y', multiple='dodge', shrink=.8)\n",
    "plt.xlabel('Coluna Y')\n",
    "plt.ylabel('Frequência')\n",
    "plt.title('Histograma de frequências da coluna Y')\n",
    "plt.show()"
   ]
  },
  {
   "attachments": {},
   "cell_type": "markdown",
   "metadata": {},
   "source": [
    "Como era expectável amos os gráficos permitem retirar a mesma conclusão, ou , o df_global tem mais drogas associadas a uma capacidade mutagénica. Todavia a diferença não é assim tão elevada, o que é adequeado para estudos que serão realizados posteriormente."
   ]
  },
  {
   "attachments": {},
   "cell_type": "markdown",
   "metadata": {},
   "source": [
    "Dando uma vista de olhos mais geral pelo df_global foi possível verificar que existem diversos \"grupos\" de colunas com o nome bastante semelhante. Face a isso, o que fizemos foi pesquisar na literatura uma possivel associação entre o que é avaliado em cada uma dessas colunas e a capcidade mutagénica de um composto. \n",
    "\n",
    "O que pretendiamos era, de certa forma, nesta etapa filtrar um pouco os dados, uma vez que, ainda tinhamos 211 colunas. Então a estratégia foi em primeiro lugar normalizar os dados comuns , ou seja os dados associados a cada \"grupo\" de colunas escolhido e a partir daí escolher as colunas que tinhas as médias mais elevadas tendo sempre em paralelo a coluna y =1 e y=0.\n",
    "\n",
    "\n",
    "O primeiro \"grupo\" a ser analisado foi o \"fr_\" que representa a fração molar de compostos em cada molécula.  Segundo a literatura algumas moléculas químicas podem estar associadas à capacidade mutagênica de uma molécula. Por exemplo, certos grupos funcionais (como os grupos nitro) ou estruturas aromáticas (como anéis benzênicos) podem aumentar a capacidade mutagênica de uma molécula. Portanto, a presença de certas subestruturas químicas na coluna \"fr_\" pode ser um indicador de que uma molécula tem maior ou menor potencial para ser mutagénica.\n",
    "\n"
   ]
  },
  {
   "cell_type": "code",
   "execution_count": 18,
   "metadata": {},
   "outputs": [
    {
     "data": {
      "text/html": [
       "<div>\n",
       "<style scoped>\n",
       "    .dataframe tbody tr th:only-of-type {\n",
       "        vertical-align: middle;\n",
       "    }\n",
       "\n",
       "    .dataframe tbody tr th {\n",
       "        vertical-align: top;\n",
       "    }\n",
       "\n",
       "    .dataframe thead th {\n",
       "        text-align: right;\n",
       "    }\n",
       "</style>\n",
       "<table border=\"1\" class=\"dataframe\">\n",
       "  <thead>\n",
       "    <tr style=\"text-align: right;\">\n",
       "      <th></th>\n",
       "      <th>fr_Al_COO</th>\n",
       "      <th>fr_Al_OH</th>\n",
       "      <th>fr_Al_OH_noTert</th>\n",
       "      <th>fr_ArN</th>\n",
       "      <th>fr_Ar_COO</th>\n",
       "      <th>fr_Ar_N</th>\n",
       "      <th>fr_Ar_NH</th>\n",
       "      <th>fr_Ar_OH</th>\n",
       "      <th>fr_COO</th>\n",
       "      <th>fr_COO2</th>\n",
       "      <th>...</th>\n",
       "      <th>fr_sulfide</th>\n",
       "      <th>fr_sulfonamd</th>\n",
       "      <th>fr_sulfone</th>\n",
       "      <th>fr_term_acetylene</th>\n",
       "      <th>fr_tetrazole</th>\n",
       "      <th>fr_thiazole</th>\n",
       "      <th>fr_thiocyan</th>\n",
       "      <th>fr_thiophene</th>\n",
       "      <th>fr_unbrch_alkane</th>\n",
       "      <th>fr_urea</th>\n",
       "    </tr>\n",
       "  </thead>\n",
       "  <tbody>\n",
       "    <tr>\n",
       "      <th>10</th>\n",
       "      <td>-0.231277</td>\n",
       "      <td>-0.353990</td>\n",
       "      <td>-0.338216</td>\n",
       "      <td>6.813532</td>\n",
       "      <td>-0.147601</td>\n",
       "      <td>3.208969</td>\n",
       "      <td>-0.191858</td>\n",
       "      <td>-0.305681</td>\n",
       "      <td>-0.276524</td>\n",
       "      <td>-0.277019</td>\n",
       "      <td>...</td>\n",
       "      <td>-0.151043</td>\n",
       "      <td>-0.100753</td>\n",
       "      <td>-0.054017</td>\n",
       "      <td>-0.055082</td>\n",
       "      <td>-0.020314</td>\n",
       "      <td>-0.106561</td>\n",
       "      <td>-0.019152</td>\n",
       "      <td>-0.088286</td>\n",
       "      <td>-0.175872</td>\n",
       "      <td>-0.128981</td>\n",
       "    </tr>\n",
       "    <tr>\n",
       "      <th>999</th>\n",
       "      <td>-0.231277</td>\n",
       "      <td>-0.353990</td>\n",
       "      <td>-0.338216</td>\n",
       "      <td>-0.307777</td>\n",
       "      <td>-0.147601</td>\n",
       "      <td>-0.425986</td>\n",
       "      <td>-0.191858</td>\n",
       "      <td>-0.305681</td>\n",
       "      <td>-0.276524</td>\n",
       "      <td>-0.277019</td>\n",
       "      <td>...</td>\n",
       "      <td>-0.151043</td>\n",
       "      <td>-0.100753</td>\n",
       "      <td>-0.054017</td>\n",
       "      <td>-0.055082</td>\n",
       "      <td>-0.020314</td>\n",
       "      <td>-0.106561</td>\n",
       "      <td>-0.019152</td>\n",
       "      <td>-0.088286</td>\n",
       "      <td>-0.175872</td>\n",
       "      <td>-0.128981</td>\n",
       "    </tr>\n",
       "    <tr>\n",
       "      <th>1003</th>\n",
       "      <td>-0.231277</td>\n",
       "      <td>-0.353990</td>\n",
       "      <td>-0.338216</td>\n",
       "      <td>-0.307777</td>\n",
       "      <td>-0.147601</td>\n",
       "      <td>-0.425986</td>\n",
       "      <td>-0.191858</td>\n",
       "      <td>-0.305681</td>\n",
       "      <td>-0.276524</td>\n",
       "      <td>-0.277019</td>\n",
       "      <td>...</td>\n",
       "      <td>-0.151043</td>\n",
       "      <td>-0.100753</td>\n",
       "      <td>-0.054017</td>\n",
       "      <td>-0.055082</td>\n",
       "      <td>-0.020314</td>\n",
       "      <td>-0.106561</td>\n",
       "      <td>-0.019152</td>\n",
       "      <td>-0.088286</td>\n",
       "      <td>-0.175872</td>\n",
       "      <td>-0.128981</td>\n",
       "    </tr>\n",
       "    <tr>\n",
       "      <th>1005</th>\n",
       "      <td>-0.231277</td>\n",
       "      <td>-0.353990</td>\n",
       "      <td>-0.338216</td>\n",
       "      <td>-0.307777</td>\n",
       "      <td>-0.147601</td>\n",
       "      <td>-0.425986</td>\n",
       "      <td>-0.191858</td>\n",
       "      <td>-0.305681</td>\n",
       "      <td>-0.276524</td>\n",
       "      <td>-0.277019</td>\n",
       "      <td>...</td>\n",
       "      <td>-0.151043</td>\n",
       "      <td>-0.100753</td>\n",
       "      <td>-0.054017</td>\n",
       "      <td>-0.055082</td>\n",
       "      <td>-0.020314</td>\n",
       "      <td>-0.106561</td>\n",
       "      <td>-0.019152</td>\n",
       "      <td>-0.088286</td>\n",
       "      <td>-0.175872</td>\n",
       "      <td>-0.128981</td>\n",
       "    </tr>\n",
       "    <tr>\n",
       "      <th>1006</th>\n",
       "      <td>-0.231277</td>\n",
       "      <td>-0.353990</td>\n",
       "      <td>-0.338216</td>\n",
       "      <td>-0.307777</td>\n",
       "      <td>-0.147601</td>\n",
       "      <td>-0.425986</td>\n",
       "      <td>-0.191858</td>\n",
       "      <td>-0.305681</td>\n",
       "      <td>-0.276524</td>\n",
       "      <td>-0.277019</td>\n",
       "      <td>...</td>\n",
       "      <td>-0.151043</td>\n",
       "      <td>-0.100753</td>\n",
       "      <td>-0.054017</td>\n",
       "      <td>-0.055082</td>\n",
       "      <td>-0.020314</td>\n",
       "      <td>-0.106561</td>\n",
       "      <td>-0.019152</td>\n",
       "      <td>-0.088286</td>\n",
       "      <td>-0.175872</td>\n",
       "      <td>-0.128981</td>\n",
       "    </tr>\n",
       "    <tr>\n",
       "      <th>...</th>\n",
       "      <td>...</td>\n",
       "      <td>...</td>\n",
       "      <td>...</td>\n",
       "      <td>...</td>\n",
       "      <td>...</td>\n",
       "      <td>...</td>\n",
       "      <td>...</td>\n",
       "      <td>...</td>\n",
       "      <td>...</td>\n",
       "      <td>...</td>\n",
       "      <td>...</td>\n",
       "      <td>...</td>\n",
       "      <td>...</td>\n",
       "      <td>...</td>\n",
       "      <td>...</td>\n",
       "      <td>...</td>\n",
       "      <td>...</td>\n",
       "      <td>...</td>\n",
       "      <td>...</td>\n",
       "      <td>...</td>\n",
       "      <td>...</td>\n",
       "    </tr>\n",
       "    <tr>\n",
       "      <th>991</th>\n",
       "      <td>-0.231277</td>\n",
       "      <td>-0.353990</td>\n",
       "      <td>-0.338216</td>\n",
       "      <td>-0.307777</td>\n",
       "      <td>-0.147601</td>\n",
       "      <td>-0.425986</td>\n",
       "      <td>-0.191858</td>\n",
       "      <td>-0.305681</td>\n",
       "      <td>-0.276524</td>\n",
       "      <td>-0.277019</td>\n",
       "      <td>...</td>\n",
       "      <td>-0.151043</td>\n",
       "      <td>-0.100753</td>\n",
       "      <td>-0.054017</td>\n",
       "      <td>-0.055082</td>\n",
       "      <td>-0.020314</td>\n",
       "      <td>-0.106561</td>\n",
       "      <td>-0.019152</td>\n",
       "      <td>-0.088286</td>\n",
       "      <td>-0.175872</td>\n",
       "      <td>-0.128981</td>\n",
       "    </tr>\n",
       "    <tr>\n",
       "      <th>993</th>\n",
       "      <td>-0.231277</td>\n",
       "      <td>-0.353990</td>\n",
       "      <td>-0.338216</td>\n",
       "      <td>-0.307777</td>\n",
       "      <td>-0.147601</td>\n",
       "      <td>-0.425986</td>\n",
       "      <td>-0.191858</td>\n",
       "      <td>-0.305681</td>\n",
       "      <td>-0.276524</td>\n",
       "      <td>-0.277019</td>\n",
       "      <td>...</td>\n",
       "      <td>-0.151043</td>\n",
       "      <td>-0.100753</td>\n",
       "      <td>-0.054017</td>\n",
       "      <td>-0.055082</td>\n",
       "      <td>-0.020314</td>\n",
       "      <td>-0.106561</td>\n",
       "      <td>-0.019152</td>\n",
       "      <td>-0.088286</td>\n",
       "      <td>-0.175872</td>\n",
       "      <td>-0.128981</td>\n",
       "    </tr>\n",
       "    <tr>\n",
       "      <th>994</th>\n",
       "      <td>-0.231277</td>\n",
       "      <td>3.359327</td>\n",
       "      <td>2.296862</td>\n",
       "      <td>-0.307777</td>\n",
       "      <td>-0.147601</td>\n",
       "      <td>-0.425986</td>\n",
       "      <td>-0.191858</td>\n",
       "      <td>3.291759</td>\n",
       "      <td>-0.276524</td>\n",
       "      <td>-0.277019</td>\n",
       "      <td>...</td>\n",
       "      <td>-0.151043</td>\n",
       "      <td>-0.100753</td>\n",
       "      <td>-0.054017</td>\n",
       "      <td>-0.055082</td>\n",
       "      <td>-0.020314</td>\n",
       "      <td>-0.106561</td>\n",
       "      <td>-0.019152</td>\n",
       "      <td>-0.088286</td>\n",
       "      <td>-0.175872</td>\n",
       "      <td>-0.128981</td>\n",
       "    </tr>\n",
       "    <tr>\n",
       "      <th>997</th>\n",
       "      <td>2.906933</td>\n",
       "      <td>-0.353990</td>\n",
       "      <td>-0.338216</td>\n",
       "      <td>-0.307777</td>\n",
       "      <td>-0.147601</td>\n",
       "      <td>-0.425986</td>\n",
       "      <td>-0.191858</td>\n",
       "      <td>-0.305681</td>\n",
       "      <td>2.560091</td>\n",
       "      <td>2.552696</td>\n",
       "      <td>...</td>\n",
       "      <td>-0.151043</td>\n",
       "      <td>-0.100753</td>\n",
       "      <td>-0.054017</td>\n",
       "      <td>-0.055082</td>\n",
       "      <td>-0.020314</td>\n",
       "      <td>-0.106561</td>\n",
       "      <td>-0.019152</td>\n",
       "      <td>-0.088286</td>\n",
       "      <td>-0.175872</td>\n",
       "      <td>-0.128981</td>\n",
       "    </tr>\n",
       "    <tr>\n",
       "      <th>998</th>\n",
       "      <td>-0.231277</td>\n",
       "      <td>-0.353990</td>\n",
       "      <td>-0.338216</td>\n",
       "      <td>-0.307777</td>\n",
       "      <td>-0.147601</td>\n",
       "      <td>-0.425986</td>\n",
       "      <td>-0.191858</td>\n",
       "      <td>1.493039</td>\n",
       "      <td>-0.276524</td>\n",
       "      <td>-0.277019</td>\n",
       "      <td>...</td>\n",
       "      <td>-0.151043</td>\n",
       "      <td>-0.100753</td>\n",
       "      <td>-0.054017</td>\n",
       "      <td>-0.055082</td>\n",
       "      <td>-0.020314</td>\n",
       "      <td>-0.106561</td>\n",
       "      <td>-0.019152</td>\n",
       "      <td>-0.088286</td>\n",
       "      <td>-0.175872</td>\n",
       "      <td>-0.128981</td>\n",
       "    </tr>\n",
       "  </tbody>\n",
       "</table>\n",
       "<p>7273 rows × 85 columns</p>\n",
       "</div>"
      ],
      "text/plain": [
       "      fr_Al_COO  fr_Al_OH  fr_Al_OH_noTert    fr_ArN  fr_Ar_COO   fr_Ar_N  \\\n",
       "10    -0.231277 -0.353990        -0.338216  6.813532  -0.147601  3.208969   \n",
       "999   -0.231277 -0.353990        -0.338216 -0.307777  -0.147601 -0.425986   \n",
       "1003  -0.231277 -0.353990        -0.338216 -0.307777  -0.147601 -0.425986   \n",
       "1005  -0.231277 -0.353990        -0.338216 -0.307777  -0.147601 -0.425986   \n",
       "1006  -0.231277 -0.353990        -0.338216 -0.307777  -0.147601 -0.425986   \n",
       "...         ...       ...              ...       ...        ...       ...   \n",
       "991   -0.231277 -0.353990        -0.338216 -0.307777  -0.147601 -0.425986   \n",
       "993   -0.231277 -0.353990        -0.338216 -0.307777  -0.147601 -0.425986   \n",
       "994   -0.231277  3.359327         2.296862 -0.307777  -0.147601 -0.425986   \n",
       "997    2.906933 -0.353990        -0.338216 -0.307777  -0.147601 -0.425986   \n",
       "998   -0.231277 -0.353990        -0.338216 -0.307777  -0.147601 -0.425986   \n",
       "\n",
       "      fr_Ar_NH  fr_Ar_OH    fr_COO   fr_COO2  ...  fr_sulfide  fr_sulfonamd  \\\n",
       "10   -0.191858 -0.305681 -0.276524 -0.277019  ...   -0.151043     -0.100753   \n",
       "999  -0.191858 -0.305681 -0.276524 -0.277019  ...   -0.151043     -0.100753   \n",
       "1003 -0.191858 -0.305681 -0.276524 -0.277019  ...   -0.151043     -0.100753   \n",
       "1005 -0.191858 -0.305681 -0.276524 -0.277019  ...   -0.151043     -0.100753   \n",
       "1006 -0.191858 -0.305681 -0.276524 -0.277019  ...   -0.151043     -0.100753   \n",
       "...        ...       ...       ...       ...  ...         ...           ...   \n",
       "991  -0.191858 -0.305681 -0.276524 -0.277019  ...   -0.151043     -0.100753   \n",
       "993  -0.191858 -0.305681 -0.276524 -0.277019  ...   -0.151043     -0.100753   \n",
       "994  -0.191858  3.291759 -0.276524 -0.277019  ...   -0.151043     -0.100753   \n",
       "997  -0.191858 -0.305681  2.560091  2.552696  ...   -0.151043     -0.100753   \n",
       "998  -0.191858  1.493039 -0.276524 -0.277019  ...   -0.151043     -0.100753   \n",
       "\n",
       "      fr_sulfone  fr_term_acetylene  fr_tetrazole  fr_thiazole  fr_thiocyan  \\\n",
       "10     -0.054017          -0.055082     -0.020314    -0.106561    -0.019152   \n",
       "999    -0.054017          -0.055082     -0.020314    -0.106561    -0.019152   \n",
       "1003   -0.054017          -0.055082     -0.020314    -0.106561    -0.019152   \n",
       "1005   -0.054017          -0.055082     -0.020314    -0.106561    -0.019152   \n",
       "1006   -0.054017          -0.055082     -0.020314    -0.106561    -0.019152   \n",
       "...          ...                ...           ...          ...          ...   \n",
       "991    -0.054017          -0.055082     -0.020314    -0.106561    -0.019152   \n",
       "993    -0.054017          -0.055082     -0.020314    -0.106561    -0.019152   \n",
       "994    -0.054017          -0.055082     -0.020314    -0.106561    -0.019152   \n",
       "997    -0.054017          -0.055082     -0.020314    -0.106561    -0.019152   \n",
       "998    -0.054017          -0.055082     -0.020314    -0.106561    -0.019152   \n",
       "\n",
       "      fr_thiophene  fr_unbrch_alkane   fr_urea  \n",
       "10       -0.088286         -0.175872 -0.128981  \n",
       "999      -0.088286         -0.175872 -0.128981  \n",
       "1003     -0.088286         -0.175872 -0.128981  \n",
       "1005     -0.088286         -0.175872 -0.128981  \n",
       "1006     -0.088286         -0.175872 -0.128981  \n",
       "...            ...               ...       ...  \n",
       "991      -0.088286         -0.175872 -0.128981  \n",
       "993      -0.088286         -0.175872 -0.128981  \n",
       "994      -0.088286         -0.175872 -0.128981  \n",
       "997      -0.088286         -0.175872 -0.128981  \n",
       "998      -0.088286         -0.175872 -0.128981  \n",
       "\n",
       "[7273 rows x 85 columns]"
      ]
     },
     "execution_count": 18,
     "metadata": {},
     "output_type": "execute_result"
    }
   ],
   "source": [
    "# Selecionar  as colunas que começam com \"fr_\" com auxilio da regex\n",
    "cols_fr = df_global.filter(regex='^fr_').columns\n",
    "\n",
    "# Aplicando a normalização apenas nessas colunas, achamos necesário\n",
    "scaler = StandardScaler()\n",
    "df_global[cols_fr] = scaler.fit_transform(df_global[cols_fr])\n",
    "df_global[cols_fr] \n"
   ]
  },
  {
   "cell_type": "code",
   "execution_count": 19,
   "metadata": {},
   "outputs": [
    {
     "name": "stdout",
     "output_type": "stream",
     "text": [
      "Coluna com maior média: fr_COO2\n",
      "Coluna com menor média: fr_benzene\n"
     ]
    }
   ],
   "source": [
    "# Filtrar linhas com Y=0 e selecionar colunas que começam com \"fr\"\n",
    "df_filtered = df_global.loc[df_global['Y'] == 0].filter(regex='^fr_')\n",
    "\n",
    "# Calcular a média das colunas e obter o nome da coluna com maior e menor média\n",
    "col_max = df_filtered.mean().idxmax()\n",
    "col_min = df_filtered.mean().idxmin()\n",
    "\n",
    "print(f\"Coluna com maior média: {col_max}\")\n",
    "print(f\"Coluna com menor média: {col_min}\")"
   ]
  },
  {
   "cell_type": "code",
   "execution_count": 20,
   "metadata": {},
   "outputs": [
    {
     "name": "stdout",
     "output_type": "stream",
     "text": [
      "Coluna com maior média: fr_benzene\n",
      "Coluna com menor média: fr_COO2\n"
     ]
    }
   ],
   "source": [
    "# Filtrar linhas com Y=1 e selecionar colunas que começam com \"fr\"\n",
    "df_filtered = df_global.loc[df_global['Y'] == 1].filter(regex='^fr_')\n",
    "\n",
    "# Calcular a média das colunas e obter o nome da coluna com maior e menor média\n",
    "col_max = df_filtered.mean().idxmax()\n",
    "col_min = df_filtered.mean().idxmin()\n",
    "\n",
    "print(f\"Coluna com maior média: {col_max}\")\n",
    "print(f\"Coluna com menor média: {col_min}\")\n"
   ]
  },
  {
   "cell_type": "code",
   "execution_count": 21,
   "metadata": {},
   "outputs": [
    {
     "data": {
      "text/plain": [
       "<seaborn.axisgrid.FacetGrid at 0x2b59fb4ed90>"
      ]
     },
     "execution_count": 21,
     "metadata": {},
     "output_type": "execute_result"
    },
    {
     "data": {
      "image/png": "[encoded data removed]",
      "text/plain": [
       "<Figure size 402.375x360 with 1 Axes>"
      ]
     },
     "metadata": {
      "needs_background": "light"
     },
     "output_type": "display_data"
    },
    {
     "data": {
      "image/png": "[encoded data removed]",
      "text/plain": [
       "<Figure size 402.375x360 with 1 Axes>"
      ]
     },
     "metadata": {
      "needs_background": "light"
     },
     "output_type": "display_data"
    }
   ],
   "source": [
    "# Filtrar os dados por y=1 e y=0\n",
    "df_y1 = df_global[df_global['Y']==1]\n",
    "df_y0 = df_global[df_global['Y']==0]\n",
    "\n",
    "# Criar o displot para fr_C002 em relação a Y\n",
    "sns.displot(data=df_global, x='fr_COO2', hue='Y', kde=False)\n",
    "\n",
    "# Criar o displot para fr_benzene em relação a Y\n",
    "sns.displot(data=df_global, x='fr_benzene', hue='Y', kde=False)\n",
    "\n"
   ]
  },
  {
   "attachments": {},
   "cell_type": "markdown",
   "metadata": {},
   "source": [
    "O resultado obtido vai de encontro ao que era esperado no sentido em que : a maior média associada a uma capacidade mutagénica presente (y=1) teria de ser a menor média quando se estivesse a observar a coluna y=0 e vice-versa. Sendo assim as duas colunas que achamos mais relevantes estudar no grupo \"fr_\" seriam fr_benzene (associada a y=1) e fr_COO2(associada a y=0).\n",
    "\n",
    "Além disso, os resultados obtidos vão de acordo ao descrito na literatura, onde o benzeno é conhecido por ser um composto químico altamente cancerígeno e mutagénico. A exposição prolongada ao benzeno pode causar danos no DNA e aumentar o risco de desenvolver cancro. Portanto, o fr_benzene pode estar relacionado à capacidade mutagénica dos compostos no dataset ames. É importante ressaltar, no entanto, que a análise da relação entre fr_benzene e capacidade mutagênica poderia ser mais extensamente explorada considerando outros fatores, como a dosagem e a frequência de exposição ao benzeno. Relativamente ao COO2, um ester carboxílico,na literatura não foram encontrdas evidências científicas que indiquem que compostos com  COO2, por si só, esteja, diretamente relacionado com a capacidade mutagénica tal como verificado pelos resultados.\n",
    "\n",
    "Relativamente aos gráficos criados, a barra cinza  indica a densidade de frequência que é compartilhada pelas duas categorias de y (y=0 e y=1) para o fr_ em questão. A parte colorida do gráfico indica a distribuição de fr_COO2 ou fr_benzene para cada categoria de y. Lembrando que os valores valores foram previamente normalizados, a forma mais direta de interpretar estes gráfico é , por exemplo, no gráfico fr_COO2 podemos ver que todos os valores associados a y=1 estão com fr_COO2  de 0, ou seja este tipo de molécula não está ligado à capacidade mutagénica. No gráfico do fr_benzene vemos que a maior parte dos valores >0  estão associados a y=1. \n",
    "\n",
    "É sabido que podem haver mais composto com, por exemplo, elevadas médias tal como o benzeno para a coluna y=1 e que também poderiam ser tidos em consideração, contudo para permitir filtrar um pouco a nossa análise apenas temos em consideração o fr_benzene e fr_COO2.\n",
    "\n"
   ]
  },
  {
   "attachments": {},
   "cell_type": "markdown",
   "metadata": {},
   "source": [
    "O segundo \"grupo\" a ser analisado foi o \"SMR_VSA\" que se refere às contribuições do descritor VSA (Volume-based Surface Area) para a pontuação SMR (Small Molecule Risk) de uma molécula. O descritor VSA é uma medida que descreve a distribuição da área superficial de uma molécula, e é comumente usado em estudos de QSAR (Quantitative Structure-Activity Relationship) para prever a atividade biológica de compostos químicos. EM suma, SMR_VSA é um descritor molecular que mede a distribuição da área superficial da molécula em diferentes regiões.\n",
    "\n",
    "\n"
   ]
  },
  {
   "cell_type": "code",
   "execution_count": 22,
   "metadata": {},
   "outputs": [
    {
     "data": {
      "text/html": [
       "<div>\n",
       "<style scoped>\n",
       "    .dataframe tbody tr th:only-of-type {\n",
       "        vertical-align: middle;\n",
       "    }\n",
       "\n",
       "    .dataframe tbody tr th {\n",
       "        vertical-align: top;\n",
       "    }\n",
       "\n",
       "    .dataframe thead th {\n",
       "        text-align: right;\n",
       "    }\n",
       "</style>\n",
       "<table border=\"1\" class=\"dataframe\">\n",
       "  <thead>\n",
       "    <tr style=\"text-align: right;\">\n",
       "      <th></th>\n",
       "      <th>SMR_VSA1</th>\n",
       "      <th>SMR_VSA10</th>\n",
       "      <th>SMR_VSA2</th>\n",
       "      <th>SMR_VSA3</th>\n",
       "      <th>SMR_VSA4</th>\n",
       "      <th>SMR_VSA5</th>\n",
       "      <th>SMR_VSA6</th>\n",
       "      <th>SMR_VSA7</th>\n",
       "      <th>SMR_VSA8</th>\n",
       "      <th>SMR_VSA9</th>\n",
       "    </tr>\n",
       "  </thead>\n",
       "  <tbody>\n",
       "    <tr>\n",
       "      <th>10</th>\n",
       "      <td>-1.036122</td>\n",
       "      <td>-0.092389</td>\n",
       "      <td>-0.151487</td>\n",
       "      <td>2.507759</td>\n",
       "      <td>-0.439277</td>\n",
       "      <td>-0.742669</td>\n",
       "      <td>0.892621</td>\n",
       "      <td>-1.394378</td>\n",
       "      <td>0.0</td>\n",
       "      <td>-0.525029</td>\n",
       "    </tr>\n",
       "    <tr>\n",
       "      <th>999</th>\n",
       "      <td>-1.036122</td>\n",
       "      <td>-1.188383</td>\n",
       "      <td>-0.151487</td>\n",
       "      <td>-0.594015</td>\n",
       "      <td>-0.439277</td>\n",
       "      <td>0.429995</td>\n",
       "      <td>-0.746279</td>\n",
       "      <td>-1.394378</td>\n",
       "      <td>0.0</td>\n",
       "      <td>-0.525029</td>\n",
       "    </tr>\n",
       "    <tr>\n",
       "      <th>1003</th>\n",
       "      <td>-1.036122</td>\n",
       "      <td>-0.210007</td>\n",
       "      <td>-0.151487</td>\n",
       "      <td>-0.594015</td>\n",
       "      <td>-0.439277</td>\n",
       "      <td>-0.742669</td>\n",
       "      <td>-0.746279</td>\n",
       "      <td>0.896484</td>\n",
       "      <td>0.0</td>\n",
       "      <td>1.127048</td>\n",
       "    </tr>\n",
       "    <tr>\n",
       "      <th>1005</th>\n",
       "      <td>-1.036122</td>\n",
       "      <td>-1.188383</td>\n",
       "      <td>-0.151487</td>\n",
       "      <td>0.508951</td>\n",
       "      <td>-0.439277</td>\n",
       "      <td>0.109129</td>\n",
       "      <td>-0.074782</td>\n",
       "      <td>-0.002282</td>\n",
       "      <td>0.0</td>\n",
       "      <td>-0.525029</td>\n",
       "    </tr>\n",
       "    <tr>\n",
       "      <th>1006</th>\n",
       "      <td>-0.556493</td>\n",
       "      <td>-0.839079</td>\n",
       "      <td>-0.151487</td>\n",
       "      <td>-0.594015</td>\n",
       "      <td>-0.439277</td>\n",
       "      <td>-0.438454</td>\n",
       "      <td>-0.746279</td>\n",
       "      <td>0.154707</td>\n",
       "      <td>0.0</td>\n",
       "      <td>-0.525029</td>\n",
       "    </tr>\n",
       "    <tr>\n",
       "      <th>...</th>\n",
       "      <td>...</td>\n",
       "      <td>...</td>\n",
       "      <td>...</td>\n",
       "      <td>...</td>\n",
       "      <td>...</td>\n",
       "      <td>...</td>\n",
       "      <td>...</td>\n",
       "      <td>...</td>\n",
       "      <td>...</td>\n",
       "      <td>...</td>\n",
       "    </tr>\n",
       "    <tr>\n",
       "      <th>991</th>\n",
       "      <td>-1.036122</td>\n",
       "      <td>-0.839079</td>\n",
       "      <td>4.874680</td>\n",
       "      <td>-0.594015</td>\n",
       "      <td>-0.439277</td>\n",
       "      <td>-0.438454</td>\n",
       "      <td>-0.746279</td>\n",
       "      <td>-0.044570</td>\n",
       "      <td>0.0</td>\n",
       "      <td>-0.525029</td>\n",
       "    </tr>\n",
       "    <tr>\n",
       "      <th>993</th>\n",
       "      <td>-0.556493</td>\n",
       "      <td>-0.126579</td>\n",
       "      <td>-0.151487</td>\n",
       "      <td>-0.594015</td>\n",
       "      <td>-0.439277</td>\n",
       "      <td>-0.484314</td>\n",
       "      <td>-0.746279</td>\n",
       "      <td>0.154707</td>\n",
       "      <td>0.0</td>\n",
       "      <td>-0.525029</td>\n",
       "    </tr>\n",
       "    <tr>\n",
       "      <th>994</th>\n",
       "      <td>3.313985</td>\n",
       "      <td>-0.122808</td>\n",
       "      <td>-0.151487</td>\n",
       "      <td>-0.594015</td>\n",
       "      <td>-0.439277</td>\n",
       "      <td>0.335860</td>\n",
       "      <td>0.560637</td>\n",
       "      <td>0.605998</td>\n",
       "      <td>0.0</td>\n",
       "      <td>2.035962</td>\n",
       "    </tr>\n",
       "    <tr>\n",
       "      <th>997</th>\n",
       "      <td>-0.071560</td>\n",
       "      <td>0.565709</td>\n",
       "      <td>-0.151487</td>\n",
       "      <td>-0.594015</td>\n",
       "      <td>-0.439277</td>\n",
       "      <td>-0.742669</td>\n",
       "      <td>-0.324425</td>\n",
       "      <td>-1.394378</td>\n",
       "      <td>0.0</td>\n",
       "      <td>-0.525029</td>\n",
       "    </tr>\n",
       "    <tr>\n",
       "      <th>998</th>\n",
       "      <td>-0.538644</td>\n",
       "      <td>1.458080</td>\n",
       "      <td>-0.151487</td>\n",
       "      <td>-0.594015</td>\n",
       "      <td>-0.439277</td>\n",
       "      <td>-0.742669</td>\n",
       "      <td>-0.746279</td>\n",
       "      <td>1.193556</td>\n",
       "      <td>0.0</td>\n",
       "      <td>0.328635</td>\n",
       "    </tr>\n",
       "  </tbody>\n",
       "</table>\n",
       "<p>7273 rows × 10 columns</p>\n",
       "</div>"
      ],
      "text/plain": [
       "      SMR_VSA1  SMR_VSA10  SMR_VSA2  SMR_VSA3  SMR_VSA4  SMR_VSA5  SMR_VSA6  \\\n",
       "10   -1.036122  -0.092389 -0.151487  2.507759 -0.439277 -0.742669  0.892621   \n",
       "999  -1.036122  -1.188383 -0.151487 -0.594015 -0.439277  0.429995 -0.746279   \n",
       "1003 -1.036122  -0.210007 -0.151487 -0.594015 -0.439277 -0.742669 -0.746279   \n",
       "1005 -1.036122  -1.188383 -0.151487  0.508951 -0.439277  0.109129 -0.074782   \n",
       "1006 -0.556493  -0.839079 -0.151487 -0.594015 -0.439277 -0.438454 -0.746279   \n",
       "...        ...        ...       ...       ...       ...       ...       ...   \n",
       "991  -1.036122  -0.839079  4.874680 -0.594015 -0.439277 -0.438454 -0.746279   \n",
       "993  -0.556493  -0.126579 -0.151487 -0.594015 -0.439277 -0.484314 -0.746279   \n",
       "994   3.313985  -0.122808 -0.151487 -0.594015 -0.439277  0.335860  0.560637   \n",
       "997  -0.071560   0.565709 -0.151487 -0.594015 -0.439277 -0.742669 -0.324425   \n",
       "998  -0.538644   1.458080 -0.151487 -0.594015 -0.439277 -0.742669 -0.746279   \n",
       "\n",
       "      SMR_VSA7  SMR_VSA8  SMR_VSA9  \n",
       "10   -1.394378       0.0 -0.525029  \n",
       "999  -1.394378       0.0 -0.525029  \n",
       "1003  0.896484       0.0  1.127048  \n",
       "1005 -0.002282       0.0 -0.525029  \n",
       "1006  0.154707       0.0 -0.525029  \n",
       "...        ...       ...       ...  \n",
       "991  -0.044570       0.0 -0.525029  \n",
       "993   0.154707       0.0 -0.525029  \n",
       "994   0.605998       0.0  2.035962  \n",
       "997  -1.394378       0.0 -0.525029  \n",
       "998   1.193556       0.0  0.328635  \n",
       "\n",
       "[7273 rows x 10 columns]"
      ]
     },
     "execution_count": 22,
     "metadata": {},
     "output_type": "execute_result"
    }
   ],
   "source": [
    "# Selecionando as colunas que começam com \"SMR_VSA\"\n",
    "cols_SMR = df_global.filter(regex='^SMR_VSA').columns\n",
    "\n",
    "# Aplicando a normalização apenas nessas colunas\n",
    "scaler = StandardScaler()\n",
    "df_global[cols_SMR] = scaler.fit_transform(df_global[cols_SMR])\n",
    "df_global[cols_SMR]"
   ]
  },
  {
   "cell_type": "code",
   "execution_count": 23,
   "metadata": {},
   "outputs": [
    {
     "name": "stdout",
     "output_type": "stream",
     "text": [
      "Coluna com maior média: SMR_VSA5\n",
      "Coluna com menor média: SMR_VSA7\n"
     ]
    }
   ],
   "source": [
    "# Filtrar linhas com Y=0 e selecionar colunas que começam com \"SMR_VSA\"\n",
    "df_filtered = df_global.loc[df_global['Y'] == 0].filter(regex='^SMR_VSA')\n",
    "\n",
    "# Calcular a média das colunas e obter o nome da coluna com maior e menor média\n",
    "col_max = df_filtered.mean().idxmax()\n",
    "col_min = df_filtered.mean().idxmin()\n",
    "\n",
    "print(f\"Coluna com maior média: {col_max}\")\n",
    "print(f\"Coluna com menor média: {col_min}\")"
   ]
  },
  {
   "cell_type": "code",
   "execution_count": 24,
   "metadata": {},
   "outputs": [
    {
     "name": "stdout",
     "output_type": "stream",
     "text": [
      "Coluna com maior média: SMR_VSA7\n",
      "Coluna com menor média: SMR_VSA5\n"
     ]
    }
   ],
   "source": [
    "# Filtrar linhas com Y=1 e selecionar colunas que começam com \"SMR_VSA\"\n",
    "df_filtered = df_global.loc[df_global['Y'] == 1].filter(regex='^SMR_VSA')\n",
    "\n",
    "# Calcular a média das colunas e obter o nome da coluna com maior e menor média\n",
    "col_max = df_filtered.mean().idxmax()\n",
    "col_min = df_filtered.mean().idxmin()\n",
    "\n",
    "print(f\"Coluna com maior média: {col_max}\")\n",
    "print(f\"Coluna com menor média: {col_min}\")"
   ]
  },
  {
   "cell_type": "code",
   "execution_count": 25,
   "metadata": {},
   "outputs": [
    {
     "data": {
      "text/plain": [
       "<seaborn.axisgrid.FacetGrid at 0x2b59fb378e0>"
      ]
     },
     "execution_count": 25,
     "metadata": {},
     "output_type": "execute_result"
    },
    {
     "data": {
      "image/png": "[encoded data removed]",
      "text/plain": [
       "<Figure size 402.375x360 with 1 Axes>"
      ]
     },
     "metadata": {
      "needs_background": "light"
     },
     "output_type": "display_data"
    },
    {
     "data": {
      "image/png": "[encoded data removed]",
      "text/plain": [
       "<Figure size 402.375x360 with 1 Axes>"
      ]
     },
     "metadata": {
      "needs_background": "light"
     },
     "output_type": "display_data"
    }
   ],
   "source": [
    "# Filtrar os dados por y=1 e y=0\n",
    "df_y1 = df_global[df_global['Y']==1]\n",
    "df_y0 = df_global[df_global['Y']==0]\n",
    "\n",
    "# Criar o displot para fr_C002 em relação a Y\n",
    "sns.displot(data=df_global, x='SMR_VSA7', hue='Y', kde=False)\n",
    "\n",
    "# Criar o displot para fr_benzene em relação a Y\n",
    "sns.displot(data=df_global, x='SMR_VSA5', hue='Y', kde=False)"
   ]
  },
  {
   "attachments": {},
   "cell_type": "markdown",
   "metadata": {},
   "source": [
    "As colunas SMR_VSA7 e SMR_VSA5 foram aquelas que obtiveram uma maior média quando associadas à coluna y=1 e y=0, respetivamente. Como já referido, SMR_VSA é um descritor molecular que mede a distribuição da área superficial da molécula em diferentes regiões. SMR_VSA5 e SMR_VSA7 são valores de SMR_VSA correspondentes às regiões 5 e 7 da molécula, respectivamente. A maior média de SMR_VSA7 em moléculas mutagênicas em comparação com SMR_VSA5 em moléculas não mutagênicas pode ser explicada por diferenças nas características estruturais das moléculas.\n",
    "\n",
    "Moléculas mutagênicas geralmente têm uma estrutura mais complexa e incluem grupos funcionais que podem ser mais reativos e interagir com o DNA, resultando em danos no material genético. Esses grupos funcionais podem estar localizados em regiões específicas da molécula, como a região 7 (segundo os resultados). Assim, segundo os resultados podemos concluir que a região 7 das moléculas analisadas seria aquela que apresentaria uma estrutura mais complexa sendo por isso mais associdada a um potencial mutagénico.\n",
    "\n",
    "Uma molécula com uma área superficial maior em uma determinada região pode ser mais propensa a interagir com o DNA e, portanto, pode ter uma maior capacidade mutagênica. No entanto, outros fatores, como a carga elétrica da molécula, sua polaridade e sua solubilidade em água, também podem influenciar sua interação com o DNA e, portanto, sua capacidade mutagênica.Portanto, embora uma pontuação SMR_VSA mais alta  numa determinada região ou regiões possa estar associada a uma maior capacidade mutagênica, essa relação é complexa e depende de vários outros fatores.\n",
    "\n",
    "Através dos gráficos apresentados é possivel verificar, por exemplo no gráfico do SMR_VSA5, que realmente a coluna y=1 está associada a menores valores deste parâmetro levando a crer que esta região não está associada a capacidade mutagénica. Todavia, pela interpretação do gráfico relativo a SMR_VSA7 o output parace não clarificar tanto uma diferença entre a coluna y=0 e y=1.\n",
    "\n",
    "\n",
    "Em conclusão, achamos que estes parametros do SMR_VSA por si só não são suficientes para criar uma associação direta entre os seus valores e capacidade mutagénica, mas juntamente com os restantes parametros podem ser uteis."
   ]
  },
  {
   "attachments": {},
   "cell_type": "markdown",
   "metadata": {},
   "source": [
    "O terceito \"grupo\" a ser analisado goi o \"SlogP_VSA\", bastante utilizada para prever certas propriedades farmacocinéticas de uma molécula, se refere ao logaritmo do coeficiente de partição octanol-água ajustado para a forma molecular.O coeficiente de partição octanol-água é uma medida da solubilidade de uma molécula em água em comparação com a solubilidade em octanol (um solvente orgânico). A solubilidade é uma propriedade importante de uma molécula, pois pode influenciar sua absorção, distribuição, metabolismo e excreção no organismo, bem como sua interação com biomoléculas, como proteínas e DNA.\n",
    "\n"
   ]
  },
  {
   "cell_type": "code",
   "execution_count": 26,
   "metadata": {},
   "outputs": [
    {
     "data": {
      "text/html": [
       "<div>\n",
       "<style scoped>\n",
       "    .dataframe tbody tr th:only-of-type {\n",
       "        vertical-align: middle;\n",
       "    }\n",
       "\n",
       "    .dataframe tbody tr th {\n",
       "        vertical-align: top;\n",
       "    }\n",
       "\n",
       "    .dataframe thead th {\n",
       "        text-align: right;\n",
       "    }\n",
       "</style>\n",
       "<table border=\"1\" class=\"dataframe\">\n",
       "  <thead>\n",
       "    <tr style=\"text-align: right;\">\n",
       "      <th></th>\n",
       "      <th>SlogP_VSA1</th>\n",
       "      <th>SlogP_VSA10</th>\n",
       "      <th>SlogP_VSA11</th>\n",
       "      <th>SlogP_VSA12</th>\n",
       "      <th>SlogP_VSA2</th>\n",
       "      <th>SlogP_VSA3</th>\n",
       "      <th>SlogP_VSA4</th>\n",
       "      <th>SlogP_VSA5</th>\n",
       "      <th>SlogP_VSA6</th>\n",
       "      <th>SlogP_VSA7</th>\n",
       "      <th>SlogP_VSA8</th>\n",
       "      <th>SlogP_VSA9</th>\n",
       "    </tr>\n",
       "  </thead>\n",
       "  <tbody>\n",
       "    <tr>\n",
       "      <th>10</th>\n",
       "      <td>2.675908</td>\n",
       "      <td>2.513085</td>\n",
       "      <td>-0.421256</td>\n",
       "      <td>-0.441593</td>\n",
       "      <td>-0.271546</td>\n",
       "      <td>-0.795797</td>\n",
       "      <td>-0.628698</td>\n",
       "      <td>-0.780329</td>\n",
       "      <td>-1.273520</td>\n",
       "      <td>-0.240166</td>\n",
       "      <td>-0.639963</td>\n",
       "      <td>0.0</td>\n",
       "    </tr>\n",
       "    <tr>\n",
       "      <th>999</th>\n",
       "      <td>-0.724149</td>\n",
       "      <td>-0.607150</td>\n",
       "      <td>-0.421256</td>\n",
       "      <td>-0.441593</td>\n",
       "      <td>-1.084027</td>\n",
       "      <td>-0.795797</td>\n",
       "      <td>-0.628698</td>\n",
       "      <td>0.463243</td>\n",
       "      <td>-1.273520</td>\n",
       "      <td>-0.240166</td>\n",
       "      <td>-0.639963</td>\n",
       "      <td>0.0</td>\n",
       "    </tr>\n",
       "    <tr>\n",
       "      <th>1003</th>\n",
       "      <td>-0.724149</td>\n",
       "      <td>-0.607150</td>\n",
       "      <td>-0.421256</td>\n",
       "      <td>0.775564</td>\n",
       "      <td>-1.084027</td>\n",
       "      <td>-0.795797</td>\n",
       "      <td>-0.628698</td>\n",
       "      <td>-0.780329</td>\n",
       "      <td>1.308981</td>\n",
       "      <td>-0.240166</td>\n",
       "      <td>0.303593</td>\n",
       "      <td>0.0</td>\n",
       "    </tr>\n",
       "    <tr>\n",
       "      <th>1005</th>\n",
       "      <td>0.326800</td>\n",
       "      <td>-0.607150</td>\n",
       "      <td>-0.421256</td>\n",
       "      <td>-0.441593</td>\n",
       "      <td>-0.372749</td>\n",
       "      <td>0.084091</td>\n",
       "      <td>-0.628698</td>\n",
       "      <td>-0.198492</td>\n",
       "      <td>0.052567</td>\n",
       "      <td>-0.240166</td>\n",
       "      <td>-0.639963</td>\n",
       "      <td>0.0</td>\n",
       "    </tr>\n",
       "    <tr>\n",
       "      <th>1006</th>\n",
       "      <td>-0.724149</td>\n",
       "      <td>0.387300</td>\n",
       "      <td>-0.421256</td>\n",
       "      <td>-0.441593</td>\n",
       "      <td>-0.816497</td>\n",
       "      <td>-0.795797</td>\n",
       "      <td>1.494343</td>\n",
       "      <td>-0.521102</td>\n",
       "      <td>-0.212651</td>\n",
       "      <td>-0.240166</td>\n",
       "      <td>-0.639963</td>\n",
       "      <td>0.0</td>\n",
       "    </tr>\n",
       "    <tr>\n",
       "      <th>...</th>\n",
       "      <td>...</td>\n",
       "      <td>...</td>\n",
       "      <td>...</td>\n",
       "      <td>...</td>\n",
       "      <td>...</td>\n",
       "      <td>...</td>\n",
       "      <td>...</td>\n",
       "      <td>...</td>\n",
       "      <td>...</td>\n",
       "      <td>...</td>\n",
       "      <td>...</td>\n",
       "      <td>...</td>\n",
       "    </tr>\n",
       "    <tr>\n",
       "      <th>991</th>\n",
       "      <td>-0.724149</td>\n",
       "      <td>0.387300</td>\n",
       "      <td>-0.421256</td>\n",
       "      <td>-0.441593</td>\n",
       "      <td>-1.084027</td>\n",
       "      <td>-0.795797</td>\n",
       "      <td>0.906021</td>\n",
       "      <td>-0.521102</td>\n",
       "      <td>-0.212651</td>\n",
       "      <td>-0.240166</td>\n",
       "      <td>-0.218003</td>\n",
       "      <td>0.0</td>\n",
       "    </tr>\n",
       "    <tr>\n",
       "      <th>993</th>\n",
       "      <td>-0.724149</td>\n",
       "      <td>0.387300</td>\n",
       "      <td>-0.421256</td>\n",
       "      <td>0.444798</td>\n",
       "      <td>-0.816497</td>\n",
       "      <td>0.009979</td>\n",
       "      <td>0.631605</td>\n",
       "      <td>-0.521102</td>\n",
       "      <td>-0.212651</td>\n",
       "      <td>-0.240166</td>\n",
       "      <td>-0.639963</td>\n",
       "      <td>0.0</td>\n",
       "    </tr>\n",
       "    <tr>\n",
       "      <th>994</th>\n",
       "      <td>0.212169</td>\n",
       "      <td>-0.607150</td>\n",
       "      <td>3.028650</td>\n",
       "      <td>-0.441593</td>\n",
       "      <td>2.295898</td>\n",
       "      <td>0.741119</td>\n",
       "      <td>-0.628698</td>\n",
       "      <td>1.805425</td>\n",
       "      <td>-0.477868</td>\n",
       "      <td>-0.240166</td>\n",
       "      <td>-0.639963</td>\n",
       "      <td>0.0</td>\n",
       "    </tr>\n",
       "    <tr>\n",
       "      <th>997</th>\n",
       "      <td>-0.724149</td>\n",
       "      <td>-0.607150</td>\n",
       "      <td>-0.421256</td>\n",
       "      <td>1.284504</td>\n",
       "      <td>-0.241580</td>\n",
       "      <td>-0.138770</td>\n",
       "      <td>-0.628698</td>\n",
       "      <td>-0.780329</td>\n",
       "      <td>-1.273520</td>\n",
       "      <td>-0.240166</td>\n",
       "      <td>-0.639963</td>\n",
       "      <td>0.0</td>\n",
       "    </tr>\n",
       "    <tr>\n",
       "      <th>998</th>\n",
       "      <td>-0.724149</td>\n",
       "      <td>-0.607150</td>\n",
       "      <td>0.728713</td>\n",
       "      <td>-0.441593</td>\n",
       "      <td>-0.806541</td>\n",
       "      <td>-0.795797</td>\n",
       "      <td>-0.628698</td>\n",
       "      <td>-0.780329</td>\n",
       "      <td>1.643871</td>\n",
       "      <td>-0.240166</td>\n",
       "      <td>3.014031</td>\n",
       "      <td>0.0</td>\n",
       "    </tr>\n",
       "  </tbody>\n",
       "</table>\n",
       "<p>7273 rows × 12 columns</p>\n",
       "</div>"
      ],
      "text/plain": [
       "      SlogP_VSA1  SlogP_VSA10  SlogP_VSA11  SlogP_VSA12  SlogP_VSA2  \\\n",
       "10      2.675908     2.513085    -0.421256    -0.441593   -0.271546   \n",
       "999    -0.724149    -0.607150    -0.421256    -0.441593   -1.084027   \n",
       "1003   -0.724149    -0.607150    -0.421256     0.775564   -1.084027   \n",
       "1005    0.326800    -0.607150    -0.421256    -0.441593   -0.372749   \n",
       "1006   -0.724149     0.387300    -0.421256    -0.441593   -0.816497   \n",
       "...          ...          ...          ...          ...         ...   \n",
       "991    -0.724149     0.387300    -0.421256    -0.441593   -1.084027   \n",
       "993    -0.724149     0.387300    -0.421256     0.444798   -0.816497   \n",
       "994     0.212169    -0.607150     3.028650    -0.441593    2.295898   \n",
       "997    -0.724149    -0.607150    -0.421256     1.284504   -0.241580   \n",
       "998    -0.724149    -0.607150     0.728713    -0.441593   -0.806541   \n",
       "\n",
       "      SlogP_VSA3  SlogP_VSA4  SlogP_VSA5  SlogP_VSA6  SlogP_VSA7  SlogP_VSA8  \\\n",
       "10     -0.795797   -0.628698   -0.780329   -1.273520   -0.240166   -0.639963   \n",
       "999    -0.795797   -0.628698    0.463243   -1.273520   -0.240166   -0.639963   \n",
       "1003   -0.795797   -0.628698   -0.780329    1.308981   -0.240166    0.303593   \n",
       "1005    0.084091   -0.628698   -0.198492    0.052567   -0.240166   -0.639963   \n",
       "1006   -0.795797    1.494343   -0.521102   -0.212651   -0.240166   -0.639963   \n",
       "...          ...         ...         ...         ...         ...         ...   \n",
       "991    -0.795797    0.906021   -0.521102   -0.212651   -0.240166   -0.218003   \n",
       "993     0.009979    0.631605   -0.521102   -0.212651   -0.240166   -0.639963   \n",
       "994     0.741119   -0.628698    1.805425   -0.477868   -0.240166   -0.639963   \n",
       "997    -0.138770   -0.628698   -0.780329   -1.273520   -0.240166   -0.639963   \n",
       "998    -0.795797   -0.628698   -0.780329    1.643871   -0.240166    3.014031   \n",
       "\n",
       "      SlogP_VSA9  \n",
       "10           0.0  \n",
       "999          0.0  \n",
       "1003         0.0  \n",
       "1005         0.0  \n",
       "1006         0.0  \n",
       "...          ...  \n",
       "991          0.0  \n",
       "993          0.0  \n",
       "994          0.0  \n",
       "997          0.0  \n",
       "998          0.0  \n",
       "\n",
       "[7273 rows x 12 columns]"
      ]
     },
     "execution_count": 26,
     "metadata": {},
     "output_type": "execute_result"
    }
   ],
   "source": [
    "# Selecionando as colunas que começam com \"SlogP\"\n",
    "cols_SlogP = df_global.filter(regex='^SlogP').columns\n",
    "\n",
    "# Aplicando a normalização apenas nessas colunas\n",
    "scaler = StandardScaler()\n",
    "df_global[cols_SlogP] = scaler.fit_transform(df_global[cols_SlogP])\n",
    "df_global[cols_SlogP]"
   ]
  },
  {
   "cell_type": "code",
   "execution_count": 27,
   "metadata": {},
   "outputs": [
    {
     "name": "stdout",
     "output_type": "stream",
     "text": [
      "Coluna com maior média: SlogP_VSA5\n",
      "Coluna com menor média: SlogP_VSA8\n"
     ]
    }
   ],
   "source": [
    "# Filtrar linhas com Y=0 e selecionar colunas que começam com \"SlogP\"\n",
    "df_filtered = df_global.loc[df_global['Y'] == 0].filter(regex='^SlogP')\n",
    "\n",
    "# Calcular a média das colunas e obter o nome da coluna com maior e menor média\n",
    "col_max = df_filtered.mean().idxmax()\n",
    "col_min = df_filtered.mean().idxmin()\n",
    "\n",
    "print(f\"Coluna com maior média: {col_max}\")\n",
    "print(f\"Coluna com menor média: {col_min}\")"
   ]
  },
  {
   "cell_type": "code",
   "execution_count": 28,
   "metadata": {},
   "outputs": [
    {
     "name": "stdout",
     "output_type": "stream",
     "text": [
      "Coluna com maior média: SlogP_VSA8\n",
      "Coluna com menor média: SlogP_VSA5\n"
     ]
    }
   ],
   "source": [
    "# Filtrar linhas com Y=1 e selecionar colunas que começam com \"SlogP\"\n",
    "df_filtered = df_global.loc[df_global['Y'] == 1].filter(regex='^SlogP')\n",
    "\n",
    "# Calcular a média das colunas e obter o nome da coluna com maior e menor média\n",
    "col_max = df_filtered.mean().idxmax()\n",
    "col_min = df_filtered.mean().idxmin()\n",
    "\n",
    "print(f\"Coluna com maior média: {col_max}\")\n",
    "print(f\"Coluna com menor média: {col_min}\")"
   ]
  },
  {
   "cell_type": "code",
   "execution_count": 29,
   "metadata": {},
   "outputs": [
    {
     "data": {
      "text/plain": [
       "<seaborn.axisgrid.FacetGrid at 0x2b59fbc5370>"
      ]
     },
     "execution_count": 29,
     "metadata": {},
     "output_type": "execute_result"
    },
    {
     "data": {
      "image/png": "[encoded data removed]",
      "text/plain": [
       "<Figure size 402.375x360 with 1 Axes>"
      ]
     },
     "metadata": {
      "needs_background": "light"
     },
     "output_type": "display_data"
    },
    {
     "data": {
      "image/png": "[encoded data removed]",
      "text/plain": [
       "<Figure size 402.375x360 with 1 Axes>"
      ]
     },
     "metadata": {
      "needs_background": "light"
     },
     "output_type": "display_data"
    }
   ],
   "source": [
    "# Filtrar os dados por y=1 e y=0\n",
    "df_y1 = df_global[df_global['Y']==1]\n",
    "df_y0 = df_global[df_global['Y']==0]\n",
    "\n",
    "# Criar o displot para fr_C002 em relação a Y\n",
    "sns.displot(data=df_global, x='SlogP_VSA5', hue='Y', kde=False)\n",
    "\n",
    "# Criar o displot para fr_benzene em relação a Y\n",
    "sns.displot(data=df_global, x='SlogP_VSA8', hue='Y', kde=False)"
   ]
  },
  {
   "attachments": {},
   "cell_type": "markdown",
   "metadata": {},
   "source": [
    "O SlogP_VSA pode estar associado à capacidade mutagênica de uma molécula, pois pode influenciar sua absorção, distribuição, metabolismo e excreção no organismo, bem como sua interação com biomoléculas, como proteínas e DNA. Moléculas com alta exposição superficial e com valores elevados de SlogP_VSA podem ter uma maior tendência a se acumular em tecidos adiposos e a atravessar membranas biológicas, o que pode afetar a interação da molécula com o DNA e levar a danos genéticos e mutações. Por outro lado, moléculas com baixo SlogP tendem a ser mais hidrofílicas e podem ser eliminadas mais facilmente pelo organismo, diminuindo a exposição a possíveis efeitos mutagénicos.\n",
    "\n",
    "Assim, segundo os resultados obtidos podemos concluir que a coluna SlogP_VSA8 ao ter maior valores pode estar associado a uma capacidade mutagénica, ao passo que a coluna SlogP_VSA5 como tem menor média não é expectavel que tenha associação a uma capacidade mutagénica. Segunda aa literatura esta diferença de valores deve estar associada com a região da droga analisada e com o tipo de átomos existentes sendo a região 5 uma zona com átomos de nitrogénios e oxigénios alifáticos e a região 8 com anéis aromáticos e heterocíclicos\n",
    "\n",
    "Relativamente aos gráficos a interpretação vai de acordo ao referido na análise do primeiro e segundo grupos analisados, ou seja , a maior parte das drogas associada a y=0, sem capcidade mutagénica, têm valores ausentes na coluna SlogP_VSA8  e o as drogas com capacidade mutagénica têm valores mais elevados. No que concerne ao gráfico que representa a associação da capacidade mutagénica, y=0 ou y=1, e SlogP_VSA5 a interpretação é semelhante mas feita de maneira inversa ou a maior parte dos valores de SlogP_VSA5, associados a y=1, são baixos e os valores mais elevados estão associados a um y=0. \n",
    "\n",
    "Salientar que, assim como acontece com outros descritores moleculares, a relação entre SlogP_VSA e a capacidade mutagénica de uma molécula é complexa e depende de muitos outros fatores, como a presença de grupos funcionais reativos e a estrutura tridimensional da molécula. Portanto, a análise de dados de SlogP_VSA por si só não é suficiente para determinar se uma molécula é mutagênica ou não."
   ]
  },
  {
   "attachments": {},
   "cell_type": "markdown",
   "metadata": {},
   "source": [
    "De seguida, decidimos explorar o MinAbsEStateIndex e MaxAbsEStateIndex que são descritores moleculares que medem a polaridade e a eletronegatividade de uma molécula.\n",
    "\n",
    "O MinAbsEStateIndex é o valor absoluto do menor valor de índice de estado de elétrons (EState) na molécula, enquanto o MaxAbsEStateIndex é o valor absoluto do maior valor de índice de estado de elétrons na molécula. O EState é uma medida de eletronegatividade que atribui valores numéricos aos átomos em uma molécula com base em sua capacidade de atrair elétrons em uma ligação covalente.\n",
    "\n",
    "Em termos gerais, quanto maior o valor de MinAbsEStateIndex ou MaxAbsEStateIndex, maior a polaridade e a eletronegatividade da molécula, o que pode estar associado a uma maior capacidade mutagênica. Moléculas polares e eletronegativas têm maior probabilidade de interagir com moléculas biológicas, como proteínas e DNA, levando a danos genéticos e mutações. No entanto, é importante lembrar que o efeito de um descritor molecular específico na capacidade mutagênica pode ser influenciado por outros fatores, como a estrutura química geral da molécula e a dose."
   ]
  },
  {
   "cell_type": "code",
   "execution_count": 30,
   "metadata": {},
   "outputs": [
    {
     "data": {
      "image/png": "[encoded data removed]",
      "text/plain": [
       "<Figure size 720x720 with 4 Axes>"
      ]
     },
     "metadata": {
      "needs_background": "light"
     },
     "output_type": "display_data"
    }
   ],
   "source": [
    "# criar os quatro dataframes para cada combinação de y e coluna\n",
    "df_y1_maxabs = df_global[df_global['Y'] == 1][['Y', 'MaxAbsEStateIndex']]\n",
    "df_y0_maxabs = df_global[df_global['Y'] == 0][['Y', 'MaxAbsEStateIndex']]\n",
    "df_y1_minabs = df_global[df_global['Y'] == 1][['Y', 'MinAbsEStateIndex']]\n",
    "df_y0_minabs = df_global[df_global['Y'] == 0][['Y', 'MinAbsEStateIndex']]\n",
    "\n",
    "# criar a figura e os subplots\n",
    "fig, axs = plt.subplots(nrows=2, ncols=2, figsize=(10, 10))\n",
    "\n",
    "# plotar cada boxplot nos subplots correspondentes\n",
    "sns.boxplot(x='Y', y='MaxAbsEStateIndex', data=df_y1_maxabs, showmeans=True, meanprops={\"marker\":\"o\", \"markerfacecolor\":\"white\", \"markeredgecolor\":\"black\", \"markersize\":\"10\"}, ax=axs[0, 0])\n",
    "axs[0, 0].set_title('MaxAbsEStateIndex para Y=1')\n",
    "\n",
    "sns.boxplot(x='Y', y='MaxAbsEStateIndex', data=df_y0_maxabs, showmeans=True, meanprops={\"marker\":\"o\", \"markerfacecolor\":\"white\", \"markeredgecolor\":\"black\", \"markersize\":\"10\"}, ax=axs[0, 1])\n",
    "axs[0, 1].set_title('MaxAbsEStateIndex para Y=0')\n",
    "\n",
    "sns.boxplot(x='Y', y='MinAbsEStateIndex', data=df_y1_minabs, showmeans=True, meanprops={\"marker\":\"o\", \"markerfacecolor\":\"white\", \"markeredgecolor\":\"black\", \"markersize\":\"10\"}, ax=axs[1, 0])\n",
    "axs[1, 0].set_title('MinAbsEStateIndex para Y=1')\n",
    "\n",
    "sns.boxplot(x='Y', y='MinAbsEStateIndex', data=df_y0_minabs, showmeans=True, meanprops={\"marker\":\"o\", \"markerfacecolor\":\"white\", \"markeredgecolor\":\"black\", \"markersize\":\"10\"}, ax=axs[1, 1])\n",
    "axs[1, 1].set_title('MinAbsEStateIndex para Y=0')\n",
    "\n",
    "# ajustar o espaçamento entre os subplots\n",
    "plt.tight_layout()\n",
    "\n",
    "# exibir o gráfico\n",
    "plt.show()\n",
    "\n",
    "\n",
    "\n"
   ]
  },
  {
   "cell_type": "code",
   "execution_count": 31,
   "metadata": {},
   "outputs": [
    {
     "data": {
      "text/html": [
       "<div>\n",
       "<style scoped>\n",
       "    .dataframe tbody tr th:only-of-type {\n",
       "        vertical-align: middle;\n",
       "    }\n",
       "\n",
       "    .dataframe tbody tr th {\n",
       "        vertical-align: top;\n",
       "    }\n",
       "\n",
       "    .dataframe thead th {\n",
       "        text-align: right;\n",
       "    }\n",
       "</style>\n",
       "<table border=\"1\" class=\"dataframe\">\n",
       "  <thead>\n",
       "    <tr style=\"text-align: right;\">\n",
       "      <th></th>\n",
       "      <th>MaxAbsEStateIndex</th>\n",
       "      <th>Y</th>\n",
       "    </tr>\n",
       "  </thead>\n",
       "  <tbody>\n",
       "    <tr>\n",
       "      <th>6175</th>\n",
       "      <td>17.286264</td>\n",
       "      <td>0</td>\n",
       "    </tr>\n",
       "    <tr>\n",
       "      <th>5396</th>\n",
       "      <td>16.859064</td>\n",
       "      <td>0</td>\n",
       "    </tr>\n",
       "    <tr>\n",
       "      <th>4765</th>\n",
       "      <td>15.351137</td>\n",
       "      <td>1</td>\n",
       "    </tr>\n",
       "    <tr>\n",
       "      <th>6756</th>\n",
       "      <td>15.351137</td>\n",
       "      <td>1</td>\n",
       "    </tr>\n",
       "    <tr>\n",
       "      <th>2471</th>\n",
       "      <td>15.192673</td>\n",
       "      <td>1</td>\n",
       "    </tr>\n",
       "  </tbody>\n",
       "</table>\n",
       "</div>"
      ],
      "text/plain": [
       "      MaxAbsEStateIndex  Y\n",
       "6175          17.286264  0\n",
       "5396          16.859064  0\n",
       "4765          15.351137  1\n",
       "6756          15.351137  1\n",
       "2471          15.192673  1"
      ]
     },
     "execution_count": 31,
     "metadata": {},
     "output_type": "execute_result"
    }
   ],
   "source": [
    "df_global.loc[df_global['MaxAbsEStateIndex'].nlargest(5).index, ['MaxAbsEStateIndex', 'Y']]\n"
   ]
  },
  {
   "cell_type": "code",
   "execution_count": 32,
   "metadata": {},
   "outputs": [
    {
     "data": {
      "text/html": [
       "<div>\n",
       "<style scoped>\n",
       "    .dataframe tbody tr th:only-of-type {\n",
       "        vertical-align: middle;\n",
       "    }\n",
       "\n",
       "    .dataframe tbody tr th {\n",
       "        vertical-align: top;\n",
       "    }\n",
       "\n",
       "    .dataframe thead th {\n",
       "        text-align: right;\n",
       "    }\n",
       "</style>\n",
       "<table border=\"1\" class=\"dataframe\">\n",
       "  <thead>\n",
       "    <tr style=\"text-align: right;\">\n",
       "      <th></th>\n",
       "      <th>MinAbsEStateIndex</th>\n",
       "      <th>Y</th>\n",
       "    </tr>\n",
       "  </thead>\n",
       "  <tbody>\n",
       "    <tr>\n",
       "      <th>863</th>\n",
       "      <td>4.944445</td>\n",
       "      <td>0</td>\n",
       "    </tr>\n",
       "    <tr>\n",
       "      <th>3917</th>\n",
       "      <td>4.736111</td>\n",
       "      <td>0</td>\n",
       "    </tr>\n",
       "    <tr>\n",
       "      <th>6445</th>\n",
       "      <td>4.666666</td>\n",
       "      <td>0</td>\n",
       "    </tr>\n",
       "    <tr>\n",
       "      <th>4989</th>\n",
       "      <td>4.475013</td>\n",
       "      <td>0</td>\n",
       "    </tr>\n",
       "    <tr>\n",
       "      <th>5727</th>\n",
       "      <td>4.236111</td>\n",
       "      <td>0</td>\n",
       "    </tr>\n",
       "  </tbody>\n",
       "</table>\n",
       "</div>"
      ],
      "text/plain": [
       "      MinAbsEStateIndex  Y\n",
       "863            4.944445  0\n",
       "3917           4.736111  0\n",
       "6445           4.666666  0\n",
       "4989           4.475013  0\n",
       "5727           4.236111  0"
      ]
     },
     "execution_count": 32,
     "metadata": {},
     "output_type": "execute_result"
    }
   ],
   "source": [
    "df_global.loc[df_global['MinAbsEStateIndex'].nlargest(5).index, ['MinAbsEStateIndex', 'Y']]\n"
   ]
  },
  {
   "attachments": {},
   "cell_type": "markdown",
   "metadata": {},
   "source": [
    "Da análise dos boxplot criados, é de imediato posivel verificar que os resultados não vão de acordo ao que era expactavel, uma vez que, os valores mais elevados das colunas analisadas se encontram associados a um y=0. Este aspecto pode ser devido a interação de outros fatores no decorrer do precesso de análise, tais como a dose ou a própria estruturas químicas. Isto não siginica que os dados que temos estão errados, ou algo do genero, apenas vem salientar o que temos referido que associar a capcidade mutagénica a uma ou duas colunas por si só pode nao ser suficiente nem a estratégia mais correta.\n",
    "\n",
    "\n",
    "Além disso, as médias representadas pela bola branca também parecem bastante semelhantes e na coluna MinAbsEStateIndex parece existir um conjunto de pontos outliers que também podem interferir negativamente com a visualização dos dados e respetivas conclusões"
   ]
  },
  {
   "attachments": {},
   "cell_type": "markdown",
   "metadata": {},
   "source": [
    "O QED (Quantitative Estimate of Drug-likeness) é um índice que mede a probabilidade de uma molécula ser um bom fármaco com base em sua estrutura química. O QED varia de 0 a 1, onde valores mais próximos de 1 indicam maior probabilidade de a molécula ser um bom fármaco. Desta forma, o nosso intuito foi explorar esta coluna e verificar se os dados obtidos vao de acordo ao expectável na medida em que se o qed tiver um valor muito elevado o farmaco é bom e portanto não terá capacidade mutagénica presente."
   ]
  },
  {
   "cell_type": "code",
   "execution_count": 41,
   "metadata": {},
   "outputs": [
    {
     "name": "stdout",
     "output_type": "stream",
     "text": [
      "Statistics=0.9967, p-value=0.000000000\n",
      "A distribuição não é normal\n"
     ]
    }
   ],
   "source": [
    "from scipy.stats import shapiro\n",
    "\n",
    "stat, p_value = shapiro(df_global['qed'])\n",
    "\n",
    "print(f'Statistics={stat:.4f}, p-value={p_value:.9f}')\n",
    "if p_value > 0.05:\n",
    "    print('A distribuição é normal')\n",
    "else:\n",
    "    print('A distribuição não é normal')\n"
   ]
  },
  {
   "cell_type": "code",
   "execution_count": 33,
   "metadata": {},
   "outputs": [
    {
     "data": {
      "image/png": "[encoded data removed]",
      "text/plain": [
       "<Figure size 360x360 with 1 Axes>"
      ]
     },
     "metadata": {
      "needs_background": "light"
     },
     "output_type": "display_data"
    }
   ],
   "source": [
    "sns.displot(df_global, x='qed', kde=True)\n",
    "plt.title('Distribuição de QED')\n",
    "plt.xlabel('QED')\n",
    "plt.ylabel('Frequência')\n",
    "plt.show()"
   ]
  },
  {
   "cell_type": "code",
   "execution_count": 42,
   "metadata": {},
   "outputs": [
    {
     "data": {
      "image/png": "[encoded data removed]",
      "text/plain": [
       "<Figure size 432x288 with 1 Axes>"
      ]
     },
     "metadata": {
      "needs_background": "light"
     },
     "output_type": "display_data"
    }
   ],
   "source": [
    "import seaborn as sns\n",
    "import matplotlib.pyplot as plt\n",
    "\n",
    "# separar os dados por valor de Y\n",
    "df_y1 = df_global[df_global['Y'] == 1]\n",
    "df_y0 = df_global[df_global['Y'] == 0]\n",
    "\n",
    "# criar o boxplot\n",
    "sns.boxplot(x='Y', y='qed', data=df_global)\n",
    "plt.title('Relação entre Y e qed')\n",
    "plt.xlabel('Y')\n",
    "plt.ylabel('qed')\n",
    "plt.show()"
   ]
  },
  {
   "attachments": {},
   "cell_type": "markdown",
   "metadata": {},
   "source": [
    "Em relação à capacidade mutagênica, a literatura científica indica que compostos com maior QED tendem a ter menor capacidade mutagênica, já que eles são mais propensos a possuir perfis moleculares que são mais compatíveis com a interação com proteínas-alvo específicas e menos propensos a se ligarem aleatoriamente ao DNA, reduzindo assim o risco de danos ao material genético. Como é possivel verificar pela análise do boxplot a informação descrita na literatura não pode deveras ser observada.\n",
    "\n",
    "No entanto, é importante lembrar que a capacidade mutag+enica também depende de outros fatores, como a presença de grupos funcionais específicos, tamanho da molécula e estrutura química geral, portanto, a relação entre QED e capacidade mutagênica não é determinística e precisa ser avaliada caso a caso."
   ]
  },
  {
   "attachments": {},
   "cell_type": "markdown",
   "metadata": {},
   "source": [
    "Algo que nos dispertou interesse foi verificar como seria a distribuiçao dos peso molecuares exatos das moléculas em análise. E, posteriormente, verificar se poderia existir uma associação entre por exemplo moléculas com peso molecular elevado e sua determinada capacidade mutagénica.\n",
    "O ExactMolWt é o peso molecular exato de uma molécula, ou seja, é a soma das massas atómicas de todos os átomos presentes na molécula, levando em consideração os isótopos naturais e suas abundâncias relativas. É uma medida importante para caracterizar a estrutura química de uma molécula e é frequentemente utilizada para avaliar a relação entre a estrutura molecular de um composto e suas propriedades físico-químicas e biológicas, como a capacidade mutagénica.\n"
   ]
  },
  {
   "cell_type": "code",
   "execution_count": 35,
   "metadata": {},
   "outputs": [
    {
     "name": "stdout",
     "output_type": "stream",
     "text": [
      "Statistics=0.9301, p-value=0.0000\n",
      "A distribuição não é normal\n"
     ]
    },
    {
     "name": "stderr",
     "output_type": "stream",
     "text": [
      "c:\\Users\\guilh\\anaconda3\\lib\\site-packages\\scipy\\stats\\morestats.py:1760: UserWarning: p-value may not be accurate for N > 5000.\n",
      "  warnings.warn(\"p-value may not be accurate for N > 5000.\")\n"
     ]
    }
   ],
   "source": [
    "from scipy.stats import shapiro\n",
    "\n",
    "stat, p_value = shapiro(df_global['ExactMolWt'])\n",
    "\n",
    "print(f'Statistics={stat:.4f}, p-value={p_value:.4f}')\n",
    "if p_value > 0.05:\n",
    "    print('A distribuição é normal')\n",
    "else:\n",
    "    print('A distribuição não é normal')\n",
    "\n",
    "\n"
   ]
  },
  {
   "cell_type": "code",
   "execution_count": 132,
   "metadata": {},
   "outputs": [
    {
     "data": {
      "image/png": "[encoded data removed]",
      "text/plain": [
       "<Figure size 360x360 with 1 Axes>"
      ]
     },
     "metadata": {
      "needs_background": "light"
     },
     "output_type": "display_data"
    }
   ],
   "source": [
    "sns.displot(df_global, x='ExactMolWt', kde=True)\n",
    "plt.title('ExactMolWt')\n",
    "plt.xlabel('ExactMolWt')\n",
    "plt.ylabel('Frequência')\n",
    "plt.show()"
   ]
  },
  {
   "attachments": {},
   "cell_type": "markdown",
   "metadata": {},
   "source": [
    "Através do teste shapiro foi possivel observar que a distribuição dos dados associação ao ExactMolWt não é normal. Todavia, o nosso principal foco nesta fase de análise era associar a capacidade mutagénica de uma droga a um eventual range de peso molecular."
   ]
  },
  {
   "cell_type": "code",
   "execution_count": 36,
   "metadata": {},
   "outputs": [
    {
     "data": {
      "image/png": "[encoded data removed]",
      "text/plain": [
       "<Figure size 432x288 with 1 Axes>"
      ]
     },
     "metadata": {},
     "output_type": "display_data"
    }
   ],
   "source": [
    "import seaborn as sns\n",
    "import matplotlib.pyplot as plt\n",
    "\n",
    "# separar os dados por valor de Y\n",
    "df_y1 = df_global[df_global['Y'] == 1]\n",
    "df_y0 = df_global[df_global['Y'] == 0]\n",
    "\n",
    "# criar o boxplot\n",
    "sns.boxplot(x='Y', y='ExactMolWt', data=df_global)\n",
    "plt.title('Relação entre Y e ExactMolWt')\n",
    "plt.xlabel('Y')\n",
    "plt.ylabel('ExactMolWt')\n",
    "plt.show()\n"
   ]
  },
  {
   "attachments": {},
   "cell_type": "markdown",
   "metadata": {},
   "source": [
    "Pela análise do boxplot demonstrado acima, não parece em termos visuais que possamos associar um determinado range de peso molecular à capacidade mutagénica. Todavia a literatura, diz o contrário, mas também refere que a presença de determinados grupos químicos e suas interações têm um efeito mais preponderante na capacidade mutagénica."
   ]
  },
  {
   "cell_type": "code",
   "execution_count": 50,
   "metadata": {},
   "outputs": [
    {
     "ename": "IndexError",
     "evalue": "single positional indexer is out-of-bounds",
     "output_type": "error",
     "traceback": [
      "\u001b[1;31m---------------------------------------------------------------------------\u001b[0m",
      "\u001b[1;31mIndexError\u001b[0m                                Traceback (most recent call last)",
      "\u001b[1;32mc:\\Users\\guilh\\OneDrive\\Documentos\\GitHub\\Extracao_de_Dados\\Trabalho_Pyhton\\Trabalho.ipynb Cell 68\u001b[0m in \u001b[0;36m<cell line: 1>\u001b[1;34m()\u001b[0m\n\u001b[1;32m----> <a href='vscode-notebook-cell:/c%3A/Users/guilh/OneDrive/Documentos/GitHub/Extracao_de_Dados/Trabalho_Pyhton/Trabalho.ipynb#Y145sZmlsZQ%3D%3D?line=0'>1</a>\u001b[0m df_global\u001b[39m.\u001b[39;49miloc[:, \u001b[39m212\u001b[39;49m]\n",
      "File \u001b[1;32mc:\\Users\\guilh\\anaconda3\\lib\\site-packages\\pandas\\core\\indexing.py:961\u001b[0m, in \u001b[0;36m_LocationIndexer.__getitem__\u001b[1;34m(self, key)\u001b[0m\n\u001b[0;32m    959\u001b[0m     \u001b[39mif\u001b[39;00m \u001b[39mself\u001b[39m\u001b[39m.\u001b[39m_is_scalar_access(key):\n\u001b[0;32m    960\u001b[0m         \u001b[39mreturn\u001b[39;00m \u001b[39mself\u001b[39m\u001b[39m.\u001b[39mobj\u001b[39m.\u001b[39m_get_value(\u001b[39m*\u001b[39mkey, takeable\u001b[39m=\u001b[39m\u001b[39mself\u001b[39m\u001b[39m.\u001b[39m_takeable)\n\u001b[1;32m--> 961\u001b[0m     \u001b[39mreturn\u001b[39;00m \u001b[39mself\u001b[39;49m\u001b[39m.\u001b[39;49m_getitem_tuple(key)\n\u001b[0;32m    962\u001b[0m \u001b[39melse\u001b[39;00m:\n\u001b[0;32m    963\u001b[0m     \u001b[39m# we by definition only have the 0th axis\u001b[39;00m\n\u001b[0;32m    964\u001b[0m     axis \u001b[39m=\u001b[39m \u001b[39mself\u001b[39m\u001b[39m.\u001b[39maxis \u001b[39mor\u001b[39;00m \u001b[39m0\u001b[39m\n",
      "File \u001b[1;32mc:\\Users\\guilh\\anaconda3\\lib\\site-packages\\pandas\\core\\indexing.py:1458\u001b[0m, in \u001b[0;36m_iLocIndexer._getitem_tuple\u001b[1;34m(self, tup)\u001b[0m\n\u001b[0;32m   1456\u001b[0m \u001b[39mdef\u001b[39;00m \u001b[39m_getitem_tuple\u001b[39m(\u001b[39mself\u001b[39m, tup: \u001b[39mtuple\u001b[39m):\n\u001b[1;32m-> 1458\u001b[0m     tup \u001b[39m=\u001b[39m \u001b[39mself\u001b[39;49m\u001b[39m.\u001b[39;49m_validate_tuple_indexer(tup)\n\u001b[0;32m   1459\u001b[0m     \u001b[39mwith\u001b[39;00m suppress(IndexingError):\n\u001b[0;32m   1460\u001b[0m         \u001b[39mreturn\u001b[39;00m \u001b[39mself\u001b[39m\u001b[39m.\u001b[39m_getitem_lowerdim(tup)\n",
      "File \u001b[1;32mc:\\Users\\guilh\\anaconda3\\lib\\site-packages\\pandas\\core\\indexing.py:769\u001b[0m, in \u001b[0;36m_LocationIndexer._validate_tuple_indexer\u001b[1;34m(self, key)\u001b[0m\n\u001b[0;32m    767\u001b[0m \u001b[39mfor\u001b[39;00m i, k \u001b[39min\u001b[39;00m \u001b[39menumerate\u001b[39m(key):\n\u001b[0;32m    768\u001b[0m     \u001b[39mtry\u001b[39;00m:\n\u001b[1;32m--> 769\u001b[0m         \u001b[39mself\u001b[39;49m\u001b[39m.\u001b[39;49m_validate_key(k, i)\n\u001b[0;32m    770\u001b[0m     \u001b[39mexcept\u001b[39;00m \u001b[39mValueError\u001b[39;00m \u001b[39mas\u001b[39;00m err:\n\u001b[0;32m    771\u001b[0m         \u001b[39mraise\u001b[39;00m \u001b[39mValueError\u001b[39;00m(\n\u001b[0;32m    772\u001b[0m             \u001b[39m\"\u001b[39m\u001b[39mLocation based indexing can only have \u001b[39m\u001b[39m\"\u001b[39m\n\u001b[0;32m    773\u001b[0m             \u001b[39mf\u001b[39m\u001b[39m\"\u001b[39m\u001b[39m[\u001b[39m\u001b[39m{\u001b[39;00m\u001b[39mself\u001b[39m\u001b[39m.\u001b[39m_valid_types\u001b[39m}\u001b[39;00m\u001b[39m] types\u001b[39m\u001b[39m\"\u001b[39m\n\u001b[0;32m    774\u001b[0m         ) \u001b[39mfrom\u001b[39;00m \u001b[39merr\u001b[39;00m\n",
      "File \u001b[1;32mc:\\Users\\guilh\\anaconda3\\lib\\site-packages\\pandas\\core\\indexing.py:1361\u001b[0m, in \u001b[0;36m_iLocIndexer._validate_key\u001b[1;34m(self, key, axis)\u001b[0m\n\u001b[0;32m   1359\u001b[0m     \u001b[39mreturn\u001b[39;00m\n\u001b[0;32m   1360\u001b[0m \u001b[39melif\u001b[39;00m is_integer(key):\n\u001b[1;32m-> 1361\u001b[0m     \u001b[39mself\u001b[39;49m\u001b[39m.\u001b[39;49m_validate_integer(key, axis)\n\u001b[0;32m   1362\u001b[0m \u001b[39melif\u001b[39;00m \u001b[39misinstance\u001b[39m(key, \u001b[39mtuple\u001b[39m):\n\u001b[0;32m   1363\u001b[0m     \u001b[39m# a tuple should already have been caught by this point\u001b[39;00m\n\u001b[0;32m   1364\u001b[0m     \u001b[39m# so don't treat a tuple as a valid indexer\u001b[39;00m\n\u001b[0;32m   1365\u001b[0m     \u001b[39mraise\u001b[39;00m IndexingError(\u001b[39m\"\u001b[39m\u001b[39mToo many indexers\u001b[39m\u001b[39m\"\u001b[39m)\n",
      "File \u001b[1;32mc:\\Users\\guilh\\anaconda3\\lib\\site-packages\\pandas\\core\\indexing.py:1452\u001b[0m, in \u001b[0;36m_iLocIndexer._validate_integer\u001b[1;34m(self, key, axis)\u001b[0m\n\u001b[0;32m   1450\u001b[0m len_axis \u001b[39m=\u001b[39m \u001b[39mlen\u001b[39m(\u001b[39mself\u001b[39m\u001b[39m.\u001b[39mobj\u001b[39m.\u001b[39m_get_axis(axis))\n\u001b[0;32m   1451\u001b[0m \u001b[39mif\u001b[39;00m key \u001b[39m>\u001b[39m\u001b[39m=\u001b[39m len_axis \u001b[39mor\u001b[39;00m key \u001b[39m<\u001b[39m \u001b[39m-\u001b[39mlen_axis:\n\u001b[1;32m-> 1452\u001b[0m     \u001b[39mraise\u001b[39;00m \u001b[39mIndexError\u001b[39;00m(\u001b[39m\"\u001b[39m\u001b[39msingle positional indexer is out-of-bounds\u001b[39m\u001b[39m\"\u001b[39m)\n",
      "\u001b[1;31mIndexError\u001b[0m: single positional indexer is out-of-bounds"
     ]
    }
   ],
   "source": [
    "df_global.iloc[:, 212]\n"
   ]
  },
  {
   "cell_type": "code",
   "execution_count": 52,
   "metadata": {},
   "outputs": [
    {
     "name": "stdout",
     "output_type": "stream",
     "text": [
      "Colunas com distribuição normal: ['SMR_VSA8', 'SlogP_VSA9', 'fr_prisulfonamd']\n",
      "Colunas com distribuição não normal: ['MaxEStateIndex', 'MinEStateIndex', 'MaxAbsEStateIndex', 'MinAbsEStateIndex', 'qed', 'MolWt', 'HeavyAtomMolWt', 'ExactMolWt', 'NumValenceElectrons', 'NumRadicalElectrons', 'MaxPartialCharge', 'MinPartialCharge', 'MaxAbsPartialCharge', 'MinAbsPartialCharge', 'FpDensityMorgan1', 'FpDensityMorgan2', 'FpDensityMorgan3', 'BCUT2D_MWHI', 'BCUT2D_MWLOW', 'BCUT2D_CHGHI', 'BCUT2D_CHGLO', 'BCUT2D_LOGPHI', 'BCUT2D_LOGPLOW', 'BCUT2D_MRHI', 'BCUT2D_MRLOW', 'BalabanJ', 'BertzCT', 'Chi0', 'Chi0n', 'Chi0v', 'Chi1', 'Chi1n', 'Chi1v', 'Chi2n', 'Chi2v', 'Chi3n', 'Chi3v', 'Chi4n', 'Chi4v', 'HallKierAlpha', 'Ipc', 'Kappa1', 'Kappa2', 'Kappa3', 'LabuteASA', 'PEOE_VSA1', 'PEOE_VSA10', 'PEOE_VSA11', 'PEOE_VSA12', 'PEOE_VSA13', 'PEOE_VSA14', 'PEOE_VSA2', 'PEOE_VSA3', 'PEOE_VSA4', 'PEOE_VSA5', 'PEOE_VSA6', 'PEOE_VSA7', 'PEOE_VSA8', 'PEOE_VSA9', 'SMR_VSA1', 'SMR_VSA10', 'SMR_VSA2', 'SMR_VSA3', 'SMR_VSA4', 'SMR_VSA5', 'SMR_VSA6', 'SMR_VSA7', 'SMR_VSA9', 'SlogP_VSA1', 'SlogP_VSA10', 'SlogP_VSA11', 'SlogP_VSA12', 'SlogP_VSA2', 'SlogP_VSA3', 'SlogP_VSA4', 'SlogP_VSA5', 'SlogP_VSA6', 'SlogP_VSA7', 'SlogP_VSA8', 'TPSA', 'EState_VSA1', 'EState_VSA10', 'EState_VSA11', 'EState_VSA2', 'EState_VSA3', 'EState_VSA4', 'EState_VSA5', 'EState_VSA6', 'EState_VSA7', 'EState_VSA8', 'EState_VSA9', 'VSA_EState1', 'VSA_EState10', 'VSA_EState2', 'VSA_EState3', 'VSA_EState4', 'VSA_EState5', 'VSA_EState6', 'VSA_EState7', 'VSA_EState8', 'VSA_EState9', 'FractionCSP3', 'HeavyAtomCount', 'NHOHCount', 'NOCount', 'NumAliphaticCarbocycles', 'NumAliphaticHeterocycles', 'NumAliphaticRings', 'NumAromaticCarbocycles', 'NumAromaticHeterocycles', 'NumAromaticRings', 'NumHAcceptors', 'NumHDonors', 'NumHeteroatoms', 'NumRotatableBonds', 'NumSaturatedCarbocycles', 'NumSaturatedHeterocycles', 'NumSaturatedRings', 'RingCount', 'MolLogP', 'MolMR', 'fr_Al_COO', 'fr_Al_OH', 'fr_Al_OH_noTert', 'fr_ArN', 'fr_Ar_COO', 'fr_Ar_N', 'fr_Ar_NH', 'fr_Ar_OH', 'fr_COO', 'fr_COO2', 'fr_C_O', 'fr_C_O_noCOO', 'fr_C_S', 'fr_HOCCN', 'fr_Imine', 'fr_NH0', 'fr_NH1', 'fr_NH2', 'fr_N_O', 'fr_Ndealkylation1', 'fr_Ndealkylation2', 'fr_Nhpyrrole', 'fr_SH', 'fr_aldehyde', 'fr_alkyl_carbamate', 'fr_alkyl_halide', 'fr_allylic_oxid', 'fr_amide', 'fr_amidine', 'fr_aniline', 'fr_aryl_methyl', 'fr_azide', 'fr_azo', 'fr_barbitur', 'fr_benzene', 'fr_benzodiazepine', 'fr_bicyclic', 'fr_diazo', 'fr_dihydropyridine', 'fr_epoxide', 'fr_ester', 'fr_ether', 'fr_furan', 'fr_guanido', 'fr_halogen', 'fr_hdrzine', 'fr_hdrzone', 'fr_imidazole', 'fr_imide', 'fr_isocyan', 'fr_isothiocyan', 'fr_ketone', 'fr_ketone_Topliss', 'fr_lactam', 'fr_lactone', 'fr_methoxy', 'fr_morpholine', 'fr_nitrile', 'fr_nitro', 'fr_nitro_arom', 'fr_nitro_arom_nonortho', 'fr_nitroso', 'fr_oxazole', 'fr_oxime', 'fr_para_hydroxylation', 'fr_phenol', 'fr_phenol_noOrthoHbond', 'fr_phos_acid', 'fr_phos_ester', 'fr_piperdine', 'fr_piperzine', 'fr_priamide', 'fr_pyridine', 'fr_quatN', 'fr_sulfide', 'fr_sulfonamd', 'fr_sulfone', 'fr_term_acetylene', 'fr_tetrazole', 'fr_thiazole', 'fr_thiocyan', 'fr_thiophene', 'fr_unbrch_alkane']\n"
     ]
    },
    {
     "name": "stderr",
     "output_type": "stream",
     "text": [
      "c:\\Users\\guilh\\anaconda3\\lib\\site-packages\\scipy\\stats\\morestats.py:1760: UserWarning: p-value may not be accurate for N > 5000.\n",
      "  warnings.warn(\"p-value may not be accurate for N > 5000.\")\n",
      "c:\\Users\\guilh\\anaconda3\\lib\\site-packages\\scipy\\stats\\morestats.py:1757: UserWarning: Input data for shapiro has range zero. The results may not be accurate.\n",
      "  warnings.warn(\"Input data for shapiro has range zero. The results \"\n"
     ]
    }
   ],
   "source": [
    "from scipy.stats import shapiro\n",
    "\n",
    "sig_level = 0.05  # nível de significância\n",
    "normal_cols = []  # lista para armazenar as colunas com distribuição normal\n",
    "non_normal_cols = []  # lista para armazenar as colunas com distribuição não normal\n",
    "\n",
    "# Loop através das colunas e executar o teste de normalidade de Shapiro-Wilk\n",
    "for col in df_global.iloc[:, 3:210]:\n",
    "    stat, p_value = shapiro(df_global[col])\n",
    "    \n",
    "    # Verificar se o valor p é maior ou menor que o nível de significância\n",
    "    if p_value > sig_level:\n",
    "        normal_cols.append(col)\n",
    "    else:\n",
    "        non_normal_cols.append(col)\n",
    "\n",
    "# Imprimir as colunas com distribuição normal e não normal\n",
    "print(f'Colunas com distribuição normal: {normal_cols}')\n",
    "print(f'Colunas com distribuição não normal: {non_normal_cols}')\n"
   ]
  },
  {
   "cell_type": "code",
   "execution_count": 66,
   "metadata": {},
   "outputs": [
    {
     "name": "stdout",
     "output_type": "stream",
     "text": [
      "[('SlogP_VSA8', 1.0525420266464707e-133), ('fr_nitro', 5.218876650092251e-91), ('HallKierAlpha', 5.698375472638977e-91), ('NumAromaticRings', 1.1374805682231892e-90), ('SMR_VSA5', 2.113822892051272e-75), ('fr_benzene', 5.176000102261982e-75), ('NumAromaticCarbocycles', 6.741056973249058e-75), ('SMR_VSA7', 8.202725422310558e-69), ('RingCount', 2.108773157845818e-65), ('SlogP_VSA10', 3.499413533458884e-65), ('fr_nitro_arom_nonortho', 1.3612125803025288e-64), ('fr_nitro_arom', 7.905058308167507e-63), ('fr_NH0', 2.951590245271424e-61), ('fr_bicyclic', 8.377633994540488e-60), ('FractionCSP3', 3.553354269431986e-58), ('BertzCT', 1.501653091633677e-56), ('SMR_VSA10', 6.392302388734683e-54), ('SlogP_VSA5', 9.659282630468409e-54), ('Kappa3', 7.869880615253084e-52), ('VSA_EState6', 2.4578108419885353e-50), ('SlogP_VSA6', 2.5685823224424386e-50), ('VSA_EState8', 4.095917485980558e-41), ('NumSaturatedCarbocycles', 3.61441518067857e-37), ('fr_nitroso', 3.1865124545630994e-36), ('PEOE_VSA13', 1.349837422712016e-34), ('fr_COO2', 2.541311428346731e-33), ('PEOE_VSA2', 3.4228792654541004e-33), ('fr_COO', 6.42069555259261e-33), ('qed', 4.6715066269190145e-32), ('fr_Al_COO', 2.673375103525445e-31), ('VSA_EState4', 1.1333927764327792e-29), ('VSA_EState3', 4.776880616199351e-28), ('PEOE_VSA14', 6.890366646242499e-28), ('SlogP_VSA3', 2.590673072156818e-26), ('fr_C_O', 2.801690330683537e-25), ('SlogP_VSA7', 1.614907022948748e-22), ('fr_unbrch_alkane', 1.8438484011551124e-22), ('fr_ArN', 1.9970047139871063e-21), ('BCUT2D_LOGPLOW', 2.1954402520812858e-21), ('fr_epoxide', 7.96668702846585e-21), ('fr_ester', 4.2819534754267064e-20), ('FpDensityMorgan3', 4.477639142673791e-20), ('MaxAbsPartialCharge', 5.838670103663067e-19), ('Ipc', 3.573581362646353e-18), ('SlogP_VSA4', 2.2834260885596255e-17), ('NumRotatableBonds', 6.092838455463221e-17), ('VSA_EState7', 1.8252426965343975e-16), ('MinPartialCharge', 9.531527967722936e-16), ('fr_aniline', 1.1367632317710302e-15), ('NOCount', 1.560613449693764e-15), ('BalabanJ', 1.6299708797121803e-15), ('PEOE_VSA5', 1.9879948277041982e-14), ('SMR_VSA1', 2.926748029636316e-14), ('fr_azide', 3.59581359014851e-14), ('BCUT2D_LOGPHI', 1.142604780381877e-13), ('PEOE_VSA9', 3.7181104587275377e-13), ('TPSA', 1.7463335151373736e-12), ('Chi1', 3.1521142718256233e-12), ('Chi4n', 7.427448119988242e-12), ('PEOE_VSA8', 2.3792660609530892e-11), ('NumHAcceptors', 4.016618110233829e-11), ('Kappa2', 4.4109252526806696e-11), ('SlogP_VSA2', 1.556597433987637e-10), ('fr_allylic_oxid', 4.0673951128242404e-10), ('HeavyAtomCount', 5.794227606145278e-10), ('NumAromaticHeterocycles', 1.1863551743409752e-09), ('fr_C_O_noCOO', 1.3420700247459527e-09), ('BCUT2D_MRHI', 1.8540187939045177e-09), ('fr_aryl_methyl', 1.9932766533545207e-09), ('MinEStateIndex', 3.1770687669439074e-09), ('PEOE_VSA1', 1.0887764220413064e-08), ('fr_NH2', 1.2422508959113907e-08), ('Chi3n', 1.6280229031902822e-08), ('fr_imidazole', 4.518447162850282e-08), ('VSA_EState1', 6.61741240820244e-08), ('SMR_VSA4', 7.181671356762344e-08), ('fr_phos_acid', 2.089786217344399e-07), ('fr_phos_ester', 2.089786217344399e-07), ('MolMR', 2.1224642411232073e-07), ('fr_Ndealkylation2', 2.6463442979564476e-07), ('EState_VSA10', 9.893379917757323e-07), ('fr_alkyl_halide', 1.127745135954595e-06), ('fr_sulfonamd', 1.234116843982841e-06), ('NumHDonors', 1.3559988584445541e-06), ('fr_ketone_Topliss', 1.723300735194797e-06), ('EState_VSA5', 2.309227711458229e-06), ('EState_VSA8', 2.7578002917717025e-06), ('fr_Ar_N', 2.8116383096011374e-06), ('NumSaturatedHeterocycles', 4.912284684410341e-06), ('EState_VSA9', 5.804704119698466e-06), ('fr_lactam', 5.8922848031831085e-06), ('HeavyAtomMolWt', 9.373645063677437e-06), ('NumHeteroatoms', 1.2495478508204207e-05), ('SlogP_VSA12', 1.4278326521401054e-05), ('VSA_EState9', 2.8637238379492043e-05), ('Chi0', 3.106998133481403e-05), ('SMR_VSA3', 3.992795266828899e-05), ('fr_hdrzine', 4.0517194138354635e-05), ('BCUT2D_CHGLO', 4.5016259409350186e-05), ('Chi4v', 5.064382927214454e-05), ('fr_Ar_OH', 6.125606394076184e-05), ('LabuteASA', 8.190024900465252e-05), ('fr_thiophene', 0.00015088644295067297), ('VSA_EState2', 0.00018405921283343684), ('fr_pyridine', 0.00019564986914364483), ('fr_furan', 0.00022346185856538396), ('EState_VSA4', 0.00023644422463882874), ('fr_Al_OH', 0.00026210318042010124), ('MinAbsPartialCharge', 0.0003739743067398877), ('fr_N_O', 0.0003795626985751656), ('NumAliphaticHeterocycles', 0.00039032230468393034), ('fr_Ar_COO', 0.00042881150335369496), ('SlogP_VSA11', 0.0004708857677392173), ('MaxPartialCharge', 0.0005926014016175545), ('MolLogP', 0.000616477078722198), ('fr_sulfide', 0.0006787293894888871), ('fr_nitrile', 0.000680882771810191), ('EState_VSA1', 0.0007280513019494363), ('ExactMolWt', 0.0008378367437625453), ('MolWt', 0.0009025336707796442), ('Chi1n', 0.0009595805846945098), ('BCUT2D_CHGHI', 0.0010643509566258288), ('fr_oxazole', 0.0012618480566530521), ('fr_Al_OH_noTert', 0.0017798249944174463), ('EState_VSA7', 0.0018928028790517945), ('FpDensityMorgan2', 0.002438126237252912), ('fr_phenol', 0.002785850074992705), ('BCUT2D_MRLOW', 0.0032707674235855355), ('VSA_EState10', 0.003467753466690867), ('fr_SH', 0.003520663186898135), ('NumAliphaticRings', 0.0035963450730172788), ('EState_VSA3', 0.004069301694302769), ('fr_phenol_noOrthoHbond', 0.004527659887459534), ('fr_ether', 0.004690657617842327), ('Chi2n', 0.005048599048238366), ('MaxEStateIndex', 0.005067424948912118), ('MaxAbsEStateIndex', 0.005067424948912118), ('Kappa1', 0.005329043788432065), ('fr_quatN', 0.005695836864692563), ('NumAliphaticCarbocycles', 0.005779480189113084), ('NumValenceElectrons', 0.0059576749841279975), ('fr_thiazole', 0.00597022311040471), ('Chi0n', 0.0060370018252165), ('fr_Imine', 0.0060613539679230406), ('SlogP_VSA1', 0.00733400040099834), ('NHOHCount', 0.00860876200524057), ('NumSaturatedRings', 0.009585554846148193), ('fr_sulfone', 0.009846409715982973), ('Chi3v', 0.013847596546418433), ('fr_piperdine', 0.014110275910579678), ('fr_benzodiazepine', 0.016610726681885516), ('fr_HOCCN', 0.02314454898076304), ('fr_oxime', 0.023998094920304962), ('PEOE_VSA6', 0.02760805796357188), ('fr_halogen', 0.030815625083624714), ('fr_term_acetylene', 0.03129892095235202), ('PEOE_VSA4', 0.03267741273735117), ('fr_diazo', 0.0415728411330822), ('SMR_VSA2', 0.041625064654348835), ('FpDensityMorgan1', 0.04226028087091655), ('fr_guanido', 0.054110913072026076), ('fr_C_S', 0.05719610256319742), ('fr_barbitur', 0.05728791855505639), ('fr_dihydropyridine', 0.05728791855505639), ('fr_tetrazole', 0.05728791855505639), ('fr_ketone', 0.06453549450649568), ('fr_piperzine', 0.07963310222616045), ('EState_VSA2', 0.08163584004678809), ('fr_methoxy', 0.08202799173309543), ('fr_priamide', 0.09758224433757846), ('fr_isocyan', 0.11746296752116597), ('BCUT2D_MWHI', 0.13142072322004347), ('PEOE_VSA11', 0.14156836386734709), ('SMR_VSA9', 0.16358974193202358), ('fr_amidine', 0.21895585656856875), ('PEOE_VSA12', 0.22052051444876286), ('fr_hdrzone', 0.23840578240666843), ('PEOE_VSA7', 0.23962421371020726), ('fr_imide', 0.25016097812085314), ('SMR_VSA6', 0.2793894976901877), ('BCUT2D_MWLOW', 0.2821677785668272), ('fr_azo', 0.3145728610442561), ('fr_alkyl_carbamate', 0.3291629523956333), ('VSA_EState5', 0.3372605859865747), ('NumRadicalElectrons', 0.36237585083775736), ('Chi1v', 0.38035507889407894), ('Chi0v', 0.38062617473084115), ('fr_para_hydroxylation', 0.44879124753239985), ('fr_thiocyan', 0.4584499413446258), ('PEOE_VSA10', 0.46219595177207684), ('fr_Ar_NH', 0.48386839997411235), ('fr_Nhpyrrole', 0.48386839997411235), ('fr_Ndealkylation1', 0.49055719519044316), ('fr_isothiocyan', 0.5539801937934221), ('MinAbsEStateIndex', 0.564922348057679), ('fr_morpholine', 0.59003689110915), ('EState_VSA6', 0.6151495111402396), ('fr_NH1', 0.6569445886900722), ('EState_VSA11', 0.7263106675658177), ('fr_amide', 0.7296290529723275), ('fr_aldehyde', 0.7374121604431401), ('fr_lactone', 0.7506201299188778), ('Chi2v', 0.792458564572818), ('fr_urea', 0.8878465084831673), ('PEOE_VSA3', 0.9614998460881597)]\n",
      "['Y', 'SlogP_VSA8', 'fr_nitro', 'HallKierAlpha', 'NumAromaticRings', 'SMR_VSA5', 'fr_benzene', 'NumAromaticCarbocycles', 'SMR_VSA7', 'RingCount', 'SlogP_VSA10']\n"
     ]
    }
   ],
   "source": [
    "from scipy.stats import mannwhitneyu\n",
    "\n",
    "# selecionar as colunas não-normais\n",
    "non_normal_cols = [col for col in df_global.columns[3:211] if col not in normal_cols]\n",
    "\n",
    "# criar um dicionário para armazenar os resultados dos testes Mann-Whitney\n",
    "results = {}\n",
    "\n",
    "# percorrer as colunas não-normais e calcular o teste de Mann-Whitney\n",
    "for col in non_normal_cols:\n",
    "    y0 = df_global.loc[df_global['Y'] == 0, col]\n",
    "    y1 = df_global.loc[df_global['Y'] == 1, col]\n",
    "    stat, p_value = mannwhitneyu(y0, y1, alternative='two-sided')\n",
    "    results[col] = p_value\n",
    "\n",
    "# classificar o dicionário com base nos valores de p-value\n",
    "sorted_results = sorted(results.items(), key=lambda x: x[1])\n",
    "print(sorted_results)\n",
    "\n",
    "# selecionar as 30 primeiras colunas com os menores p-values\n",
    "top30_cols = [col[0] for col in sorted_results[:10]]\n",
    "top30_cols.insert(0, \"Y\")\n",
    "\n",
    "\n",
    "# imprimir as 30 colunas selecionadas\n",
    "print(top30_cols)\n",
    "\n",
    "\n"
   ]
  },
  {
   "cell_type": "code",
   "execution_count": 67,
   "metadata": {},
   "outputs": [
    {
     "data": {
      "image/png": "[encoded data removed]",
      "text/plain": [
       "<Figure size 432x288 with 2 Axes>"
      ]
     },
     "metadata": {
      "needs_background": "light"
     },
     "output_type": "display_data"
    }
   ],
   "source": [
    "import pandas as pd\n",
    "import seaborn as sns\n",
    "import matplotlib.pyplot as plt\n",
    "\n",
    "\n",
    "df_top_30 = df_global[top30_cols]\n",
    "\n",
    "# Calcular a matriz de correlação\n",
    "corr = df_top_30.corr()\n",
    "\n",
    "# Plotar a matriz de correlação\n",
    "sns.heatmap(corr, cmap='coolwarm', annot=True)\n",
    "plt.show()\n"
   ]
  },
  {
   "cell_type": "code",
   "execution_count": null,
   "metadata": {},
   "outputs": [],
   "source": [
    "from scipy.stats import ttest_ind\n",
    "\n",
    "\n",
    "for col in normal_cols:\n",
    "    # dividir os dados em duas amostras, com Y=0 e Y=1\n",
    "    not_mutagenic = df_global[df_global['Y'] == 0][col]\n",
    "    mutagenic = df_global[df_global['Y'] == 1][col]\n",
    "\n",
    "    # calcular o p-valor do teste t de Student\n",
    "    p_value = ttest_ind(not_mutagenic, mutagenic)[1]\n",
    "\n",
    "    # imprimir o resultado\n",
    "    print(f\"A coluna {col} tem um p-valor de {p_value:.4f}\")"
   ]
  },
  {
   "cell_type": "code",
   "execution_count": 114,
   "metadata": {},
   "outputs": [
    {
     "name": "stdout",
     "output_type": "stream",
     "text": [
      "t-statistic: -2.2548\n",
      "p-value: 0.0242\n"
     ]
    }
   ],
   "source": [
    "from scipy.stats import ttest_ind\n",
    "import seaborn as sns\n",
    "\n",
    "# separar os dados em duas amostras (y=1 e y=0)\n",
    "max_estate_y1 = df_global.loc[df_global['Y'] == 1, 'MaxEStateIndex']\n",
    "max_estate_y0 = df_global.loc[df_global['Y'] == 0, 'MaxEStateIndex']\n",
    "\n",
    "t_stat, p_value = ttest_ind(max_estate_y1, max_estate_y0)\n",
    "print(f't-statistic: {t_stat:.4f}')\n",
    "print(f'p-value: {p_value:.4f}')"
   ]
  },
  {
   "attachments": {},
   "cell_type": "markdown",
   "metadata": {},
   "source": [
    "## References:\n",
    "\n",
    "[1] Xu, Congying, et al. “In silico prediction of chemical Ames mutagenicity.” Journal of chemical information and modeling 52.11 (2012): 2840-2847."
   ]
  },
  {
   "cell_type": "markdown",
   "metadata": {},
   "source": []
  }
 ],
 "metadata": {
  "kernelspec": {
   "display_name": "Python 3",
   "language": "python",
   "name": "python3"
  },
  "language_info": {
   "codemirror_mode": {
    "name": "ipython",
    "version": 3
   },
   "file_extension": ".py",
   "mimetype": "text/x-python",
   "name": "python",
   "nbconvert_exporter": "python",
   "pygments_lexer": "ipython3",
   "version": "3.9.12"
  },
  "orig_nbformat": 4
 },
 "nbformat": 4,
 "nbformat_minor": 2
}
