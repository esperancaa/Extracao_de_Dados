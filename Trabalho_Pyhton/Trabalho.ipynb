{
 "cells": [
  {
   "attachments": {},
   "cell_type": "markdown",
   "metadata": {},
   "source": [
    "# Grupo 1\n",
    "\n",
    "Guilherme Sousa - pg51188\n",
    "\n",
    "Karyna Lysenko - pg 51191 \n",
    "\n",
    "Rodrigo Esperança-  "
   ]
  },
  {
   "attachments": {},
   "cell_type": "markdown",
   "metadata": {},
   "source": [
    "## Dataset Description: \n",
    "\n",
    "Mutagenicity means the ability of a drug to induce genetic alterations. Drugs that can cause damage to the DNA can result in cell death or other severe adverse effects. Nowadays, the most widely used assay for testing the mutagenicity of compounds is the Ames experiment which was invented by a professor named Ames. \n",
    "\n",
    "The Ames test is a short-term bacterial reverse mutation assay detecting a large number of compounds which can induce genetic damage and frameshift mutations. This test involves exposing bacteria to the chemical being tested and assessing the rate of genetic mutations compared to a control group that has not been exposed to the substance. If the rate of mutations in the exposed bacteria is significantly higher than in the control group, this suggests that the chemical is mutagenic and may pose a risk to human health.\n",
    "\n",
    "The dataset is aggregated from four papers.\n"
   ]
  },
  {
   "attachments": {},
   "cell_type": "markdown",
   "metadata": {},
   "source": [
    "## Task Description: \n",
    "\n",
    "Binary classification. Given a drug SMILES string (representation of a molecule using an ASCII string that represents the chemical structure of the molecule), predict whether it is mutagenic (1) or not mutagenic (0)."
   ]
  },
  {
   "attachments": {},
   "cell_type": "markdown",
   "metadata": {},
   "source": [
    "## Dataset Statistics: \n",
    "\n",
    "7,273 drugs."
   ]
  },
  {
   "attachments": {},
   "cell_type": "markdown",
   "metadata": {},
   "source": [
    "o que podemos ver a partir deste tipo de data set8algo a elimiar depois:\n",
    "\n",
    "Identificação de compostos mutagênicos: Um conjunto de dados Ames pode ser usado para identificar quais compostos químicos têm a capacidade de causar mutações genéticas nas bactérias Salmonella typhimurium.\n",
    "\n",
    "Avaliação da segurança química: Com base nos resultados dos testes de mutagenicidade, é possível avaliar a segurança de compostos químicos para o uso humano e ambiental. Se um composto é considerado altamente mutagênico, pode ser necessário regulamentar ou proibir o uso desse composto.\n",
    "\n",
    "Desenvolvimento de modelos de QSAR: Os dados de um conjunto de dados Ames podem ser usados para desenvolver modelos de Relação Quantitativa entre Estrutura e Atividade (QSAR) que prevejam a mutagenicidade de novos compostos com base em sua estrutura química.\n",
    "\n",
    "Avaliação de métodos de análise de dados: Os dados de um conjunto de dados Ames também podem ser usados para avaliar a eficácia de diferentes métodos de análise de dados na previsão da mutagenicidade de novos compostos."
   ]
  },
  {
   "cell_type": "code",
   "execution_count": 2,
   "metadata": {},
   "outputs": [],
   "source": [
    "#Librarys\n",
    "import numpy as np\n",
    "import pandas as pd\n",
    "import matplotlib.pyplot as plt\n",
    "import seaborn as sns\n",
    "\n",
    "\n"
   ]
  },
  {
   "cell_type": "markdown",
   "metadata": {},
   "source": []
  },
  {
   "attachments": {},
   "cell_type": "markdown",
   "metadata": {},
   "source": [
    "# Importar os dados e sua respetiva visualização"
   ]
  },
  {
   "cell_type": "code",
   "execution_count": 6,
   "metadata": {},
   "outputs": [
    {
     "name": "stdout",
     "output_type": "stream",
     "text": [
      "            ids                                             smiles  Y\n",
      "0        Drug 0  O=[N+]([O-])c1ccc2ccc3ccc([N+](=O)[O-])c4c5ccc...  1\n",
      "1        Drug 1       O=[N+]([O-])c1c2c(c3ccc4cccc5ccc1c3c45)CCCC2  1\n",
      "2        Drug 2  O=c1c2ccccc2c(=O)c2c1ccc1c2[nH]c2c3c(=O)c4cccc...  0\n",
      "3        Drug 3                          [N-]=[N+]=CC(=O)NCC(=O)NN  1\n",
      "4        Drug 4                          [N-]=[N+]=C1C=NC(=O)NC1=O  1\n",
      "...         ...                                                ... ..\n",
      "7268  Drug 7587                                   CCCCCCCCCCCCOCCO  0\n",
      "7269  Drug 7588                             CC(CCc1ccccc1)c1ccccc1  0\n",
      "7270  Drug 7593                              CCOP(=S)(CC)Sc1ccccc1  0\n",
      "7271  Drug 7598                        C=C(C)C1CC=C(C)C(OC(C)=O)C1  0\n",
      "7272  Drug 7602  CC/N=c1\\cc2oc3cc(NCC)c(C)cc3c(-c3ccccc3C(=O)OC...  0\n",
      "\n",
      "[7273 rows x 3 columns]\n"
     ]
    }
   ],
   "source": [
    "df_ames = pd.read_csv('ames.csv')\n",
    "print(df_ames)"
   ]
  },
  {
   "cell_type": "code",
   "execution_count": 7,
   "metadata": {},
   "outputs": [
    {
     "name": "stdout",
     "output_type": "stream",
     "text": [
      "      MaxEStateIndex  MinEStateIndex  MaxAbsEStateIndex  MinAbsEStateIndex  \\\n",
      "0          11.663401       -0.396099          11.663401           0.008895   \n",
      "1          11.824743       -0.170602          11.824743           0.170602   \n",
      "2          14.431072       -0.378575          14.431072           0.128988   \n",
      "3          10.422196       -0.670278          10.422196           0.248657   \n",
      "4          10.521759       -0.752407          10.521759           0.278148   \n",
      "...              ...             ...                ...                ...   \n",
      "7268        8.502606        0.150556           8.502606           0.150556   \n",
      "7269        2.303843        0.640191           2.303843           0.640191   \n",
      "7270        5.671445       -1.672137           5.671445           0.713245   \n",
      "7271       10.862176       -0.203597          10.862176           0.038935   \n",
      "7272       12.621537       -0.362955          12.621537           0.362955   \n",
      "\n",
      "           qed    MolWt  HeavyAtomMolWt  ExactMolWt  NumValenceElectrons  \\\n",
      "0     0.181963  342.310         332.230   342.06406                124.0   \n",
      "1     0.269289  301.345         286.225   301.11030                112.0   \n",
      "2     0.184582  646.614         628.470   646.11650                232.0   \n",
      "3     0.103849  157.133         150.077   157.05997                 60.0   \n",
      "4     0.342148  138.086         136.070   138.01778                 50.0   \n",
      "...        ...      ...             ...         ...                  ...   \n",
      "7268  0.485970  230.392         200.152   230.22458                 98.0   \n",
      "7269  0.700283  210.320         192.176   210.14085                 82.0   \n",
      "7270  0.722425  246.337         231.217   246.03020                 78.0   \n",
      "7271  0.498826  194.274         176.130   194.13068                 78.0   \n",
      "7272  0.314604  428.532         400.308   428.21000                164.0   \n",
      "\n",
      "      NumRadicalElectrons  ...  fr_sulfide  fr_sulfonamd  fr_sulfone  \\\n",
      "0                     0.0  ...         0.0           0.0         0.0   \n",
      "1                     0.0  ...         0.0           0.0         0.0   \n",
      "2                     0.0  ...         0.0           0.0         0.0   \n",
      "3                     0.0  ...         0.0           0.0         0.0   \n",
      "4                     0.0  ...         0.0           0.0         0.0   \n",
      "...                   ...  ...         ...           ...         ...   \n",
      "7268                  0.0  ...         0.0           0.0         0.0   \n",
      "7269                  0.0  ...         0.0           0.0         0.0   \n",
      "7270                  0.0  ...         0.0           0.0         0.0   \n",
      "7271                  0.0  ...         0.0           0.0         0.0   \n",
      "7272                  0.0  ...         0.0           0.0         0.0   \n",
      "\n",
      "      fr_term_acetylene  fr_tetrazole  fr_thiazole  fr_thiocyan  fr_thiophene  \\\n",
      "0                   0.0           0.0          0.0          0.0           0.0   \n",
      "1                   0.0           0.0          0.0          0.0           0.0   \n",
      "2                   0.0           0.0          0.0          0.0           0.0   \n",
      "3                   0.0           0.0          0.0          0.0           0.0   \n",
      "4                   0.0           0.0          0.0          0.0           0.0   \n",
      "...                 ...           ...          ...          ...           ...   \n",
      "7268                0.0           0.0          0.0          0.0           0.0   \n",
      "7269                0.0           0.0          0.0          0.0           0.0   \n",
      "7270                0.0           0.0          0.0          0.0           0.0   \n",
      "7271                0.0           0.0          0.0          0.0           0.0   \n",
      "7272                0.0           0.0          0.0          0.0           0.0   \n",
      "\n",
      "      fr_unbrch_alkane  fr_urea  \n",
      "0                  0.0      0.0  \n",
      "1                  0.0      0.0  \n",
      "2                  0.0      0.0  \n",
      "3                  0.0      0.0  \n",
      "4                  0.0      1.0  \n",
      "...                ...      ...  \n",
      "7268              11.0      0.0  \n",
      "7269               0.0      0.0  \n",
      "7270               0.0      0.0  \n",
      "7271               0.0      0.0  \n",
      "7272               0.0      0.0  \n",
      "\n",
      "[7273 rows x 208 columns]\n"
     ]
    }
   ],
   "source": [
    "df_features= pd.read_csv('ames_features.csv')\n",
    "print(df_features)"
   ]
  },
  {
   "attachments": {},
   "cell_type": "markdown",
   "metadata": {},
   "source": [
    "# Merge dos dataframes"
   ]
  },
  {
   "cell_type": "code",
   "execution_count": 8,
   "metadata": {},
   "outputs": [
    {
     "name": "stdout",
     "output_type": "stream",
     "text": [
      "            ids                                             smiles  Y  \\\n",
      "0        Drug 0  O=[N+]([O-])c1ccc2ccc3ccc([N+](=O)[O-])c4c5ccc...  1   \n",
      "1        Drug 1       O=[N+]([O-])c1c2c(c3ccc4cccc5ccc1c3c45)CCCC2  1   \n",
      "2        Drug 2  O=c1c2ccccc2c(=O)c2c1ccc1c2[nH]c2c3c(=O)c4cccc...  0   \n",
      "3        Drug 3                          [N-]=[N+]=CC(=O)NCC(=O)NN  1   \n",
      "4        Drug 4                          [N-]=[N+]=C1C=NC(=O)NC1=O  1   \n",
      "...         ...                                                ... ..   \n",
      "7268  Drug 7587                                   CCCCCCCCCCCCOCCO  0   \n",
      "7269  Drug 7588                             CC(CCc1ccccc1)c1ccccc1  0   \n",
      "7270  Drug 7593                              CCOP(=S)(CC)Sc1ccccc1  0   \n",
      "7271  Drug 7598                        C=C(C)C1CC=C(C)C(OC(C)=O)C1  0   \n",
      "7272  Drug 7602  CC/N=c1\\cc2oc3cc(NCC)c(C)cc3c(-c3ccccc3C(=O)OC...  0   \n",
      "\n",
      "      MaxEStateIndex  MinEStateIndex  MaxAbsEStateIndex  MinAbsEStateIndex  \\\n",
      "0          11.663401       -0.396099          11.663401           0.008895   \n",
      "1          11.824743       -0.170602          11.824743           0.170602   \n",
      "2          14.431072       -0.378575          14.431072           0.128988   \n",
      "3          10.422196       -0.670278          10.422196           0.248657   \n",
      "4          10.521759       -0.752407          10.521759           0.278148   \n",
      "...              ...             ...                ...                ...   \n",
      "7268        8.502606        0.150556           8.502606           0.150556   \n",
      "7269        2.303843        0.640191           2.303843           0.640191   \n",
      "7270        5.671445       -1.672137           5.671445           0.713245   \n",
      "7271       10.862176       -0.203597          10.862176           0.038935   \n",
      "7272       12.621537       -0.362955          12.621537           0.362955   \n",
      "\n",
      "           qed    MolWt  HeavyAtomMolWt  ...  fr_sulfide  fr_sulfonamd  \\\n",
      "0     0.181963  342.310         332.230  ...         0.0           0.0   \n",
      "1     0.269289  301.345         286.225  ...         0.0           0.0   \n",
      "2     0.184582  646.614         628.470  ...         0.0           0.0   \n",
      "3     0.103849  157.133         150.077  ...         0.0           0.0   \n",
      "4     0.342148  138.086         136.070  ...         0.0           0.0   \n",
      "...        ...      ...             ...  ...         ...           ...   \n",
      "7268  0.485970  230.392         200.152  ...         0.0           0.0   \n",
      "7269  0.700283  210.320         192.176  ...         0.0           0.0   \n",
      "7270  0.722425  246.337         231.217  ...         0.0           0.0   \n",
      "7271  0.498826  194.274         176.130  ...         0.0           0.0   \n",
      "7272  0.314604  428.532         400.308  ...         0.0           0.0   \n",
      "\n",
      "      fr_sulfone  fr_term_acetylene  fr_tetrazole  fr_thiazole  fr_thiocyan  \\\n",
      "0            0.0                0.0           0.0          0.0          0.0   \n",
      "1            0.0                0.0           0.0          0.0          0.0   \n",
      "2            0.0                0.0           0.0          0.0          0.0   \n",
      "3            0.0                0.0           0.0          0.0          0.0   \n",
      "4            0.0                0.0           0.0          0.0          0.0   \n",
      "...          ...                ...           ...          ...          ...   \n",
      "7268         0.0                0.0           0.0          0.0          0.0   \n",
      "7269         0.0                0.0           0.0          0.0          0.0   \n",
      "7270         0.0                0.0           0.0          0.0          0.0   \n",
      "7271         0.0                0.0           0.0          0.0          0.0   \n",
      "7272         0.0                0.0           0.0          0.0          0.0   \n",
      "\n",
      "      fr_thiophene  fr_unbrch_alkane  fr_urea  \n",
      "0              0.0               0.0      0.0  \n",
      "1              0.0               0.0      0.0  \n",
      "2              0.0               0.0      0.0  \n",
      "3              0.0               0.0      0.0  \n",
      "4              0.0               0.0      1.0  \n",
      "...            ...               ...      ...  \n",
      "7268           0.0              11.0      0.0  \n",
      "7269           0.0               0.0      0.0  \n",
      "7270           0.0               0.0      0.0  \n",
      "7271           0.0               0.0      0.0  \n",
      "7272           0.0               0.0      0.0  \n",
      "\n",
      "[7273 rows x 211 columns]\n"
     ]
    }
   ],
   "source": [
    "df_global= pd.concat([df_ames, df_features], axis=1)\n",
    "print(df_global)\n"
   ]
  },
  {
   "attachments": {},
   "cell_type": "markdown",
   "metadata": {},
   "source": [
    "# Info sobre os dados e filtragem pré-precessamento"
   ]
  },
  {
   "attachments": {},
   "cell_type": "markdown",
   "metadata": {},
   "source": [
    "Os dados a ser tratados e analisados, englobam um conjunto de drogas identificados com um ID único, cuja composição química é representada numa string SMILES, sendo que cada droga tem associada diversas caracteristicas/parametros. Estes parametros numéricos (exemplo:qed,MolWT,FpDensityMorgan1) descrevem as propriedades das respetivas drogas, o que pode auxiliar numa determinada interpretação biológica. Existe também parâmetros binários (0 ou 1) que indicam a ausencia ou presença de algo,como por exemplo fr_sulfide, respetivamente. Existe uma propriedade indicada com o nome \"Y\" que indica se uma determinada droga tem um determinada capacidade mutagénica ou não. Se uma determinada droga tiver associada a um Y de valor 1, significa que a mesma pode causar mutações no material genético , como o DNA. A presença de mutações pode levar a uma variedade de efeitos adversos, incluindo o desenvolvimento de doenças genéticas, cancro e outras condições de saúde. Portanto, a capacidade de prever se um composto químico é mutagénico é importante para a segurança alimentar, farmacêutica e ambiental."
   ]
  },
  {
   "cell_type": "code",
   "execution_count": 11,
   "metadata": {},
   "outputs": [
    {
     "name": "stdout",
     "output_type": "stream",
     "text": [
      "Empty DataFrame\n",
      "Columns: [ids, smiles, Y, MaxEStateIndex, MinEStateIndex, MaxAbsEStateIndex, MinAbsEStateIndex, qed, MolWt, HeavyAtomMolWt, ExactMolWt, NumValenceElectrons, NumRadicalElectrons, MaxPartialCharge, MinPartialCharge, MaxAbsPartialCharge, MinAbsPartialCharge, FpDensityMorgan1, FpDensityMorgan2, FpDensityMorgan3, BCUT2D_MWHI, BCUT2D_MWLOW, BCUT2D_CHGHI, BCUT2D_CHGLO, BCUT2D_LOGPHI, BCUT2D_LOGPLOW, BCUT2D_MRHI, BCUT2D_MRLOW, BalabanJ, BertzCT, Chi0, Chi0n, Chi0v, Chi1, Chi1n, Chi1v, Chi2n, Chi2v, Chi3n, Chi3v, Chi4n, Chi4v, HallKierAlpha, Ipc, Kappa1, Kappa2, Kappa3, LabuteASA, PEOE_VSA1, PEOE_VSA10, PEOE_VSA11, PEOE_VSA12, PEOE_VSA13, PEOE_VSA14, PEOE_VSA2, PEOE_VSA3, PEOE_VSA4, PEOE_VSA5, PEOE_VSA6, PEOE_VSA7, PEOE_VSA8, PEOE_VSA9, SMR_VSA1, SMR_VSA10, SMR_VSA2, SMR_VSA3, SMR_VSA4, SMR_VSA5, SMR_VSA6, SMR_VSA7, SMR_VSA8, SMR_VSA9, SlogP_VSA1, SlogP_VSA10, SlogP_VSA11, SlogP_VSA12, SlogP_VSA2, SlogP_VSA3, SlogP_VSA4, SlogP_VSA5, SlogP_VSA6, SlogP_VSA7, SlogP_VSA8, SlogP_VSA9, TPSA, EState_VSA1, EState_VSA10, EState_VSA11, EState_VSA2, EState_VSA3, EState_VSA4, EState_VSA5, EState_VSA6, EState_VSA7, EState_VSA8, EState_VSA9, VSA_EState1, VSA_EState10, VSA_EState2, VSA_EState3, ...]\n",
      "Index: []\n",
      "\n",
      "[0 rows x 211 columns]\n"
     ]
    }
   ],
   "source": [
    "#NAN- valores ausentes\n",
    "tem_nulos = df_global.isnull().sum(axis=1) > 0\n",
    "print(df_global[tem_nulos])\n",
    "\n"
   ]
  },
  {
   "cell_type": "code",
   "execution_count": 12,
   "metadata": {},
   "outputs": [
    {
     "name": "stdout",
     "output_type": "stream",
     "text": [
      "Empty DataFrame\n",
      "Columns: [ids, smiles, Y, MaxEStateIndex, MinEStateIndex, MaxAbsEStateIndex, MinAbsEStateIndex, qed, MolWt, HeavyAtomMolWt, ExactMolWt, NumValenceElectrons, NumRadicalElectrons, MaxPartialCharge, MinPartialCharge, MaxAbsPartialCharge, MinAbsPartialCharge, FpDensityMorgan1, FpDensityMorgan2, FpDensityMorgan3, BCUT2D_MWHI, BCUT2D_MWLOW, BCUT2D_CHGHI, BCUT2D_CHGLO, BCUT2D_LOGPHI, BCUT2D_LOGPLOW, BCUT2D_MRHI, BCUT2D_MRLOW, BalabanJ, BertzCT, Chi0, Chi0n, Chi0v, Chi1, Chi1n, Chi1v, Chi2n, Chi2v, Chi3n, Chi3v, Chi4n, Chi4v, HallKierAlpha, Ipc, Kappa1, Kappa2, Kappa3, LabuteASA, PEOE_VSA1, PEOE_VSA10, PEOE_VSA11, PEOE_VSA12, PEOE_VSA13, PEOE_VSA14, PEOE_VSA2, PEOE_VSA3, PEOE_VSA4, PEOE_VSA5, PEOE_VSA6, PEOE_VSA7, PEOE_VSA8, PEOE_VSA9, SMR_VSA1, SMR_VSA10, SMR_VSA2, SMR_VSA3, SMR_VSA4, SMR_VSA5, SMR_VSA6, SMR_VSA7, SMR_VSA8, SMR_VSA9, SlogP_VSA1, SlogP_VSA10, SlogP_VSA11, SlogP_VSA12, SlogP_VSA2, SlogP_VSA3, SlogP_VSA4, SlogP_VSA5, SlogP_VSA6, SlogP_VSA7, SlogP_VSA8, SlogP_VSA9, TPSA, EState_VSA1, EState_VSA10, EState_VSA11, EState_VSA2, EState_VSA3, EState_VSA4, EState_VSA5, EState_VSA6, EState_VSA7, EState_VSA8, EState_VSA9, VSA_EState1, VSA_EState10, VSA_EState2, VSA_EState3, ...]\n",
      "Index: []\n",
      "\n",
      "[0 rows x 211 columns]\n"
     ]
    }
   ],
   "source": [
    "#remoção valores duplicados\n",
    "tem_duplicados = df_global.duplicated(subset='ids', keep=False)\n",
    "print(df_global[tem_duplicados])\n"
   ]
  },
  {
   "cell_type": "code",
   "execution_count": 13,
   "metadata": {},
   "outputs": [
    {
     "name": "stdout",
     "output_type": "stream",
     "text": [
      "(7273, 211)\n"
     ]
    }
   ],
   "source": [
    "#Dimensões\n",
    "print(df_global.shape)\n",
    "\n",
    "#data set com 7273 linhas que representam o numero de drogas analisadas e 211 colunas que sao os parametros caracteristicos de cada uma destas drogas, onde está por exemplo a sua estrutura molecular em forma de string SMILE."
   ]
  },
  {
   "cell_type": "code",
   "execution_count": 23,
   "metadata": {},
   "outputs": [
    {
     "name": "stdout",
     "output_type": "stream",
     "text": [
      "      ids                                             smiles  Y  \\\n",
      "0  Drug 0  O=[N+]([O-])c1ccc2ccc3ccc([N+](=O)[O-])c4c5ccc...  1   \n",
      "1  Drug 1       O=[N+]([O-])c1c2c(c3ccc4cccc5ccc1c3c45)CCCC2  1   \n",
      "2  Drug 2  O=c1c2ccccc2c(=O)c2c1ccc1c2[nH]c2c3c(=O)c4cccc...  0   \n",
      "3  Drug 3                          [N-]=[N+]=CC(=O)NCC(=O)NN  1   \n",
      "4  Drug 4                          [N-]=[N+]=C1C=NC(=O)NC1=O  1   \n",
      "\n",
      "   MaxEStateIndex  MinEStateIndex  MaxAbsEStateIndex  MinAbsEStateIndex  \\\n",
      "0       11.663401       -0.396099          11.663401           0.008895   \n",
      "1       11.824743       -0.170602          11.824743           0.170602   \n",
      "2       14.431072       -0.378575          14.431072           0.128988   \n",
      "3       10.422196       -0.670278          10.422196           0.248657   \n",
      "4       10.521759       -0.752407          10.521759           0.278148   \n",
      "\n",
      "        qed    MolWt  HeavyAtomMolWt  ...  fr_sulfide  fr_sulfonamd  \\\n",
      "0  0.181963  342.310         332.230  ...         0.0           0.0   \n",
      "1  0.269289  301.345         286.225  ...         0.0           0.0   \n",
      "2  0.184582  646.614         628.470  ...         0.0           0.0   \n",
      "3  0.103849  157.133         150.077  ...         0.0           0.0   \n",
      "4  0.342148  138.086         136.070  ...         0.0           0.0   \n",
      "\n",
      "   fr_sulfone  fr_term_acetylene  fr_tetrazole  fr_thiazole  fr_thiocyan  \\\n",
      "0         0.0                0.0           0.0          0.0          0.0   \n",
      "1         0.0                0.0           0.0          0.0          0.0   \n",
      "2         0.0                0.0           0.0          0.0          0.0   \n",
      "3         0.0                0.0           0.0          0.0          0.0   \n",
      "4         0.0                0.0           0.0          0.0          0.0   \n",
      "\n",
      "   fr_thiophene  fr_unbrch_alkane  fr_urea  \n",
      "0           0.0               0.0      0.0  \n",
      "1           0.0               0.0      0.0  \n",
      "2           0.0               0.0      0.0  \n",
      "3           0.0               0.0      0.0  \n",
      "4           0.0               0.0      1.0  \n",
      "\n",
      "[5 rows x 211 columns]\n"
     ]
    }
   ],
   "source": [
    "#forma de visualizar as primeiras 5 linhas no nosso dataframe, ou seja as primeiras 5 drogas.\n",
    "print(df_global.head(5))"
   ]
  },
  {
   "cell_type": "code",
   "execution_count": 22,
   "metadata": {},
   "outputs": [
    {
     "name": "stdout",
     "output_type": "stream",
     "text": [
      "            ids                                             smiles  Y  \\\n",
      "7268  Drug 7587                                   CCCCCCCCCCCCOCCO  0   \n",
      "7269  Drug 7588                             CC(CCc1ccccc1)c1ccccc1  0   \n",
      "7270  Drug 7593                              CCOP(=S)(CC)Sc1ccccc1  0   \n",
      "7271  Drug 7598                        C=C(C)C1CC=C(C)C(OC(C)=O)C1  0   \n",
      "7272  Drug 7602  CC/N=c1\\cc2oc3cc(NCC)c(C)cc3c(-c3ccccc3C(=O)OC...  0   \n",
      "\n",
      "      MaxEStateIndex  MinEStateIndex  MaxAbsEStateIndex  MinAbsEStateIndex  \\\n",
      "7268        8.502606        0.150556           8.502606           0.150556   \n",
      "7269        2.303843        0.640191           2.303843           0.640191   \n",
      "7270        5.671445       -1.672137           5.671445           0.713245   \n",
      "7271       10.862176       -0.203597          10.862176           0.038935   \n",
      "7272       12.621537       -0.362955          12.621537           0.362955   \n",
      "\n",
      "           qed    MolWt  HeavyAtomMolWt  ...  fr_sulfide  fr_sulfonamd  \\\n",
      "7268  0.485970  230.392         200.152  ...         0.0           0.0   \n",
      "7269  0.700283  210.320         192.176  ...         0.0           0.0   \n",
      "7270  0.722425  246.337         231.217  ...         0.0           0.0   \n",
      "7271  0.498826  194.274         176.130  ...         0.0           0.0   \n",
      "7272  0.314604  428.532         400.308  ...         0.0           0.0   \n",
      "\n",
      "      fr_sulfone  fr_term_acetylene  fr_tetrazole  fr_thiazole  fr_thiocyan  \\\n",
      "7268         0.0                0.0           0.0          0.0          0.0   \n",
      "7269         0.0                0.0           0.0          0.0          0.0   \n",
      "7270         0.0                0.0           0.0          0.0          0.0   \n",
      "7271         0.0                0.0           0.0          0.0          0.0   \n",
      "7272         0.0                0.0           0.0          0.0          0.0   \n",
      "\n",
      "      fr_thiophene  fr_unbrch_alkane  fr_urea  \n",
      "7268           0.0              11.0      0.0  \n",
      "7269           0.0               0.0      0.0  \n",
      "7270           0.0               0.0      0.0  \n",
      "7271           0.0               0.0      0.0  \n",
      "7272           0.0               0.0      0.0  \n",
      "\n",
      "[5 rows x 211 columns]\n"
     ]
    }
   ],
   "source": [
    "#forma de visualizar as últimas 5 linhas no nosso dataframe, ou seja as últimas 5 drogas.\n",
    "print(df_global.tail(5))"
   ]
  },
  {
   "cell_type": "code",
   "execution_count": 24,
   "metadata": {},
   "outputs": [
    {
     "name": "stdout",
     "output_type": "stream",
     "text": [
      "ids                  object\n",
      "smiles               object\n",
      "Y                     int64\n",
      "MaxEStateIndex      float64\n",
      "MinEStateIndex      float64\n",
      "                     ...   \n",
      "fr_thiazole         float64\n",
      "fr_thiocyan         float64\n",
      "fr_thiophene        float64\n",
      "fr_unbrch_alkane    float64\n",
      "fr_urea             float64\n",
      "Length: 211, dtype: object\n"
     ]
    }
   ],
   "source": [
    "#ver types de dados de cada coluna\n",
    "print(df_global.dtypes)"
   ]
  },
  {
   "cell_type": "code",
   "execution_count": 25,
   "metadata": {},
   "outputs": [
    {
     "name": "stdout",
     "output_type": "stream",
     "text": [
      "['ids', 'smiles', 'Y', 'MaxEStateIndex', 'MinEStateIndex', 'MaxAbsEStateIndex', 'MinAbsEStateIndex', 'qed', 'MolWt', 'HeavyAtomMolWt', 'ExactMolWt', 'NumValenceElectrons', 'NumRadicalElectrons', 'MaxPartialCharge', 'MinPartialCharge', 'MaxAbsPartialCharge', 'MinAbsPartialCharge', 'FpDensityMorgan1', 'FpDensityMorgan2', 'FpDensityMorgan3', 'BCUT2D_MWHI', 'BCUT2D_MWLOW', 'BCUT2D_CHGHI', 'BCUT2D_CHGLO', 'BCUT2D_LOGPHI', 'BCUT2D_LOGPLOW', 'BCUT2D_MRHI', 'BCUT2D_MRLOW', 'BalabanJ', 'BertzCT', 'Chi0', 'Chi0n', 'Chi0v', 'Chi1', 'Chi1n', 'Chi1v', 'Chi2n', 'Chi2v', 'Chi3n', 'Chi3v', 'Chi4n', 'Chi4v', 'HallKierAlpha', 'Ipc', 'Kappa1', 'Kappa2', 'Kappa3', 'LabuteASA', 'PEOE_VSA1', 'PEOE_VSA10', 'PEOE_VSA11', 'PEOE_VSA12', 'PEOE_VSA13', 'PEOE_VSA14', 'PEOE_VSA2', 'PEOE_VSA3', 'PEOE_VSA4', 'PEOE_VSA5', 'PEOE_VSA6', 'PEOE_VSA7', 'PEOE_VSA8', 'PEOE_VSA9', 'SMR_VSA1', 'SMR_VSA10', 'SMR_VSA2', 'SMR_VSA3', 'SMR_VSA4', 'SMR_VSA5', 'SMR_VSA6', 'SMR_VSA7', 'SMR_VSA8', 'SMR_VSA9', 'SlogP_VSA1', 'SlogP_VSA10', 'SlogP_VSA11', 'SlogP_VSA12', 'SlogP_VSA2', 'SlogP_VSA3', 'SlogP_VSA4', 'SlogP_VSA5', 'SlogP_VSA6', 'SlogP_VSA7', 'SlogP_VSA8', 'SlogP_VSA9', 'TPSA', 'EState_VSA1', 'EState_VSA10', 'EState_VSA11', 'EState_VSA2', 'EState_VSA3', 'EState_VSA4', 'EState_VSA5', 'EState_VSA6', 'EState_VSA7', 'EState_VSA8', 'EState_VSA9', 'VSA_EState1', 'VSA_EState10', 'VSA_EState2', 'VSA_EState3', 'VSA_EState4', 'VSA_EState5', 'VSA_EState6', 'VSA_EState7', 'VSA_EState8', 'VSA_EState9', 'FractionCSP3', 'HeavyAtomCount', 'NHOHCount', 'NOCount', 'NumAliphaticCarbocycles', 'NumAliphaticHeterocycles', 'NumAliphaticRings', 'NumAromaticCarbocycles', 'NumAromaticHeterocycles', 'NumAromaticRings', 'NumHAcceptors', 'NumHDonors', 'NumHeteroatoms', 'NumRotatableBonds', 'NumSaturatedCarbocycles', 'NumSaturatedHeterocycles', 'NumSaturatedRings', 'RingCount', 'MolLogP', 'MolMR', 'fr_Al_COO', 'fr_Al_OH', 'fr_Al_OH_noTert', 'fr_ArN', 'fr_Ar_COO', 'fr_Ar_N', 'fr_Ar_NH', 'fr_Ar_OH', 'fr_COO', 'fr_COO2', 'fr_C_O', 'fr_C_O_noCOO', 'fr_C_S', 'fr_HOCCN', 'fr_Imine', 'fr_NH0', 'fr_NH1', 'fr_NH2', 'fr_N_O', 'fr_Ndealkylation1', 'fr_Ndealkylation2', 'fr_Nhpyrrole', 'fr_SH', 'fr_aldehyde', 'fr_alkyl_carbamate', 'fr_alkyl_halide', 'fr_allylic_oxid', 'fr_amide', 'fr_amidine', 'fr_aniline', 'fr_aryl_methyl', 'fr_azide', 'fr_azo', 'fr_barbitur', 'fr_benzene', 'fr_benzodiazepine', 'fr_bicyclic', 'fr_diazo', 'fr_dihydropyridine', 'fr_epoxide', 'fr_ester', 'fr_ether', 'fr_furan', 'fr_guanido', 'fr_halogen', 'fr_hdrzine', 'fr_hdrzone', 'fr_imidazole', 'fr_imide', 'fr_isocyan', 'fr_isothiocyan', 'fr_ketone', 'fr_ketone_Topliss', 'fr_lactam', 'fr_lactone', 'fr_methoxy', 'fr_morpholine', 'fr_nitrile', 'fr_nitro', 'fr_nitro_arom', 'fr_nitro_arom_nonortho', 'fr_nitroso', 'fr_oxazole', 'fr_oxime', 'fr_para_hydroxylation', 'fr_phenol', 'fr_phenol_noOrthoHbond', 'fr_phos_acid', 'fr_phos_ester', 'fr_piperdine', 'fr_piperzine', 'fr_priamide', 'fr_prisulfonamd', 'fr_pyridine', 'fr_quatN', 'fr_sulfide', 'fr_sulfonamd', 'fr_sulfone', 'fr_term_acetylene', 'fr_tetrazole', 'fr_thiazole', 'fr_thiocyan', 'fr_thiophene', 'fr_unbrch_alkane', 'fr_urea']\n"
     ]
    }
   ],
   "source": [
    "#nome de todas as colunas\n",
    "print(df_global.columns.tolist())"
   ]
  },
  {
   "cell_type": "code",
   "execution_count": 30,
   "metadata": {},
   "outputs": [
    {
     "data": {
      "text/html": [
       "<div>\n",
       "<style scoped>\n",
       "    .dataframe tbody tr th:only-of-type {\n",
       "        vertical-align: middle;\n",
       "    }\n",
       "\n",
       "    .dataframe tbody tr th {\n",
       "        vertical-align: top;\n",
       "    }\n",
       "\n",
       "    .dataframe thead th {\n",
       "        text-align: right;\n",
       "    }\n",
       "</style>\n",
       "<table border=\"1\" class=\"dataframe\">\n",
       "  <thead>\n",
       "    <tr style=\"text-align: right;\">\n",
       "      <th></th>\n",
       "      <th>ids</th>\n",
       "      <th>smiles</th>\n",
       "      <th>Y</th>\n",
       "      <th>MaxEStateIndex</th>\n",
       "      <th>MinEStateIndex</th>\n",
       "      <th>MaxAbsEStateIndex</th>\n",
       "      <th>MinAbsEStateIndex</th>\n",
       "      <th>qed</th>\n",
       "      <th>MolWt</th>\n",
       "      <th>HeavyAtomMolWt</th>\n",
       "      <th>...</th>\n",
       "      <th>fr_sulfide</th>\n",
       "      <th>fr_sulfonamd</th>\n",
       "      <th>fr_sulfone</th>\n",
       "      <th>fr_term_acetylene</th>\n",
       "      <th>fr_tetrazole</th>\n",
       "      <th>fr_thiazole</th>\n",
       "      <th>fr_thiocyan</th>\n",
       "      <th>fr_thiophene</th>\n",
       "      <th>fr_unbrch_alkane</th>\n",
       "      <th>fr_urea</th>\n",
       "    </tr>\n",
       "  </thead>\n",
       "  <tbody>\n",
       "    <tr>\n",
       "      <th>991</th>\n",
       "      <td>Drug 992</td>\n",
       "      <td>Cc1ccc([N+]#N)cc1</td>\n",
       "      <td>1</td>\n",
       "      <td>8.253485</td>\n",
       "      <td>0.597778</td>\n",
       "      <td>8.253485</td>\n",
       "      <td>0.597778</td>\n",
       "      <td>0.481977</td>\n",
       "      <td>119.147</td>\n",
       "      <td>112.091</td>\n",
       "      <td>...</td>\n",
       "      <td>0.0</td>\n",
       "      <td>0.0</td>\n",
       "      <td>0.0</td>\n",
       "      <td>0.0</td>\n",
       "      <td>0.0</td>\n",
       "      <td>0.0</td>\n",
       "      <td>0.0</td>\n",
       "      <td>0.0</td>\n",
       "      <td>0.0</td>\n",
       "      <td>0.0</td>\n",
       "    </tr>\n",
       "    <tr>\n",
       "      <th>993</th>\n",
       "      <td>Drug 994</td>\n",
       "      <td>O=[N+]([O-])c1ccccc1CCl</td>\n",
       "      <td>1</td>\n",
       "      <td>10.327561</td>\n",
       "      <td>-0.432824</td>\n",
       "      <td>10.327561</td>\n",
       "      <td>0.085648</td>\n",
       "      <td>0.389482</td>\n",
       "      <td>171.583</td>\n",
       "      <td>165.535</td>\n",
       "      <td>...</td>\n",
       "      <td>0.0</td>\n",
       "      <td>0.0</td>\n",
       "      <td>0.0</td>\n",
       "      <td>0.0</td>\n",
       "      <td>0.0</td>\n",
       "      <td>0.0</td>\n",
       "      <td>0.0</td>\n",
       "      <td>0.0</td>\n",
       "      <td>0.0</td>\n",
       "      <td>0.0</td>\n",
       "    </tr>\n",
       "    <tr>\n",
       "      <th>994</th>\n",
       "      <td>Drug 995</td>\n",
       "      <td>COc1cccc2c1C(=O)c1c(O)c3c(c(O)c1C2=O)CC(O)(C(=...</td>\n",
       "      <td>1</td>\n",
       "      <td>13.159159</td>\n",
       "      <td>-2.206177</td>\n",
       "      <td>13.159159</td>\n",
       "      <td>0.042079</td>\n",
       "      <td>0.375739</td>\n",
       "      <td>414.366</td>\n",
       "      <td>396.222</td>\n",
       "      <td>...</td>\n",
       "      <td>0.0</td>\n",
       "      <td>0.0</td>\n",
       "      <td>0.0</td>\n",
       "      <td>0.0</td>\n",
       "      <td>0.0</td>\n",
       "      <td>0.0</td>\n",
       "      <td>0.0</td>\n",
       "      <td>0.0</td>\n",
       "      <td>0.0</td>\n",
       "      <td>0.0</td>\n",
       "    </tr>\n",
       "    <tr>\n",
       "      <th>997</th>\n",
       "      <td>Drug 998</td>\n",
       "      <td>O=C(O)CI</td>\n",
       "      <td>1</td>\n",
       "      <td>9.360556</td>\n",
       "      <td>-0.758704</td>\n",
       "      <td>9.360556</td>\n",
       "      <td>0.192222</td>\n",
       "      <td>0.477887</td>\n",
       "      <td>185.948</td>\n",
       "      <td>182.924</td>\n",
       "      <td>...</td>\n",
       "      <td>0.0</td>\n",
       "      <td>0.0</td>\n",
       "      <td>0.0</td>\n",
       "      <td>0.0</td>\n",
       "      <td>0.0</td>\n",
       "      <td>0.0</td>\n",
       "      <td>0.0</td>\n",
       "      <td>0.0</td>\n",
       "      <td>0.0</td>\n",
       "      <td>0.0</td>\n",
       "    </tr>\n",
       "    <tr>\n",
       "      <th>998</th>\n",
       "      <td>Drug 999</td>\n",
       "      <td>Oc1ccc2ccc3c4ccccc4cc4ccc1c2c43</td>\n",
       "      <td>1</td>\n",
       "      <td>10.159286</td>\n",
       "      <td>0.351906</td>\n",
       "      <td>10.159286</td>\n",
       "      <td>0.351906</td>\n",
       "      <td>0.292579</td>\n",
       "      <td>268.315</td>\n",
       "      <td>256.219</td>\n",
       "      <td>...</td>\n",
       "      <td>0.0</td>\n",
       "      <td>0.0</td>\n",
       "      <td>0.0</td>\n",
       "      <td>0.0</td>\n",
       "      <td>0.0</td>\n",
       "      <td>0.0</td>\n",
       "      <td>0.0</td>\n",
       "      <td>0.0</td>\n",
       "      <td>0.0</td>\n",
       "      <td>0.0</td>\n",
       "    </tr>\n",
       "  </tbody>\n",
       "</table>\n",
       "<p>5 rows × 211 columns</p>\n",
       "</div>"
      ],
      "text/plain": [
       "          ids                                             smiles  Y  \\\n",
       "991  Drug 992                                  Cc1ccc([N+]#N)cc1  1   \n",
       "993  Drug 994                            O=[N+]([O-])c1ccccc1CCl  1   \n",
       "994  Drug 995  COc1cccc2c1C(=O)c1c(O)c3c(c(O)c1C2=O)CC(O)(C(=...  1   \n",
       "997  Drug 998                                           O=C(O)CI  1   \n",
       "998  Drug 999                    Oc1ccc2ccc3c4ccccc4cc4ccc1c2c43  1   \n",
       "\n",
       "     MaxEStateIndex  MinEStateIndex  MaxAbsEStateIndex  MinAbsEStateIndex  \\\n",
       "991        8.253485        0.597778           8.253485           0.597778   \n",
       "993       10.327561       -0.432824          10.327561           0.085648   \n",
       "994       13.159159       -2.206177          13.159159           0.042079   \n",
       "997        9.360556       -0.758704           9.360556           0.192222   \n",
       "998       10.159286        0.351906          10.159286           0.351906   \n",
       "\n",
       "          qed    MolWt  HeavyAtomMolWt  ...  fr_sulfide  fr_sulfonamd  \\\n",
       "991  0.481977  119.147         112.091  ...         0.0           0.0   \n",
       "993  0.389482  171.583         165.535  ...         0.0           0.0   \n",
       "994  0.375739  414.366         396.222  ...         0.0           0.0   \n",
       "997  0.477887  185.948         182.924  ...         0.0           0.0   \n",
       "998  0.292579  268.315         256.219  ...         0.0           0.0   \n",
       "\n",
       "     fr_sulfone  fr_term_acetylene  fr_tetrazole  fr_thiazole  fr_thiocyan  \\\n",
       "991         0.0                0.0           0.0          0.0          0.0   \n",
       "993         0.0                0.0           0.0          0.0          0.0   \n",
       "994         0.0                0.0           0.0          0.0          0.0   \n",
       "997         0.0                0.0           0.0          0.0          0.0   \n",
       "998         0.0                0.0           0.0          0.0          0.0   \n",
       "\n",
       "     fr_thiophene  fr_unbrch_alkane  fr_urea  \n",
       "991           0.0               0.0      0.0  \n",
       "993           0.0               0.0      0.0  \n",
       "994           0.0               0.0      0.0  \n",
       "997           0.0               0.0      0.0  \n",
       "998           0.0               0.0      0.0  \n",
       "\n",
       "[5 rows x 211 columns]"
      ]
     },
     "execution_count": 30,
     "metadata": {},
     "output_type": "execute_result"
    }
   ],
   "source": [
    "#ordenar primeiro pelos Y, ascending, e depois pelos ids\n",
    "df_global = df_global.sort_values(by=['Y', 'ids'])\n",
    "df_global.tail()"
   ]
  },
  {
   "attachments": {},
   "cell_type": "markdown",
   "metadata": {},
   "source": [
    "# Análise descritiva dos dados"
   ]
  },
  {
   "cell_type": "code",
   "execution_count": 36,
   "metadata": {},
   "outputs": [
    {
     "name": "stdout",
     "output_type": "stream",
     "text": [
      "<class 'pandas.core.frame.DataFrame'>\n",
      "Int64Index: 7273 entries, 10 to 998\n",
      "Columns: 211 entries, ids to fr_urea\n",
      "dtypes: float64(208), int64(1), object(2)\n",
      "memory usage: 11.8+ MB\n"
     ]
    }
   ],
   "source": [
    "#info geral do nosso merge dataframe\n",
    "df_global.info()\n",
    "\n"
   ]
  },
  {
   "cell_type": "code",
   "execution_count": 41,
   "metadata": {},
   "outputs": [
    {
     "data": {
      "text/html": [
       "<div>\n",
       "<style scoped>\n",
       "    .dataframe tbody tr th:only-of-type {\n",
       "        vertical-align: middle;\n",
       "    }\n",
       "\n",
       "    .dataframe tbody tr th {\n",
       "        vertical-align: top;\n",
       "    }\n",
       "\n",
       "    .dataframe thead th {\n",
       "        text-align: right;\n",
       "    }\n",
       "</style>\n",
       "<table border=\"1\" class=\"dataframe\">\n",
       "  <thead>\n",
       "    <tr style=\"text-align: right;\">\n",
       "      <th></th>\n",
       "      <th>Y</th>\n",
       "      <th>MaxEStateIndex</th>\n",
       "      <th>MinEStateIndex</th>\n",
       "      <th>MaxAbsEStateIndex</th>\n",
       "      <th>MinAbsEStateIndex</th>\n",
       "      <th>qed</th>\n",
       "      <th>MolWt</th>\n",
       "      <th>HeavyAtomMolWt</th>\n",
       "      <th>ExactMolWt</th>\n",
       "      <th>NumValenceElectrons</th>\n",
       "      <th>...</th>\n",
       "      <th>fr_sulfide</th>\n",
       "      <th>fr_sulfonamd</th>\n",
       "      <th>fr_sulfone</th>\n",
       "      <th>fr_term_acetylene</th>\n",
       "      <th>fr_tetrazole</th>\n",
       "      <th>fr_thiazole</th>\n",
       "      <th>fr_thiocyan</th>\n",
       "      <th>fr_thiophene</th>\n",
       "      <th>fr_unbrch_alkane</th>\n",
       "      <th>fr_urea</th>\n",
       "    </tr>\n",
       "  </thead>\n",
       "  <tbody>\n",
       "    <tr>\n",
       "      <th>count</th>\n",
       "      <td>7273.000000</td>\n",
       "      <td>7273.000000</td>\n",
       "      <td>7273.000000</td>\n",
       "      <td>7273.000000</td>\n",
       "      <td>7273.000000</td>\n",
       "      <td>7273.000000</td>\n",
       "      <td>7273.000000</td>\n",
       "      <td>7273.000000</td>\n",
       "      <td>7273.000000</td>\n",
       "      <td>7273.000000</td>\n",
       "      <td>...</td>\n",
       "      <td>7273.000000</td>\n",
       "      <td>7273.000000</td>\n",
       "      <td>7273.000000</td>\n",
       "      <td>7273.000000</td>\n",
       "      <td>7273.000000</td>\n",
       "      <td>7273.000000</td>\n",
       "      <td>7273.000000</td>\n",
       "      <td>7273.00000</td>\n",
       "      <td>7273.000000</td>\n",
       "      <td>7273.000000</td>\n",
       "    </tr>\n",
       "    <tr>\n",
       "      <th>mean</th>\n",
       "      <td>0.546405</td>\n",
       "      <td>9.362443</td>\n",
       "      <td>-0.451765</td>\n",
       "      <td>9.362443</td>\n",
       "      <td>0.349721</td>\n",
       "      <td>0.510130</td>\n",
       "      <td>242.568881</td>\n",
       "      <td>229.065451</td>\n",
       "      <td>242.196954</td>\n",
       "      <td>88.108483</td>\n",
       "      <td>...</td>\n",
       "      <td>0.026674</td>\n",
       "      <td>0.011275</td>\n",
       "      <td>0.003162</td>\n",
       "      <td>0.003025</td>\n",
       "      <td>0.000412</td>\n",
       "      <td>0.012237</td>\n",
       "      <td>0.000550</td>\n",
       "      <td>0.00825</td>\n",
       "      <td>0.270727</td>\n",
       "      <td>0.017874</td>\n",
       "    </tr>\n",
       "    <tr>\n",
       "      <th>std</th>\n",
       "      <td>0.497876</td>\n",
       "      <td>3.029246</td>\n",
       "      <td>1.227820</td>\n",
       "      <td>3.029246</td>\n",
       "      <td>0.396510</td>\n",
       "      <td>0.167265</td>\n",
       "      <td>107.926752</td>\n",
       "      <td>102.707469</td>\n",
       "      <td>107.731070</td>\n",
       "      <td>39.772440</td>\n",
       "      <td>...</td>\n",
       "      <td>0.176611</td>\n",
       "      <td>0.111911</td>\n",
       "      <td>0.058548</td>\n",
       "      <td>0.054919</td>\n",
       "      <td>0.020307</td>\n",
       "      <td>0.114844</td>\n",
       "      <td>0.028719</td>\n",
       "      <td>0.09345</td>\n",
       "      <td>1.539449</td>\n",
       "      <td>0.138591</td>\n",
       "    </tr>\n",
       "    <tr>\n",
       "      <th>min</th>\n",
       "      <td>0.000000</td>\n",
       "      <td>1.500000</td>\n",
       "      <td>-9.055860</td>\n",
       "      <td>1.500000</td>\n",
       "      <td>0.000000</td>\n",
       "      <td>0.036666</td>\n",
       "      <td>41.053000</td>\n",
       "      <td>36.033000</td>\n",
       "      <td>41.026550</td>\n",
       "      <td>14.000000</td>\n",
       "      <td>...</td>\n",
       "      <td>0.000000</td>\n",
       "      <td>0.000000</td>\n",
       "      <td>0.000000</td>\n",
       "      <td>0.000000</td>\n",
       "      <td>0.000000</td>\n",
       "      <td>0.000000</td>\n",
       "      <td>0.000000</td>\n",
       "      <td>0.00000</td>\n",
       "      <td>0.000000</td>\n",
       "      <td>0.000000</td>\n",
       "    </tr>\n",
       "    <tr>\n",
       "      <th>25%</th>\n",
       "      <td>0.000000</td>\n",
       "      <td>6.209384</td>\n",
       "      <td>-0.846972</td>\n",
       "      <td>6.209384</td>\n",
       "      <td>0.075424</td>\n",
       "      <td>0.396894</td>\n",
       "      <td>165.148000</td>\n",
       "      <td>156.100000</td>\n",
       "      <td>165.039000</td>\n",
       "      <td>60.000000</td>\n",
       "      <td>...</td>\n",
       "      <td>0.000000</td>\n",
       "      <td>0.000000</td>\n",
       "      <td>0.000000</td>\n",
       "      <td>0.000000</td>\n",
       "      <td>0.000000</td>\n",
       "      <td>0.000000</td>\n",
       "      <td>0.000000</td>\n",
       "      <td>0.00000</td>\n",
       "      <td>0.000000</td>\n",
       "      <td>0.000000</td>\n",
       "    </tr>\n",
       "    <tr>\n",
       "      <th>50%</th>\n",
       "      <td>1.000000</td>\n",
       "      <td>10.384028</td>\n",
       "      <td>-0.355799</td>\n",
       "      <td>10.384028</td>\n",
       "      <td>0.211296</td>\n",
       "      <td>0.510491</td>\n",
       "      <td>230.270000</td>\n",
       "      <td>218.173000</td>\n",
       "      <td>230.069140</td>\n",
       "      <td>84.000000</td>\n",
       "      <td>...</td>\n",
       "      <td>0.000000</td>\n",
       "      <td>0.000000</td>\n",
       "      <td>0.000000</td>\n",
       "      <td>0.000000</td>\n",
       "      <td>0.000000</td>\n",
       "      <td>0.000000</td>\n",
       "      <td>0.000000</td>\n",
       "      <td>0.00000</td>\n",
       "      <td>0.000000</td>\n",
       "      <td>0.000000</td>\n",
       "    </tr>\n",
       "    <tr>\n",
       "      <th>75%</th>\n",
       "      <td>1.000000</td>\n",
       "      <td>11.488809</td>\n",
       "      <td>0.353001</td>\n",
       "      <td>11.488809</td>\n",
       "      <td>0.510718</td>\n",
       "      <td>0.621552</td>\n",
       "      <td>296.319000</td>\n",
       "      <td>280.241000</td>\n",
       "      <td>296.060400</td>\n",
       "      <td>108.000000</td>\n",
       "      <td>...</td>\n",
       "      <td>0.000000</td>\n",
       "      <td>0.000000</td>\n",
       "      <td>0.000000</td>\n",
       "      <td>0.000000</td>\n",
       "      <td>0.000000</td>\n",
       "      <td>0.000000</td>\n",
       "      <td>0.000000</td>\n",
       "      <td>0.00000</td>\n",
       "      <td>0.000000</td>\n",
       "      <td>0.000000</td>\n",
       "    </tr>\n",
       "    <tr>\n",
       "      <th>max</th>\n",
       "      <td>1.000000</td>\n",
       "      <td>17.286264</td>\n",
       "      <td>4.111111</td>\n",
       "      <td>17.286264</td>\n",
       "      <td>4.944445</td>\n",
       "      <td>0.935197</td>\n",
       "      <td>795.824000</td>\n",
       "      <td>766.923000</td>\n",
       "      <td>795.175400</td>\n",
       "      <td>314.000000</td>\n",
       "      <td>...</td>\n",
       "      <td>3.000000</td>\n",
       "      <td>2.000000</td>\n",
       "      <td>2.000000</td>\n",
       "      <td>1.000000</td>\n",
       "      <td>1.000000</td>\n",
       "      <td>2.000000</td>\n",
       "      <td>2.000000</td>\n",
       "      <td>2.00000</td>\n",
       "      <td>29.000000</td>\n",
       "      <td>2.000000</td>\n",
       "    </tr>\n",
       "  </tbody>\n",
       "</table>\n",
       "<p>8 rows × 209 columns</p>\n",
       "</div>"
      ],
      "text/plain": [
       "                 Y  MaxEStateIndex  MinEStateIndex  MaxAbsEStateIndex  \\\n",
       "count  7273.000000     7273.000000     7273.000000        7273.000000   \n",
       "mean      0.546405        9.362443       -0.451765           9.362443   \n",
       "std       0.497876        3.029246        1.227820           3.029246   \n",
       "min       0.000000        1.500000       -9.055860           1.500000   \n",
       "25%       0.000000        6.209384       -0.846972           6.209384   \n",
       "50%       1.000000       10.384028       -0.355799          10.384028   \n",
       "75%       1.000000       11.488809        0.353001          11.488809   \n",
       "max       1.000000       17.286264        4.111111          17.286264   \n",
       "\n",
       "       MinAbsEStateIndex          qed        MolWt  HeavyAtomMolWt  \\\n",
       "count        7273.000000  7273.000000  7273.000000     7273.000000   \n",
       "mean            0.349721     0.510130   242.568881      229.065451   \n",
       "std             0.396510     0.167265   107.926752      102.707469   \n",
       "min             0.000000     0.036666    41.053000       36.033000   \n",
       "25%             0.075424     0.396894   165.148000      156.100000   \n",
       "50%             0.211296     0.510491   230.270000      218.173000   \n",
       "75%             0.510718     0.621552   296.319000      280.241000   \n",
       "max             4.944445     0.935197   795.824000      766.923000   \n",
       "\n",
       "        ExactMolWt  NumValenceElectrons  ...   fr_sulfide  fr_sulfonamd  \\\n",
       "count  7273.000000          7273.000000  ...  7273.000000   7273.000000   \n",
       "mean    242.196954            88.108483  ...     0.026674      0.011275   \n",
       "std     107.731070            39.772440  ...     0.176611      0.111911   \n",
       "min      41.026550            14.000000  ...     0.000000      0.000000   \n",
       "25%     165.039000            60.000000  ...     0.000000      0.000000   \n",
       "50%     230.069140            84.000000  ...     0.000000      0.000000   \n",
       "75%     296.060400           108.000000  ...     0.000000      0.000000   \n",
       "max     795.175400           314.000000  ...     3.000000      2.000000   \n",
       "\n",
       "        fr_sulfone  fr_term_acetylene  fr_tetrazole  fr_thiazole  fr_thiocyan  \\\n",
       "count  7273.000000        7273.000000   7273.000000  7273.000000  7273.000000   \n",
       "mean      0.003162           0.003025      0.000412     0.012237     0.000550   \n",
       "std       0.058548           0.054919      0.020307     0.114844     0.028719   \n",
       "min       0.000000           0.000000      0.000000     0.000000     0.000000   \n",
       "25%       0.000000           0.000000      0.000000     0.000000     0.000000   \n",
       "50%       0.000000           0.000000      0.000000     0.000000     0.000000   \n",
       "75%       0.000000           0.000000      0.000000     0.000000     0.000000   \n",
       "max       2.000000           1.000000      1.000000     2.000000     2.000000   \n",
       "\n",
       "       fr_thiophene  fr_unbrch_alkane      fr_urea  \n",
       "count    7273.00000       7273.000000  7273.000000  \n",
       "mean        0.00825          0.270727     0.017874  \n",
       "std         0.09345          1.539449     0.138591  \n",
       "min         0.00000          0.000000     0.000000  \n",
       "25%         0.00000          0.000000     0.000000  \n",
       "50%         0.00000          0.000000     0.000000  \n",
       "75%         0.00000          0.000000     0.000000  \n",
       "max         2.00000         29.000000     2.000000  \n",
       "\n",
       "[8 rows x 209 columns]"
      ]
     },
     "execution_count": 41,
     "metadata": {},
     "output_type": "execute_result"
    }
   ],
   "source": [
    "df_global.describe()"
   ]
  },
  {
   "cell_type": "code",
   "execution_count": 52,
   "metadata": {},
   "outputs": [
    {
     "data": {
      "text/plain": [
       "ids                                  Drug 0---Drug 999\n",
       "smiles              Br/C=C/Br---c1scc2c1-c1cscc1C1OC21\n",
       "Y                                                0---1\n",
       "MaxEStateIndex                         1.5---17.286264\n",
       "MinEStateIndex                     -9.05586---4.111111\n",
       "                                   ...                \n",
       "fr_thiazole                                  0.0---2.0\n",
       "fr_thiocyan                                  0.0---2.0\n",
       "fr_thiophene                                 0.0---2.0\n",
       "fr_unbrch_alkane                            0.0---29.0\n",
       "fr_urea                                      0.0---2.0\n",
       "Length: 211, dtype: object"
      ]
     },
     "execution_count": 52,
     "metadata": {},
     "output_type": "execute_result"
    }
   ],
   "source": [
    "df_global.apply(lambda x: str(x.min())+\"---\"+str (x.max()))"
   ]
  },
  {
   "cell_type": "code",
   "execution_count": 131,
   "metadata": {},
   "outputs": [
    {
     "name": "stdout",
     "output_type": "stream",
     "text": [
      "1    3974\n",
      "0    3299\n",
      "Name: Y, dtype: int64\n"
     ]
    },
    {
     "data": {
      "image/png": "[encoded data removed]",
      "text/plain": [
       "<Figure size 432x288 with 1 Axes>"
      ]
     },
     "metadata": {},
     "output_type": "display_data"
    }
   ],
   "source": [
    "#gráfico circular para analisar a distribuição entre y 0 ou 1\n",
    "frequence = df_global['Y'].value_counts()\n",
    "print(frequence)\n",
    "labels = ['Y=1', 'Y=0']\n",
    "colors = ['lightgreen', 'lightskyblue']\n",
    "plt.pie(frequence, labels=labels, colors=colors, autopct='%1.1f%%', startangle=90)\n",
    "plt.title('Distribuição circular das drogas analisadas, segundo capacidade mutagénica')\n",
    "plt.legend([\"Com capacidade mutagénica\",\"Sem capacidade mutagénica\"],bbox_to_anchor=(2, 1), loc='upper right', ncol=1)\n",
    "plt.show()\n"
   ]
  },
  {
   "cell_type": "code",
   "execution_count": 127,
   "metadata": {},
   "outputs": [
    {
     "data": {
      "image/png": "[encoded data removed]",
      "text/plain": [
       "<Figure size 432x288 with 1 Axes>"
      ]
     },
     "metadata": {
      "needs_background": "light"
     },
     "output_type": "display_data"
    }
   ],
   "source": [
    "import seaborn as sns\n",
    "import matplotlib.pyplot as plt\n",
    "\n",
    "sns.histplot(data=df_global, x='Y', hue='Y', multiple='dodge', shrink=.8)\n",
    "plt.xlabel('Classe Y')\n",
    "plt.ylabel('Frequência')\n",
    "plt.title('Histograma de frequências das classes Y')\n",
    "plt.show()\n",
    "\n",
    "\n",
    "\n"
   ]
  },
  {
   "attachments": {},
   "cell_type": "markdown",
   "metadata": {},
   "source": [
    "Era melhor juntar as conclusoes dos dois gráficos numa só, pq ambos apontam para a mesma conclusao ou seja no dataset temos mais drogas associadas a y=1 e portanto a capacidade muutagénica.Apenas um é em percentagem e visualmente mais angraçado e outro tem haver com a frqequencia\n",
    "\n",
    "Pelo gráfico circular é possivel observar que há mais drogas que não apresentam capacidade mutagénica (54,6%), sendo a restante percentagem correspondente a drogas que possuem capacidade mutagénica."
   ]
  },
  {
   "attachments": {},
   "cell_type": "markdown",
   "metadata": {},
   "source": [
    "Agora secalhar fazia uma introdução ao que significa as fr_ de modo geral sem especificar para todos , e qual o nosso objetivo que é associar o y=1 a compostos /drogas que estejam com maior e menor média tentando extrapolar a conclusao de que vamos ter uma determinaca coluna fr_ de uma determinada molecula quimica mais associada a mutação e a mesma coisa para y=0 , mas obviamente com uma maneira de pensar inversa"
   ]
  },
  {
   "cell_type": "code",
   "execution_count": 54,
   "metadata": {},
   "outputs": [
    {
     "data": {
      "image/png": "[encoded data removed]",
      "text/plain": [
       "<Figure size 360x360 with 1 Axes>"
      ]
     },
     "metadata": {
      "needs_background": "light"
     },
     "output_type": "display_data"
    }
   ],
   "source": [
    "sns.displot(df_global, x='qed', kde=True)\n",
    "plt.title('Distribuição de QED')\n",
    "plt.xlabel('QED')\n",
    "plt.ylabel('Frequência')\n",
    "plt.show()"
   ]
  },
  {
   "cell_type": "code",
   "execution_count": 132,
   "metadata": {},
   "outputs": [
    {
     "data": {
      "image/png": "[encoded data removed]",
      "text/plain": [
       "<Figure size 360x360 with 1 Axes>"
      ]
     },
     "metadata": {
      "needs_background": "light"
     },
     "output_type": "display_data"
    }
   ],
   "source": [
    "sns.displot(df_global, x='ExactMolWt', kde=True)\n",
    "plt.title('ExactMolWt')\n",
    "plt.xlabel('ExactMolWt')\n",
    "plt.ylabel('Frequência')\n",
    "plt.show()"
   ]
  },
  {
   "cell_type": "code",
   "execution_count": 72,
   "metadata": {},
   "outputs": [
    {
     "data": {
      "text/html": [
       "<div>\n",
       "<style scoped>\n",
       "    .dataframe tbody tr th:only-of-type {\n",
       "        vertical-align: middle;\n",
       "    }\n",
       "\n",
       "    .dataframe tbody tr th {\n",
       "        vertical-align: top;\n",
       "    }\n",
       "\n",
       "    .dataframe thead th {\n",
       "        text-align: right;\n",
       "    }\n",
       "</style>\n",
       "<table border=\"1\" class=\"dataframe\">\n",
       "  <thead>\n",
       "    <tr style=\"text-align: right;\">\n",
       "      <th></th>\n",
       "      <th>ids</th>\n",
       "      <th>smiles</th>\n",
       "      <th>Y</th>\n",
       "      <th>MaxEStateIndex</th>\n",
       "      <th>MinEStateIndex</th>\n",
       "      <th>MaxAbsEStateIndex</th>\n",
       "      <th>MinAbsEStateIndex</th>\n",
       "      <th>qed</th>\n",
       "      <th>MolWt</th>\n",
       "      <th>HeavyAtomMolWt</th>\n",
       "      <th>...</th>\n",
       "      <th>fr_sulfide</th>\n",
       "      <th>fr_sulfonamd</th>\n",
       "      <th>fr_sulfone</th>\n",
       "      <th>fr_term_acetylene</th>\n",
       "      <th>fr_tetrazole</th>\n",
       "      <th>fr_thiazole</th>\n",
       "      <th>fr_thiocyan</th>\n",
       "      <th>fr_thiophene</th>\n",
       "      <th>fr_unbrch_alkane</th>\n",
       "      <th>fr_urea</th>\n",
       "    </tr>\n",
       "  </thead>\n",
       "  <tbody>\n",
       "    <tr>\n",
       "      <th>10</th>\n",
       "      <td>Drug 10</td>\n",
       "      <td>Nc1nc(N)nc(N)n1</td>\n",
       "      <td>0</td>\n",
       "      <td>5.137222</td>\n",
       "      <td>0.041667</td>\n",
       "      <td>5.137222</td>\n",
       "      <td>0.041667</td>\n",
       "      <td>0.394014</td>\n",
       "      <td>126.123</td>\n",
       "      <td>120.075</td>\n",
       "      <td>...</td>\n",
       "      <td>-0.151043</td>\n",
       "      <td>-0.100753</td>\n",
       "      <td>-0.054017</td>\n",
       "      <td>-0.055082</td>\n",
       "      <td>-0.020314</td>\n",
       "      <td>-0.106561</td>\n",
       "      <td>-0.019152</td>\n",
       "      <td>-0.088286</td>\n",
       "      <td>-0.175872</td>\n",
       "      <td>-0.128981</td>\n",
       "    </tr>\n",
       "    <tr>\n",
       "      <th>999</th>\n",
       "      <td>Drug 1000</td>\n",
       "      <td>CCCC</td>\n",
       "      <td>0</td>\n",
       "      <td>2.180556</td>\n",
       "      <td>1.319444</td>\n",
       "      <td>2.180556</td>\n",
       "      <td>1.319444</td>\n",
       "      <td>0.431024</td>\n",
       "      <td>58.124</td>\n",
       "      <td>48.044</td>\n",
       "      <td>...</td>\n",
       "      <td>-0.151043</td>\n",
       "      <td>-0.100753</td>\n",
       "      <td>-0.054017</td>\n",
       "      <td>-0.055082</td>\n",
       "      <td>-0.020314</td>\n",
       "      <td>-0.106561</td>\n",
       "      <td>-0.019152</td>\n",
       "      <td>-0.088286</td>\n",
       "      <td>-0.175872</td>\n",
       "      <td>-0.128981</td>\n",
       "    </tr>\n",
       "    <tr>\n",
       "      <th>1003</th>\n",
       "      <td>Drug 1004</td>\n",
       "      <td>Brc1ccc(-c2ccccc2)cc1</td>\n",
       "      <td>0</td>\n",
       "      <td>3.417985</td>\n",
       "      <td>1.117760</td>\n",
       "      <td>3.417985</td>\n",
       "      <td>1.117760</td>\n",
       "      <td>0.694585</td>\n",
       "      <td>233.108</td>\n",
       "      <td>224.036</td>\n",
       "      <td>...</td>\n",
       "      <td>-0.151043</td>\n",
       "      <td>-0.100753</td>\n",
       "      <td>-0.054017</td>\n",
       "      <td>-0.055082</td>\n",
       "      <td>-0.020314</td>\n",
       "      <td>-0.106561</td>\n",
       "      <td>-0.019152</td>\n",
       "      <td>-0.088286</td>\n",
       "      <td>-0.175872</td>\n",
       "      <td>-0.128981</td>\n",
       "    </tr>\n",
       "    <tr>\n",
       "      <th>1005</th>\n",
       "      <td>Drug 1006</td>\n",
       "      <td>CN[C@@H](C)Cc1ccccc1</td>\n",
       "      <td>0</td>\n",
       "      <td>3.213398</td>\n",
       "      <td>0.567037</td>\n",
       "      <td>3.213398</td>\n",
       "      <td>0.567037</td>\n",
       "      <td>0.691109</td>\n",
       "      <td>149.237</td>\n",
       "      <td>134.117</td>\n",
       "      <td>...</td>\n",
       "      <td>-0.151043</td>\n",
       "      <td>-0.100753</td>\n",
       "      <td>-0.054017</td>\n",
       "      <td>-0.055082</td>\n",
       "      <td>-0.020314</td>\n",
       "      <td>-0.106561</td>\n",
       "      <td>-0.019152</td>\n",
       "      <td>-0.088286</td>\n",
       "      <td>-0.175872</td>\n",
       "      <td>-0.128981</td>\n",
       "    </tr>\n",
       "    <tr>\n",
       "      <th>1006</th>\n",
       "      <td>Drug 1007</td>\n",
       "      <td>Cc1ccc([N+](=O)[O-])cc1</td>\n",
       "      <td>0</td>\n",
       "      <td>10.117782</td>\n",
       "      <td>-0.403333</td>\n",
       "      <td>10.117782</td>\n",
       "      <td>0.144074</td>\n",
       "      <td>0.437912</td>\n",
       "      <td>137.138</td>\n",
       "      <td>130.082</td>\n",
       "      <td>...</td>\n",
       "      <td>-0.151043</td>\n",
       "      <td>-0.100753</td>\n",
       "      <td>-0.054017</td>\n",
       "      <td>-0.055082</td>\n",
       "      <td>-0.020314</td>\n",
       "      <td>-0.106561</td>\n",
       "      <td>-0.019152</td>\n",
       "      <td>-0.088286</td>\n",
       "      <td>-0.175872</td>\n",
       "      <td>-0.128981</td>\n",
       "    </tr>\n",
       "    <tr>\n",
       "      <th>...</th>\n",
       "      <td>...</td>\n",
       "      <td>...</td>\n",
       "      <td>...</td>\n",
       "      <td>...</td>\n",
       "      <td>...</td>\n",
       "      <td>...</td>\n",
       "      <td>...</td>\n",
       "      <td>...</td>\n",
       "      <td>...</td>\n",
       "      <td>...</td>\n",
       "      <td>...</td>\n",
       "      <td>...</td>\n",
       "      <td>...</td>\n",
       "      <td>...</td>\n",
       "      <td>...</td>\n",
       "      <td>...</td>\n",
       "      <td>...</td>\n",
       "      <td>...</td>\n",
       "      <td>...</td>\n",
       "      <td>...</td>\n",
       "      <td>...</td>\n",
       "    </tr>\n",
       "    <tr>\n",
       "      <th>991</th>\n",
       "      <td>Drug 992</td>\n",
       "      <td>Cc1ccc([N+]#N)cc1</td>\n",
       "      <td>1</td>\n",
       "      <td>8.253485</td>\n",
       "      <td>0.597778</td>\n",
       "      <td>8.253485</td>\n",
       "      <td>0.597778</td>\n",
       "      <td>0.481977</td>\n",
       "      <td>119.147</td>\n",
       "      <td>112.091</td>\n",
       "      <td>...</td>\n",
       "      <td>-0.151043</td>\n",
       "      <td>-0.100753</td>\n",
       "      <td>-0.054017</td>\n",
       "      <td>-0.055082</td>\n",
       "      <td>-0.020314</td>\n",
       "      <td>-0.106561</td>\n",
       "      <td>-0.019152</td>\n",
       "      <td>-0.088286</td>\n",
       "      <td>-0.175872</td>\n",
       "      <td>-0.128981</td>\n",
       "    </tr>\n",
       "    <tr>\n",
       "      <th>993</th>\n",
       "      <td>Drug 994</td>\n",
       "      <td>O=[N+]([O-])c1ccccc1CCl</td>\n",
       "      <td>1</td>\n",
       "      <td>10.327561</td>\n",
       "      <td>-0.432824</td>\n",
       "      <td>10.327561</td>\n",
       "      <td>0.085648</td>\n",
       "      <td>0.389482</td>\n",
       "      <td>171.583</td>\n",
       "      <td>165.535</td>\n",
       "      <td>...</td>\n",
       "      <td>-0.151043</td>\n",
       "      <td>-0.100753</td>\n",
       "      <td>-0.054017</td>\n",
       "      <td>-0.055082</td>\n",
       "      <td>-0.020314</td>\n",
       "      <td>-0.106561</td>\n",
       "      <td>-0.019152</td>\n",
       "      <td>-0.088286</td>\n",
       "      <td>-0.175872</td>\n",
       "      <td>-0.128981</td>\n",
       "    </tr>\n",
       "    <tr>\n",
       "      <th>994</th>\n",
       "      <td>Drug 995</td>\n",
       "      <td>COc1cccc2c1C(=O)c1c(O)c3c(c(O)c1C2=O)CC(O)(C(=...</td>\n",
       "      <td>1</td>\n",
       "      <td>13.159159</td>\n",
       "      <td>-2.206177</td>\n",
       "      <td>13.159159</td>\n",
       "      <td>0.042079</td>\n",
       "      <td>0.375739</td>\n",
       "      <td>414.366</td>\n",
       "      <td>396.222</td>\n",
       "      <td>...</td>\n",
       "      <td>-0.151043</td>\n",
       "      <td>-0.100753</td>\n",
       "      <td>-0.054017</td>\n",
       "      <td>-0.055082</td>\n",
       "      <td>-0.020314</td>\n",
       "      <td>-0.106561</td>\n",
       "      <td>-0.019152</td>\n",
       "      <td>-0.088286</td>\n",
       "      <td>-0.175872</td>\n",
       "      <td>-0.128981</td>\n",
       "    </tr>\n",
       "    <tr>\n",
       "      <th>997</th>\n",
       "      <td>Drug 998</td>\n",
       "      <td>O=C(O)CI</td>\n",
       "      <td>1</td>\n",
       "      <td>9.360556</td>\n",
       "      <td>-0.758704</td>\n",
       "      <td>9.360556</td>\n",
       "      <td>0.192222</td>\n",
       "      <td>0.477887</td>\n",
       "      <td>185.948</td>\n",
       "      <td>182.924</td>\n",
       "      <td>...</td>\n",
       "      <td>-0.151043</td>\n",
       "      <td>-0.100753</td>\n",
       "      <td>-0.054017</td>\n",
       "      <td>-0.055082</td>\n",
       "      <td>-0.020314</td>\n",
       "      <td>-0.106561</td>\n",
       "      <td>-0.019152</td>\n",
       "      <td>-0.088286</td>\n",
       "      <td>-0.175872</td>\n",
       "      <td>-0.128981</td>\n",
       "    </tr>\n",
       "    <tr>\n",
       "      <th>998</th>\n",
       "      <td>Drug 999</td>\n",
       "      <td>Oc1ccc2ccc3c4ccccc4cc4ccc1c2c43</td>\n",
       "      <td>1</td>\n",
       "      <td>10.159286</td>\n",
       "      <td>0.351906</td>\n",
       "      <td>10.159286</td>\n",
       "      <td>0.351906</td>\n",
       "      <td>0.292579</td>\n",
       "      <td>268.315</td>\n",
       "      <td>256.219</td>\n",
       "      <td>...</td>\n",
       "      <td>-0.151043</td>\n",
       "      <td>-0.100753</td>\n",
       "      <td>-0.054017</td>\n",
       "      <td>-0.055082</td>\n",
       "      <td>-0.020314</td>\n",
       "      <td>-0.106561</td>\n",
       "      <td>-0.019152</td>\n",
       "      <td>-0.088286</td>\n",
       "      <td>-0.175872</td>\n",
       "      <td>-0.128981</td>\n",
       "    </tr>\n",
       "  </tbody>\n",
       "</table>\n",
       "<p>7273 rows × 211 columns</p>\n",
       "</div>"
      ],
      "text/plain": [
       "            ids                                             smiles  Y  \\\n",
       "10      Drug 10                                    Nc1nc(N)nc(N)n1  0   \n",
       "999   Drug 1000                                               CCCC  0   \n",
       "1003  Drug 1004                              Brc1ccc(-c2ccccc2)cc1  0   \n",
       "1005  Drug 1006                               CN[C@@H](C)Cc1ccccc1  0   \n",
       "1006  Drug 1007                            Cc1ccc([N+](=O)[O-])cc1  0   \n",
       "...         ...                                                ... ..   \n",
       "991    Drug 992                                  Cc1ccc([N+]#N)cc1  1   \n",
       "993    Drug 994                            O=[N+]([O-])c1ccccc1CCl  1   \n",
       "994    Drug 995  COc1cccc2c1C(=O)c1c(O)c3c(c(O)c1C2=O)CC(O)(C(=...  1   \n",
       "997    Drug 998                                           O=C(O)CI  1   \n",
       "998    Drug 999                    Oc1ccc2ccc3c4ccccc4cc4ccc1c2c43  1   \n",
       "\n",
       "      MaxEStateIndex  MinEStateIndex  MaxAbsEStateIndex  MinAbsEStateIndex  \\\n",
       "10          5.137222        0.041667           5.137222           0.041667   \n",
       "999         2.180556        1.319444           2.180556           1.319444   \n",
       "1003        3.417985        1.117760           3.417985           1.117760   \n",
       "1005        3.213398        0.567037           3.213398           0.567037   \n",
       "1006       10.117782       -0.403333          10.117782           0.144074   \n",
       "...              ...             ...                ...                ...   \n",
       "991         8.253485        0.597778           8.253485           0.597778   \n",
       "993        10.327561       -0.432824          10.327561           0.085648   \n",
       "994        13.159159       -2.206177          13.159159           0.042079   \n",
       "997         9.360556       -0.758704           9.360556           0.192222   \n",
       "998        10.159286        0.351906          10.159286           0.351906   \n",
       "\n",
       "           qed    MolWt  HeavyAtomMolWt  ...  fr_sulfide  fr_sulfonamd  \\\n",
       "10    0.394014  126.123         120.075  ...   -0.151043     -0.100753   \n",
       "999   0.431024   58.124          48.044  ...   -0.151043     -0.100753   \n",
       "1003  0.694585  233.108         224.036  ...   -0.151043     -0.100753   \n",
       "1005  0.691109  149.237         134.117  ...   -0.151043     -0.100753   \n",
       "1006  0.437912  137.138         130.082  ...   -0.151043     -0.100753   \n",
       "...        ...      ...             ...  ...         ...           ...   \n",
       "991   0.481977  119.147         112.091  ...   -0.151043     -0.100753   \n",
       "993   0.389482  171.583         165.535  ...   -0.151043     -0.100753   \n",
       "994   0.375739  414.366         396.222  ...   -0.151043     -0.100753   \n",
       "997   0.477887  185.948         182.924  ...   -0.151043     -0.100753   \n",
       "998   0.292579  268.315         256.219  ...   -0.151043     -0.100753   \n",
       "\n",
       "      fr_sulfone  fr_term_acetylene  fr_tetrazole  fr_thiazole  fr_thiocyan  \\\n",
       "10     -0.054017          -0.055082     -0.020314    -0.106561    -0.019152   \n",
       "999    -0.054017          -0.055082     -0.020314    -0.106561    -0.019152   \n",
       "1003   -0.054017          -0.055082     -0.020314    -0.106561    -0.019152   \n",
       "1005   -0.054017          -0.055082     -0.020314    -0.106561    -0.019152   \n",
       "1006   -0.054017          -0.055082     -0.020314    -0.106561    -0.019152   \n",
       "...          ...                ...           ...          ...          ...   \n",
       "991    -0.054017          -0.055082     -0.020314    -0.106561    -0.019152   \n",
       "993    -0.054017          -0.055082     -0.020314    -0.106561    -0.019152   \n",
       "994    -0.054017          -0.055082     -0.020314    -0.106561    -0.019152   \n",
       "997    -0.054017          -0.055082     -0.020314    -0.106561    -0.019152   \n",
       "998    -0.054017          -0.055082     -0.020314    -0.106561    -0.019152   \n",
       "\n",
       "      fr_thiophene  fr_unbrch_alkane   fr_urea  \n",
       "10       -0.088286         -0.175872 -0.128981  \n",
       "999      -0.088286         -0.175872 -0.128981  \n",
       "1003     -0.088286         -0.175872 -0.128981  \n",
       "1005     -0.088286         -0.175872 -0.128981  \n",
       "1006     -0.088286         -0.175872 -0.128981  \n",
       "...            ...               ...       ...  \n",
       "991      -0.088286         -0.175872 -0.128981  \n",
       "993      -0.088286         -0.175872 -0.128981  \n",
       "994      -0.088286         -0.175872 -0.128981  \n",
       "997      -0.088286         -0.175872 -0.128981  \n",
       "998      -0.088286         -0.175872 -0.128981  \n",
       "\n",
       "[7273 rows x 211 columns]"
      ]
     },
     "execution_count": 72,
     "metadata": {},
     "output_type": "execute_result"
    }
   ],
   "source": [
    "from sklearn.preprocessing import StandardScaler\n",
    "\n",
    "# Selecionando as colunas que começam com \"fr_\"\n",
    "cols_fr = df_global.filter(regex='^fr_').columns\n",
    "\n",
    "# Aplicando a normalização apenas nessas colunas\n",
    "scaler = StandardScaler()\n",
    "df_global[cols_fr] = scaler.fit_transform(df_global[cols_fr])\n",
    "df_global[cols_fr] \n"
   ]
  },
  {
   "cell_type": "code",
   "execution_count": 73,
   "metadata": {},
   "outputs": [
    {
     "name": "stdout",
     "output_type": "stream",
     "text": [
      "Coluna com maior média: fr_benzene\n",
      "Coluna com menor média: fr_COO2\n"
     ]
    }
   ],
   "source": [
    "# Filtrar linhas com Y=1 e selecionar colunas que começam com \"fr\"\n",
    "df_filtered = df_global.loc[df_global['Y'] == 1].filter(regex='^fr_')\n",
    "\n",
    "# Calcular a média das colunas e obter o nome da coluna com maior e menor média\n",
    "col_max = df_filtered.mean().idxmax()\n",
    "col_min = df_filtered.mean().idxmin()\n",
    "\n",
    "print(f\"Coluna com maior média: {col_max}\")\n",
    "print(f\"Coluna com menor média: {col_min}\")\n"
   ]
  },
  {
   "cell_type": "code",
   "execution_count": 74,
   "metadata": {},
   "outputs": [
    {
     "name": "stdout",
     "output_type": "stream",
     "text": [
      "Coluna com maior média: fr_COO2\n",
      "Coluna com menor média: fr_benzene\n"
     ]
    }
   ],
   "source": [
    "# Filtrar linhas com Y=1 e selecionar colunas que começam com \"fr\"\n",
    "df_filtered = df_global.loc[df_global['Y'] == 0].filter(regex='^fr_')\n",
    "\n",
    "# Calcular a média das colunas e obter o nome da coluna com maior e menor média\n",
    "col_max = df_filtered.mean().idxmax()\n",
    "col_min = df_filtered.mean().idxmin()\n",
    "\n",
    "print(f\"Coluna com maior média: {col_max}\")\n",
    "print(f\"Coluna com menor média: {col_min}\")"
   ]
  },
  {
   "cell_type": "code",
   "execution_count": 106,
   "metadata": {},
   "outputs": [
    {
     "data": {
      "text/plain": [
       "<seaborn.axisgrid.FacetGrid at 0x21798043280>"
      ]
     },
     "execution_count": 106,
     "metadata": {},
     "output_type": "execute_result"
    },
    {
     "data": {
      "image/png": "[encoded data removed]",
      "text/plain": [
       "<Figure size 402.375x360 with 1 Axes>"
      ]
     },
     "metadata": {
      "needs_background": "light"
     },
     "output_type": "display_data"
    },
    {
     "data": {
      "image/png": "[encoded data removed]",
      "text/plain": [
       "<Figure size 402.375x360 with 1 Axes>"
      ]
     },
     "metadata": {
      "needs_background": "light"
     },
     "output_type": "display_data"
    }
   ],
   "source": [
    "import seaborn as sns\n",
    "\n",
    "# Filtrar os dados por y=1 e y=0\n",
    "df_y1 = df_global[df_global['Y']==1]\n",
    "df_y0 = df_global[df_global['Y']==0]\n",
    "\n",
    "# Criar o displot para fr_C002 em relação a Y\n",
    "sns.displot(data=df_global, x='fr_COO2', hue='Y', kde=False)\n",
    "\n",
    "# Criar o displot para fr_benzene em relação a Y\n",
    "sns.displot(data=df_global, x='fr_benzene', hue='Y', kde=False)\n",
    "\n"
   ]
  },
  {
   "attachments": {},
   "cell_type": "markdown",
   "metadata": {},
   "source": [
    "A barra cinza que você está se referindo é a barra de densidade de frequência estimada pelo seaborn. A cor cinza indica que essa densidade de frequência é compartilhada pelas duas categorias de y (y=0 e y=1). \n",
    "\n",
    "A parte colorida do gráfico indica a distribuição de fr_COO2 ou fr_benzene para cada categoria de y. Se você observar mais de perto, verá que a altura da barra colorida na parte superior corresponde à densidade de frequência estimada para a categoria y=1, enquanto a altura da barra colorida na parte inferior corresponde à densidade de frequência estimada para a categoria y=0. \n",
    "\n",
    "A barra de densidade cinza mostra a sobreposição das distribuições de y=0 e y=1, e a diferença na altura das barras coloridas mostra a diferença na distribuição de fr_COO2 ou fr_benzene entre as duas categorias de y."
   ]
  },
  {
   "cell_type": "code",
   "execution_count": 109,
   "metadata": {},
   "outputs": [
    {
     "data": {
      "text/html": [
       "<div>\n",
       "<style scoped>\n",
       "    .dataframe tbody tr th:only-of-type {\n",
       "        vertical-align: middle;\n",
       "    }\n",
       "\n",
       "    .dataframe tbody tr th {\n",
       "        vertical-align: top;\n",
       "    }\n",
       "\n",
       "    .dataframe thead th {\n",
       "        text-align: right;\n",
       "    }\n",
       "</style>\n",
       "<table border=\"1\" class=\"dataframe\">\n",
       "  <thead>\n",
       "    <tr style=\"text-align: right;\">\n",
       "      <th></th>\n",
       "      <th>SMR_VSA1</th>\n",
       "      <th>SMR_VSA10</th>\n",
       "      <th>SMR_VSA2</th>\n",
       "      <th>SMR_VSA3</th>\n",
       "      <th>SMR_VSA4</th>\n",
       "      <th>SMR_VSA5</th>\n",
       "      <th>SMR_VSA6</th>\n",
       "      <th>SMR_VSA7</th>\n",
       "      <th>SMR_VSA8</th>\n",
       "      <th>SMR_VSA9</th>\n",
       "    </tr>\n",
       "  </thead>\n",
       "  <tbody>\n",
       "    <tr>\n",
       "      <th>10</th>\n",
       "      <td>-1.036122</td>\n",
       "      <td>-0.092389</td>\n",
       "      <td>-0.151487</td>\n",
       "      <td>2.507759</td>\n",
       "      <td>-0.439277</td>\n",
       "      <td>-0.742669</td>\n",
       "      <td>0.892621</td>\n",
       "      <td>-1.394378</td>\n",
       "      <td>0.0</td>\n",
       "      <td>-0.525029</td>\n",
       "    </tr>\n",
       "    <tr>\n",
       "      <th>999</th>\n",
       "      <td>-1.036122</td>\n",
       "      <td>-1.188383</td>\n",
       "      <td>-0.151487</td>\n",
       "      <td>-0.594015</td>\n",
       "      <td>-0.439277</td>\n",
       "      <td>0.429995</td>\n",
       "      <td>-0.746279</td>\n",
       "      <td>-1.394378</td>\n",
       "      <td>0.0</td>\n",
       "      <td>-0.525029</td>\n",
       "    </tr>\n",
       "    <tr>\n",
       "      <th>1003</th>\n",
       "      <td>-1.036122</td>\n",
       "      <td>-0.210007</td>\n",
       "      <td>-0.151487</td>\n",
       "      <td>-0.594015</td>\n",
       "      <td>-0.439277</td>\n",
       "      <td>-0.742669</td>\n",
       "      <td>-0.746279</td>\n",
       "      <td>0.896484</td>\n",
       "      <td>0.0</td>\n",
       "      <td>1.127048</td>\n",
       "    </tr>\n",
       "    <tr>\n",
       "      <th>1005</th>\n",
       "      <td>-1.036122</td>\n",
       "      <td>-1.188383</td>\n",
       "      <td>-0.151487</td>\n",
       "      <td>0.508951</td>\n",
       "      <td>-0.439277</td>\n",
       "      <td>0.109129</td>\n",
       "      <td>-0.074782</td>\n",
       "      <td>-0.002282</td>\n",
       "      <td>0.0</td>\n",
       "      <td>-0.525029</td>\n",
       "    </tr>\n",
       "    <tr>\n",
       "      <th>1006</th>\n",
       "      <td>-0.556493</td>\n",
       "      <td>-0.839079</td>\n",
       "      <td>-0.151487</td>\n",
       "      <td>-0.594015</td>\n",
       "      <td>-0.439277</td>\n",
       "      <td>-0.438454</td>\n",
       "      <td>-0.746279</td>\n",
       "      <td>0.154707</td>\n",
       "      <td>0.0</td>\n",
       "      <td>-0.525029</td>\n",
       "    </tr>\n",
       "    <tr>\n",
       "      <th>...</th>\n",
       "      <td>...</td>\n",
       "      <td>...</td>\n",
       "      <td>...</td>\n",
       "      <td>...</td>\n",
       "      <td>...</td>\n",
       "      <td>...</td>\n",
       "      <td>...</td>\n",
       "      <td>...</td>\n",
       "      <td>...</td>\n",
       "      <td>...</td>\n",
       "    </tr>\n",
       "    <tr>\n",
       "      <th>991</th>\n",
       "      <td>-1.036122</td>\n",
       "      <td>-0.839079</td>\n",
       "      <td>4.874680</td>\n",
       "      <td>-0.594015</td>\n",
       "      <td>-0.439277</td>\n",
       "      <td>-0.438454</td>\n",
       "      <td>-0.746279</td>\n",
       "      <td>-0.044570</td>\n",
       "      <td>0.0</td>\n",
       "      <td>-0.525029</td>\n",
       "    </tr>\n",
       "    <tr>\n",
       "      <th>993</th>\n",
       "      <td>-0.556493</td>\n",
       "      <td>-0.126579</td>\n",
       "      <td>-0.151487</td>\n",
       "      <td>-0.594015</td>\n",
       "      <td>-0.439277</td>\n",
       "      <td>-0.484314</td>\n",
       "      <td>-0.746279</td>\n",
       "      <td>0.154707</td>\n",
       "      <td>0.0</td>\n",
       "      <td>-0.525029</td>\n",
       "    </tr>\n",
       "    <tr>\n",
       "      <th>994</th>\n",
       "      <td>3.313985</td>\n",
       "      <td>-0.122808</td>\n",
       "      <td>-0.151487</td>\n",
       "      <td>-0.594015</td>\n",
       "      <td>-0.439277</td>\n",
       "      <td>0.335860</td>\n",
       "      <td>0.560637</td>\n",
       "      <td>0.605998</td>\n",
       "      <td>0.0</td>\n",
       "      <td>2.035962</td>\n",
       "    </tr>\n",
       "    <tr>\n",
       "      <th>997</th>\n",
       "      <td>-0.071560</td>\n",
       "      <td>0.565709</td>\n",
       "      <td>-0.151487</td>\n",
       "      <td>-0.594015</td>\n",
       "      <td>-0.439277</td>\n",
       "      <td>-0.742669</td>\n",
       "      <td>-0.324425</td>\n",
       "      <td>-1.394378</td>\n",
       "      <td>0.0</td>\n",
       "      <td>-0.525029</td>\n",
       "    </tr>\n",
       "    <tr>\n",
       "      <th>998</th>\n",
       "      <td>-0.538644</td>\n",
       "      <td>1.458080</td>\n",
       "      <td>-0.151487</td>\n",
       "      <td>-0.594015</td>\n",
       "      <td>-0.439277</td>\n",
       "      <td>-0.742669</td>\n",
       "      <td>-0.746279</td>\n",
       "      <td>1.193556</td>\n",
       "      <td>0.0</td>\n",
       "      <td>0.328635</td>\n",
       "    </tr>\n",
       "  </tbody>\n",
       "</table>\n",
       "<p>7273 rows × 10 columns</p>\n",
       "</div>"
      ],
      "text/plain": [
       "      SMR_VSA1  SMR_VSA10  SMR_VSA2  SMR_VSA3  SMR_VSA4  SMR_VSA5  SMR_VSA6  \\\n",
       "10   -1.036122  -0.092389 -0.151487  2.507759 -0.439277 -0.742669  0.892621   \n",
       "999  -1.036122  -1.188383 -0.151487 -0.594015 -0.439277  0.429995 -0.746279   \n",
       "1003 -1.036122  -0.210007 -0.151487 -0.594015 -0.439277 -0.742669 -0.746279   \n",
       "1005 -1.036122  -1.188383 -0.151487  0.508951 -0.439277  0.109129 -0.074782   \n",
       "1006 -0.556493  -0.839079 -0.151487 -0.594015 -0.439277 -0.438454 -0.746279   \n",
       "...        ...        ...       ...       ...       ...       ...       ...   \n",
       "991  -1.036122  -0.839079  4.874680 -0.594015 -0.439277 -0.438454 -0.746279   \n",
       "993  -0.556493  -0.126579 -0.151487 -0.594015 -0.439277 -0.484314 -0.746279   \n",
       "994   3.313985  -0.122808 -0.151487 -0.594015 -0.439277  0.335860  0.560637   \n",
       "997  -0.071560   0.565709 -0.151487 -0.594015 -0.439277 -0.742669 -0.324425   \n",
       "998  -0.538644   1.458080 -0.151487 -0.594015 -0.439277 -0.742669 -0.746279   \n",
       "\n",
       "      SMR_VSA7  SMR_VSA8  SMR_VSA9  \n",
       "10   -1.394378       0.0 -0.525029  \n",
       "999  -1.394378       0.0 -0.525029  \n",
       "1003  0.896484       0.0  1.127048  \n",
       "1005 -0.002282       0.0 -0.525029  \n",
       "1006  0.154707       0.0 -0.525029  \n",
       "...        ...       ...       ...  \n",
       "991  -0.044570       0.0 -0.525029  \n",
       "993   0.154707       0.0 -0.525029  \n",
       "994   0.605998       0.0  2.035962  \n",
       "997  -1.394378       0.0 -0.525029  \n",
       "998   1.193556       0.0  0.328635  \n",
       "\n",
       "[7273 rows x 10 columns]"
      ]
     },
     "execution_count": 109,
     "metadata": {},
     "output_type": "execute_result"
    }
   ],
   "source": [
    "from sklearn.preprocessing import StandardScaler\n",
    "\n",
    "# Selecionando as colunas que começam com \"fr_\"\n",
    "cols_SMR = df_global.filter(regex='^SMR_VSA').columns\n",
    "\n",
    "# Aplicando a normalização apenas nessas colunas\n",
    "scaler = StandardScaler()\n",
    "df_global[cols_SMR] = scaler.fit_transform(df_global[cols_SMR])\n",
    "df_global[cols_SMR]"
   ]
  },
  {
   "cell_type": "code",
   "execution_count": 110,
   "metadata": {},
   "outputs": [
    {
     "name": "stdout",
     "output_type": "stream",
     "text": [
      "Coluna com maior média: SMR_VSA7\n",
      "Coluna com menor média: SMR_VSA5\n"
     ]
    }
   ],
   "source": [
    "# Filtrar linhas com Y=1 e selecionar colunas que começam com \"fr\"\n",
    "df_filtered = df_global.loc[df_global['Y'] == 1].filter(regex='^SMR_VSA')\n",
    "\n",
    "# Calcular a média das colunas e obter o nome da coluna com maior e menor média\n",
    "col_max = df_filtered.mean().idxmax()\n",
    "col_min = df_filtered.mean().idxmin()\n",
    "\n",
    "print(f\"Coluna com maior média: {col_max}\")\n",
    "print(f\"Coluna com menor média: {col_min}\")"
   ]
  },
  {
   "cell_type": "code",
   "execution_count": 112,
   "metadata": {},
   "outputs": [
    {
     "name": "stdout",
     "output_type": "stream",
     "text": [
      "Coluna com maior média: SMR_VSA5\n",
      "Coluna com menor média: SMR_VSA7\n"
     ]
    }
   ],
   "source": [
    "# Filtrar linhas com Y=1 e selecionar colunas que começam com \"fr\"\n",
    "df_filtered = df_global.loc[df_global['Y'] == 0].filter(regex='^SMR_VSA')\n",
    "\n",
    "# Calcular a média das colunas e obter o nome da coluna com maior e menor média\n",
    "col_max = df_filtered.mean().idxmax()\n",
    "col_min = df_filtered.mean().idxmin()\n",
    "\n",
    "print(f\"Coluna com maior média: {col_max}\")\n",
    "print(f\"Coluna com menor média: {col_min}\")"
   ]
  },
  {
   "cell_type": "code",
   "execution_count": 82,
   "metadata": {},
   "outputs": [
    {
     "data": {
      "image/png": "[encoded data removed]",
      "text/plain": [
       "<Figure size 432x288 with 1 Axes>"
      ]
     },
     "metadata": {
      "needs_background": "light"
     },
     "output_type": "display_data"
    },
    {
     "data": {
      "image/png": "[encoded data removed]",
      "text/plain": [
       "<Figure size 432x288 with 1 Axes>"
      ]
     },
     "metadata": {
      "needs_background": "light"
     },
     "output_type": "display_data"
    },
    {
     "data": {
      "image/png": "[encoded data removed]",
      "text/plain": [
       "<Figure size 432x288 with 1 Axes>"
      ]
     },
     "metadata": {
      "needs_background": "light"
     },
     "output_type": "display_data"
    },
    {
     "data": {
      "image/png": "[encoded data removed]",
      "text/plain": [
       "<Figure size 432x288 with 1 Axes>"
      ]
     },
     "metadata": {
      "needs_background": "light"
     },
     "output_type": "display_data"
    },
    {
     "data": {
      "image/png": "[encoded data removed]",
      "text/plain": [
       "<Figure size 432x288 with 1 Axes>"
      ]
     },
     "metadata": {
      "needs_background": "light"
     },
     "output_type": "display_data"
    },
    {
     "data": {
      "image/png": "[encoded data removed]",
      "text/plain": [
       "<Figure size 432x288 with 1 Axes>"
      ]
     },
     "metadata": {
      "needs_background": "light"
     },
     "output_type": "display_data"
    },
    {
     "data": {
      "image/png": "[encoded data removed]",
      "text/plain": [
       "<Figure size 432x288 with 1 Axes>"
      ]
     },
     "metadata": {
      "needs_background": "light"
     },
     "output_type": "display_data"
    },
    {
     "data": {
      "image/png": "[encoded data removed]",
      "text/plain": [
       "<Figure size 432x288 with 1 Axes>"
      ]
     },
     "metadata": {
      "needs_background": "light"
     },
     "output_type": "display_data"
    },
    {
     "data": {
      "image/png": "[encoded data removed]",
      "text/plain": [
       "<Figure size 432x288 with 1 Axes>"
      ]
     },
     "metadata": {
      "needs_background": "light"
     },
     "output_type": "display_data"
    },
    {
     "data": {
      "image/png": "[encoded data removed]",
      "text/plain": [
       "<Figure size 432x288 with 1 Axes>"
      ]
     },
     "metadata": {
      "needs_background": "light"
     },
     "output_type": "display_data"
    }
   ],
   "source": [
    "import seaborn as sns\n",
    "\n",
    "import matplotlib.pyplot as plt\n",
    "\n",
    "cols_smr_vsa = [col for col in df_global.columns if 'SMR_VSA' in col]\n",
    "\n",
    "for col in cols_smr_vsa:\n",
    "    plt.scatter(df_global[col], df_global['Y'])\n",
    "    plt.xlabel(col)\n",
    "    plt.ylabel('Y')\n",
    "    plt.show()\n",
    "\n",
    "\n"
   ]
  },
  {
   "cell_type": "code",
   "execution_count": 90,
   "metadata": {},
   "outputs": [
    {
     "name": "stdout",
     "output_type": "stream",
     "text": [
      "Coluna: SMR_VSA1\n",
      "Estatística: 0.838, Valor p: 0.000\n",
      "A distribuição não é normal\n",
      "Coluna: SMR_VSA10\n",
      "Estatística: 0.895, Valor p: 0.000\n",
      "A distribuição não é normal\n",
      "Coluna: SMR_VSA2\n",
      "Estatística: 0.137, Valor p: 0.000\n",
      "A distribuição não é normal\n",
      "Coluna: SMR_VSA3\n",
      "Estatística: 0.652, Valor p: 0.000\n",
      "A distribuição não é normal\n",
      "Coluna: SMR_VSA4\n",
      "Estatística: 0.499, Valor p: 0.000\n",
      "A distribuição não é normal\n",
      "Coluna: SMR_VSA5\n",
      "Estatística: 0.715, Valor p: 0.000\n",
      "A distribuição não é normal\n",
      "Coluna: SMR_VSA6\n",
      "Estatística: 0.744, Valor p: 0.000\n",
      "A distribuição não é normal\n",
      "Coluna: SMR_VSA7\n",
      "Estatística: 0.955, Valor p: 0.000\n",
      "A distribuição não é normal\n",
      "Coluna: SMR_VSA8\n",
      "Estatística: 1.000, Valor p: 1.000\n",
      "A distribuição é normal\n",
      "Coluna: SMR_VSA9\n",
      "Estatística: 0.594, Valor p: 0.000\n",
      "A distribuição não é normal\n"
     ]
    },
    {
     "name": "stderr",
     "output_type": "stream",
     "text": [
      "c:\\Users\\guilh\\anaconda3\\lib\\site-packages\\scipy\\stats\\morestats.py:1760: UserWarning: p-value may not be accurate for N > 5000.\n",
      "  warnings.warn(\"p-value may not be accurate for N > 5000.\")\n",
      "c:\\Users\\guilh\\anaconda3\\lib\\site-packages\\scipy\\stats\\morestats.py:1757: UserWarning: Input data for shapiro has range zero. The results may not be accurate.\n",
      "  warnings.warn(\"Input data for shapiro has range zero. The results \"\n"
     ]
    }
   ],
   "source": [
    "from scipy.stats import shapiro\n",
    "\n",
    "# Selecionar as colunas SMR_VSA\n",
    "cols_smr_vsa = [col for col in df_global.columns if col.startswith('SMR_VSA')]\n",
    "\n",
    "# Loop sobre as colunas SMR_VSA\n",
    "for col in cols_smr_vsa:\n",
    "    # Teste de normalidade para a coluna\n",
    "    stat, p = shapiro(df_global[col])\n",
    "    \n",
    "    # Imprime os resultados\n",
    "    print(f'Coluna: {col}')\n",
    "    print(f'Estatística: {stat:.3f}, Valor p: {p:.3f}')\n",
    "\n",
    "    # Verifica se a distribuição é normal com nível de significância de 5%\n",
    "    if p > 0.05:\n",
    "        print('A distribuição é normal')\n",
    "    else:\n",
    "        print('A distribuição não é normal')\n"
   ]
  },
  {
   "cell_type": "code",
   "execution_count": 117,
   "metadata": {},
   "outputs": [
    {
     "name": "stdout",
     "output_type": "stream",
     "text": [
      "MaxEStateIndex    17.286264\n",
      "Y                       Y=1\n",
      "dtype: object\n"
     ]
    },
    {
     "data": {
      "image/png": "[encoded data removed]",
      "text/plain": [
       "<Figure size 432x288 with 1 Axes>"
      ]
     },
     "metadata": {
      "needs_background": "light"
     },
     "output_type": "display_data"
    }
   ],
   "source": [
    "import seaborn as sns\n",
    "\n",
    "# Filtrar os dados para y=1 e y=0\n",
    "df_y1 = df_global[df_global['Y'] == 1]\n",
    "df_y0 = df_global[df_global['Y'] == 0]\n",
    "\n",
    "# Criar um DataFrame com as colunas relevantes\n",
    "df_boxplot = pd.DataFrame({'MaxEStateIndex': df_global['MaxEStateIndex'],\n",
    "                           'Y': df_global['Y'].replace({1: 'Y=1', 0: 'Y=0'})})\n",
    "print(df_boxplot.max())\n",
    "\n",
    "# Criar o boxplot com as médias\n",
    "sns.boxplot(x='Y', y='MaxEStateIndex', data=df_boxplot, showmeans=True)\n",
    "\n",
    "# Mostrar o gráfico\n",
    "plt.show()\n"
   ]
  },
  {
   "cell_type": "code",
   "execution_count": 119,
   "metadata": {},
   "outputs": [
    {
     "name": "stdout",
     "output_type": "stream",
     "text": [
      "9.289491675037775\n"
     ]
    },
    {
     "data": {
      "image/png": "[encoded data removed]",
      "text/plain": [
       "<Figure size 432x288 with 1 Axes>"
      ]
     },
     "metadata": {
      "needs_background": "light"
     },
     "output_type": "display_data"
    }
   ],
   "source": [
    "# separar os dados por valor de Y\n",
    "df_y1 = df_global[df_global['Y'] == 1]\n",
    "df_y0 = df_global[df_global['Y'] == 0]\n",
    "\n",
    "# calcular a média de MaxEStateIndex em cada grupo\n",
    "mean_y1 = df_y1['MaxEStateIndex'].mean()\n",
    "print(mean_y1)\n",
    "mean_y0 = df_y0['MaxEStateIndex'].mean()\n",
    "\n",
    "# criar o boxplot com as médias\n",
    "sns.boxplot(x='Y', y='MaxEStateIndex', data=df_boxplot, showmeans=True, meanprops={\"marker\":\"o\",\n",
    "                       \"markerfacecolor\":\"white\", \n",
    "                       \"markeredgecolor\":\"black\",\n",
    "                      \"markersize\":\"10\"})\n",
    "plt.plot([0, 1], [mean_y0, mean_y1], marker='o', color='red', linestyle='--')\n",
    "plt.show()\n"
   ]
  },
  {
   "cell_type": "code",
   "execution_count": 121,
   "metadata": {},
   "outputs": [
    {
     "data": {
      "text/html": [
       "<div>\n",
       "<style scoped>\n",
       "    .dataframe tbody tr th:only-of-type {\n",
       "        vertical-align: middle;\n",
       "    }\n",
       "\n",
       "    .dataframe tbody tr th {\n",
       "        vertical-align: top;\n",
       "    }\n",
       "\n",
       "    .dataframe thead th {\n",
       "        text-align: right;\n",
       "    }\n",
       "</style>\n",
       "<table border=\"1\" class=\"dataframe\">\n",
       "  <thead>\n",
       "    <tr style=\"text-align: right;\">\n",
       "      <th></th>\n",
       "      <th>MaxEStateIndex</th>\n",
       "      <th>SMR_VSA1</th>\n",
       "      <th>Y</th>\n",
       "    </tr>\n",
       "  </thead>\n",
       "  <tbody>\n",
       "    <tr>\n",
       "      <th>6175</th>\n",
       "      <td>17.286264</td>\n",
       "      <td>3.108051</td>\n",
       "      <td>0</td>\n",
       "    </tr>\n",
       "    <tr>\n",
       "      <th>5396</th>\n",
       "      <td>16.859064</td>\n",
       "      <td>1.818195</td>\n",
       "      <td>0</td>\n",
       "    </tr>\n",
       "    <tr>\n",
       "      <th>4765</th>\n",
       "      <td>15.351137</td>\n",
       "      <td>0.817620</td>\n",
       "      <td>1</td>\n",
       "    </tr>\n",
       "    <tr>\n",
       "      <th>6756</th>\n",
       "      <td>15.351137</td>\n",
       "      <td>0.817620</td>\n",
       "      <td>1</td>\n",
       "    </tr>\n",
       "    <tr>\n",
       "      <th>2471</th>\n",
       "      <td>15.192673</td>\n",
       "      <td>0.783869</td>\n",
       "      <td>1</td>\n",
       "    </tr>\n",
       "  </tbody>\n",
       "</table>\n",
       "</div>"
      ],
      "text/plain": [
       "      MaxEStateIndex  SMR_VSA1  Y\n",
       "6175       17.286264  3.108051  0\n",
       "5396       16.859064  1.818195  0\n",
       "4765       15.351137  0.817620  1\n",
       "6756       15.351137  0.817620  1\n",
       "2471       15.192673  0.783869  1"
      ]
     },
     "execution_count": 121,
     "metadata": {},
     "output_type": "execute_result"
    }
   ],
   "source": [
    "df_global.loc[df_global['MaxEStateIndex'].nlargest(5).index, ['MaxEStateIndex', 'SMR_VSA1', 'Y']]\n"
   ]
  },
  {
   "cell_type": "code",
   "execution_count": 114,
   "metadata": {},
   "outputs": [
    {
     "name": "stdout",
     "output_type": "stream",
     "text": [
      "t-statistic: -2.2548\n",
      "p-value: 0.0242\n"
     ]
    }
   ],
   "source": [
    "from scipy.stats import ttest_ind\n",
    "import seaborn as sns\n",
    "\n",
    "# separar os dados em duas amostras (y=1 e y=0)\n",
    "max_estate_y1 = df_global.loc[df_global['Y'] == 1, 'MaxEStateIndex']\n",
    "max_estate_y0 = df_global.loc[df_global['Y'] == 0, 'MaxEStateIndex']\n",
    "\n",
    "t_stat, p_value = ttest_ind(max_estate_y1, max_estate_y0)\n",
    "print(f't-statistic: {t_stat:.4f}')\n",
    "print(f'p-value: {p_value:.4f}')"
   ]
  },
  {
   "attachments": {},
   "cell_type": "markdown",
   "metadata": {},
   "source": [
    "# Machine Leraning\n"
   ]
  },
  {
   "cell_type": "code",
   "execution_count": 9,
   "metadata": {},
   "outputs": [
    {
     "name": "stderr",
     "output_type": "stream",
     "text": [
      "/Users/utilizador/opt/anaconda3/lib/python3.9/site-packages/sklearn/preprocessing/_data.py:235: UserWarning: Numerical issues were encountered when centering the data and might not be solved. Dataset may contain too large values. You may need to prescale your features.\n",
      "  warnings.warn(\n"
     ]
    }
   ],
   "source": [
    "from sklearn import preprocessing\n",
    "array_df = preprocessing.scale(df_features)\n",
    "data_scale =  pd.DataFrame(array_df, index =df_features.index , columns = df_features.columns)"
   ]
  },
  {
   "cell_type": "code",
   "execution_count": 10,
   "metadata": {},
   "outputs": [
    {
     "name": "stdout",
     "output_type": "stream",
     "text": [
      "Var. explicada: [0.17022739 0.07935862 0.05283115 0.0383773  0.0324881  0.03058047\n",
      " 0.02723756 0.02328309 0.02083347 0.01846112 0.01738152 0.01693137\n",
      " 0.0148588  0.01305478 0.01173264 0.01172345 0.01116671 0.01025196\n",
      " 0.00982519 0.00949704 0.00922668 0.00874012 0.00848465 0.00807933\n",
      " 0.00770147 0.00756836 0.00741676 0.00711398 0.00671875 0.00656394\n",
      " 0.00633357]\n",
      "Soma: 70.4049327518595 %\n"
     ]
    },
    {
     "data": {
      "image/png": "[encoded data removed]",
      "text/plain": [
       "<Figure size 432x288 with 1 Axes>"
      ]
     },
     "metadata": {
      "needs_background": "light"
     },
     "output_type": "display_data"
    }
   ],
   "source": [
    "#Estamos a trabalhar com 71 componentes principais pois temos como obetivo obter 90% do dados\n",
    "\n",
    "from sklearn.decomposition import PCA\n",
    "n=31\n",
    "pca_ames = PCA(n_components=n)\n",
    "pca_ames.fit(data_scale)\n",
    "X_r = pca_ames.transform(data_scale) \n",
    "\n",
    "print('Var. explicada: %s'% str(pca_ames.explained_variance_ratio_))\n",
    "print('Soma:', sum(pca_ames.explained_variance_ratio_) * 100, \"%\")\n",
    "\n",
    "plt.bar(range(n), pca_ames.explained_variance_ratio_*100)\n",
    "#plt.xticks(range(n), ['PC'+str(i) for i in range(1, n+1)])\n",
    "plt.title(\"Variância explicada po PC\")\n",
    "plt.ylabel(\"Percentagem\")\n",
    "plt.show()"
   ]
  },
  {
   "cell_type": "code",
   "execution_count": 11,
   "metadata": {},
   "outputs": [
    {
     "name": "stdout",
     "output_type": "stream",
     "text": [
      "PCA(n_components=31)\n"
     ]
    }
   ],
   "source": [
    "print(pca_ames)"
   ]
  },
  {
   "cell_type": "code",
   "execution_count": null,
   "metadata": {},
   "outputs": [],
   "source": []
  }
 ],
 "metadata": {
  "kernelspec": {
   "display_name": "Python 3",
   "language": "python",
   "name": "python3"
  },
  "language_info": {
   "codemirror_mode": {
    "name": "ipython",
    "version": 3
   },
   "file_extension": ".py",
   "mimetype": "text/x-python",
   "name": "python",
   "nbconvert_exporter": "python",
   "pygments_lexer": "ipython3",
   "version": "3.9.12"
  },
  "orig_nbformat": 4
 },
 "nbformat": 4,
 "nbformat_minor": 2
}
